{
 "cells": [
  {
   "cell_type": "markdown",
   "metadata": {
    "id": "rbKB5NBBoy9-",
    "pycharm": {
     "name": "#%% md\n"
    }
   },
   "source": [
    "# Using pre-trained word embeddings\n",
    "\n",
    "**Author:** [fchollet](https://twitter.com/fchollet)<br>\n",
    "**Date created:** 2020/05/05<br>\n",
    "**Last modified:** 2020/05/05<br>\n",
    "**Description:** Text classification on the Newsgroup20 dataset using pre-trained GloVe word embeddings."
   ]
  },
  {
   "cell_type": "markdown",
   "metadata": {
    "id": "gzMe1Rhnoy-C",
    "pycharm": {
     "name": "#%% md\n"
    }
   },
   "source": [
    "## Setup"
   ]
  },
  {
   "cell_type": "code",
   "execution_count": 18,
   "metadata": {
    "id": "jII5hdpIoy-D",
    "pycharm": {
     "name": "#%%\n"
    }
   },
   "outputs": [],
   "source": [
    "import numpy as np\n",
    "import tensorflow as tf\n",
    "from tensorflow import keras"
   ]
  },
  {
   "cell_type": "markdown",
   "metadata": {
    "id": "tTD1ciwvoy-F",
    "pycharm": {
     "name": "#%% md\n"
    }
   },
   "source": [
    "## Introduction\n",
    "\n",
    "In this example, we show how to train a text classification model that uses pre-trained\n",
    "word embeddings.\n",
    "\n",
    "We'll work with the Newsgroup20 dataset, a set of 20,000 message board messages\n",
    "belonging to 20 different topic categories.\n",
    "\n",
    "For the pre-trained word embeddings, we'll use\n",
    "[GloVe embeddings](http://nlp.stanford.edu/projects/glove/)."
   ]
  },
  {
   "cell_type": "markdown",
   "metadata": {
    "id": "gmEAGCPjoy-F",
    "pycharm": {
     "name": "#%% md\n"
    }
   },
   "source": [
    "## Download the Newsgroup20 data"
   ]
  },
  {
   "cell_type": "code",
   "execution_count": 19,
   "metadata": {
    "id": "lDODeQy5oy-G",
    "pycharm": {
     "name": "#%%\n"
    }
   },
   "outputs": [
    {
     "name": "stdout",
     "output_type": "stream",
     "text": [
      "C:\\Users\\zyt\\.keras\\datasets\\news20\n"
     ]
    }
   ],
   "source": [
    "data_path = keras.utils.get_file(\n",
    "    \"news20.tar.gz\",\n",
    "    \"http://www.cs.cmu.edu/afs/cs.cmu.edu/project/theo-20/www/data/news20.tar.gz\",\n",
    "    untar=True,\n",
    ")\n",
    "print(data_path)"
   ]
  },
  {
   "cell_type": "markdown",
   "metadata": {
    "id": "IJe84FrAoy-G",
    "pycharm": {
     "name": "#%% md\n"
    }
   },
   "source": [
    "## Let's take a look at the data"
   ]
  },
  {
   "cell_type": "code",
   "execution_count": 20,
   "metadata": {
    "id": "WjlSZqHyoy-H",
    "pycharm": {
     "name": "#%%\n"
    }
   },
   "outputs": [
    {
     "name": "stdout",
     "output_type": "stream",
     "text": [
      "Number of directories: 20\n",
      "Directory names: ['alt.atheism', 'comp.graphics', 'comp.os.ms-windows.misc', 'comp.sys.ibm.pc.hardware', 'comp.sys.mac.hardware', 'comp.windows.x', 'misc.forsale', 'rec.autos', 'rec.motorcycles', 'rec.sport.baseball', 'rec.sport.hockey', 'sci.crypt', 'sci.electronics', 'sci.med', 'sci.space', 'soc.religion.christian', 'talk.politics.guns', 'talk.politics.mideast', 'talk.politics.misc', 'talk.religion.misc']\n",
      "Number of files in comp.graphics: 1000\n",
      "Some example filenames: ['37261', '37913', '37914', '37915', '37916']\n"
     ]
    }
   ],
   "source": [
    "import os\n",
    "import pathlib\n",
    "\n",
    "data_dir = pathlib.Path(data_path).parent / \"20_newsgroup\"\n",
    "dirnames = os.listdir(data_dir)\n",
    "print(\"Number of directories:\", len(dirnames))\n",
    "print(\"Directory names:\", dirnames)\n",
    "\n",
    "fnames = os.listdir(data_dir / \"comp.graphics\")\n",
    "print(\"Number of files in comp.graphics:\", len(fnames))\n",
    "print(\"Some example filenames:\", fnames[:5])"
   ]
  },
  {
   "cell_type": "markdown",
   "metadata": {
    "id": "--XdZMxxoy-I",
    "pycharm": {
     "name": "#%% md\n"
    }
   },
   "source": [
    "Here's a example of what one file contains:"
   ]
  },
  {
   "cell_type": "code",
   "execution_count": 21,
   "metadata": {
    "id": "yXu9OCF7oy-J",
    "pycharm": {
     "name": "#%%\n"
    }
   },
   "outputs": [
    {
     "name": "stdout",
     "output_type": "stream",
     "text": [
      "Newsgroups: comp.graphics\n",
      "Path: cantaloupe.srv.cs.cmu.edu!das-news.harvard.edu!noc.near.net!howland.reston.ans.net!agate!dog.ee.lbl.gov!network.ucsd.edu!usc!rpi!nason110.its.rpi.edu!mabusj\n",
      "From: mabusj@nason110.its.rpi.edu (Jasen M. Mabus)\n",
      "Subject: Looking for Brain in CAD\n",
      "Message-ID: <c285m+p@rpi.edu>\n",
      "Nntp-Posting-Host: nason110.its.rpi.edu\n",
      "Reply-To: mabusj@rpi.edu\n",
      "Organization: Rensselaer Polytechnic Institute, Troy, NY.\n",
      "Date: Thu, 29 Apr 1993 23:27:20 GMT\n",
      "Lines: 7\n",
      "\n",
      "Jasen Mabus\n",
      "RPI student\n",
      "\n",
      "\tI am looking for a hman brain in any CAD (.dxf,.cad,.iges,.cgm,etc.) or picture (.gif,.jpg,.ras,etc.) format for an animation demonstration. If any has or knows of a location please reply by e-mail to mabusj@rpi.edu.\n",
      "\n",
      "Thank you in advance,\n",
      "Jasen Mabus  \n",
      "\n"
     ]
    }
   ],
   "source": [
    "print(open(data_dir / \"comp.graphics\" / \"38987\").read())"
   ]
  },
  {
   "cell_type": "markdown",
   "metadata": {
    "id": "mWIuYMQ8oy-J",
    "pycharm": {
     "name": "#%% md\n"
    }
   },
   "source": [
    "As you can see, there are header lines that are leaking the file's category, either\n",
    "explicitly (the first line is literally the category name), or implicitly, e.g. via the\n",
    "`Organization` filed. Let's get rid of the headers:"
   ]
  },
  {
   "cell_type": "code",
   "execution_count": 22,
   "metadata": {
    "id": "NAIavA81oy-K",
    "pycharm": {
     "name": "#%%\n"
    }
   },
   "outputs": [
    {
     "name": "stdout",
     "output_type": "stream",
     "text": [
      "data_dir C:\\Users\\zyt\\.keras\\datasets\\20_newsgroup dirname alt.atheism dirpath C:\\Users\\zyt\\.keras\\datasets\\20_newsgroup\\alt.atheism\n",
      "Processing alt.atheism, 1000 files found\n",
      "data_dir C:\\Users\\zyt\\.keras\\datasets\\20_newsgroup dirname comp.graphics dirpath C:\\Users\\zyt\\.keras\\datasets\\20_newsgroup\\comp.graphics\n",
      "Processing comp.graphics, 1000 files found\n",
      "data_dir C:\\Users\\zyt\\.keras\\datasets\\20_newsgroup dirname comp.os.ms-windows.misc dirpath C:\\Users\\zyt\\.keras\\datasets\\20_newsgroup\\comp.os.ms-windows.misc\n",
      "Processing comp.os.ms-windows.misc, 1000 files found\n",
      "data_dir C:\\Users\\zyt\\.keras\\datasets\\20_newsgroup dirname comp.sys.ibm.pc.hardware dirpath C:\\Users\\zyt\\.keras\\datasets\\20_newsgroup\\comp.sys.ibm.pc.hardware\n",
      "Processing comp.sys.ibm.pc.hardware, 1000 files found\n",
      "data_dir C:\\Users\\zyt\\.keras\\datasets\\20_newsgroup dirname comp.sys.mac.hardware dirpath C:\\Users\\zyt\\.keras\\datasets\\20_newsgroup\\comp.sys.mac.hardware\n",
      "Processing comp.sys.mac.hardware, 1000 files found\n",
      "data_dir C:\\Users\\zyt\\.keras\\datasets\\20_newsgroup dirname comp.windows.x dirpath C:\\Users\\zyt\\.keras\\datasets\\20_newsgroup\\comp.windows.x\n",
      "Processing comp.windows.x, 1000 files found\n",
      "data_dir C:\\Users\\zyt\\.keras\\datasets\\20_newsgroup dirname misc.forsale dirpath C:\\Users\\zyt\\.keras\\datasets\\20_newsgroup\\misc.forsale\n",
      "Processing misc.forsale, 1000 files found\n",
      "data_dir C:\\Users\\zyt\\.keras\\datasets\\20_newsgroup dirname rec.autos dirpath C:\\Users\\zyt\\.keras\\datasets\\20_newsgroup\\rec.autos\n",
      "Processing rec.autos, 1000 files found\n",
      "data_dir C:\\Users\\zyt\\.keras\\datasets\\20_newsgroup dirname rec.motorcycles dirpath C:\\Users\\zyt\\.keras\\datasets\\20_newsgroup\\rec.motorcycles\n",
      "Processing rec.motorcycles, 1000 files found\n",
      "data_dir C:\\Users\\zyt\\.keras\\datasets\\20_newsgroup dirname rec.sport.baseball dirpath C:\\Users\\zyt\\.keras\\datasets\\20_newsgroup\\rec.sport.baseball\n",
      "Processing rec.sport.baseball, 1000 files found\n",
      "data_dir C:\\Users\\zyt\\.keras\\datasets\\20_newsgroup dirname rec.sport.hockey dirpath C:\\Users\\zyt\\.keras\\datasets\\20_newsgroup\\rec.sport.hockey\n",
      "Processing rec.sport.hockey, 1000 files found\n",
      "data_dir C:\\Users\\zyt\\.keras\\datasets\\20_newsgroup dirname sci.crypt dirpath C:\\Users\\zyt\\.keras\\datasets\\20_newsgroup\\sci.crypt\n",
      "Processing sci.crypt, 1000 files found\n",
      "data_dir C:\\Users\\zyt\\.keras\\datasets\\20_newsgroup dirname sci.electronics dirpath C:\\Users\\zyt\\.keras\\datasets\\20_newsgroup\\sci.electronics\n",
      "Processing sci.electronics, 1000 files found\n",
      "data_dir C:\\Users\\zyt\\.keras\\datasets\\20_newsgroup dirname sci.med dirpath C:\\Users\\zyt\\.keras\\datasets\\20_newsgroup\\sci.med\n",
      "Processing sci.med, 1000 files found\n",
      "data_dir C:\\Users\\zyt\\.keras\\datasets\\20_newsgroup dirname sci.space dirpath C:\\Users\\zyt\\.keras\\datasets\\20_newsgroup\\sci.space\n",
      "Processing sci.space, 1000 files found\n",
      "data_dir C:\\Users\\zyt\\.keras\\datasets\\20_newsgroup dirname soc.religion.christian dirpath C:\\Users\\zyt\\.keras\\datasets\\20_newsgroup\\soc.religion.christian\n",
      "Processing soc.religion.christian, 997 files found\n",
      "data_dir C:\\Users\\zyt\\.keras\\datasets\\20_newsgroup dirname talk.politics.guns dirpath C:\\Users\\zyt\\.keras\\datasets\\20_newsgroup\\talk.politics.guns\n",
      "Processing talk.politics.guns, 1000 files found\n",
      "data_dir C:\\Users\\zyt\\.keras\\datasets\\20_newsgroup dirname talk.politics.mideast dirpath C:\\Users\\zyt\\.keras\\datasets\\20_newsgroup\\talk.politics.mideast\n",
      "Processing talk.politics.mideast, 1000 files found\n",
      "data_dir C:\\Users\\zyt\\.keras\\datasets\\20_newsgroup dirname talk.politics.misc dirpath C:\\Users\\zyt\\.keras\\datasets\\20_newsgroup\\talk.politics.misc\n",
      "Processing talk.politics.misc, 1000 files found\n",
      "data_dir C:\\Users\\zyt\\.keras\\datasets\\20_newsgroup dirname talk.religion.misc dirpath C:\\Users\\zyt\\.keras\\datasets\\20_newsgroup\\talk.religion.misc\n",
      "Processing talk.religion.misc, 1000 files found\n",
      "Classes: ['alt.atheism', 'comp.graphics', 'comp.os.ms-windows.misc', 'comp.sys.ibm.pc.hardware', 'comp.sys.mac.hardware', 'comp.windows.x', 'misc.forsale', 'rec.autos', 'rec.motorcycles', 'rec.sport.baseball', 'rec.sport.hockey', 'sci.crypt', 'sci.electronics', 'sci.med', 'sci.space', 'soc.religion.christian', 'talk.politics.guns', 'talk.politics.mideast', 'talk.politics.misc', 'talk.religion.misc']\n",
      "Number of samples: 19997\n"
     ]
    }
   ],
   "source": [
    "samples = []\n",
    "labels = []\n",
    "class_names = []\n",
    "class_index = 0\n",
    "i=1\n",
    "for dirname in sorted(os.listdir(data_dir)):\n",
    "    class_names.append(dirname)\n",
    "    dirpath = data_dir / dirname\n",
    "    fnames = os.listdir(dirpath)\n",
    "    print(\"data_dir\",data_dir,\"dirname\",dirname,\"dirpath\",dirpath)\n",
    "\n",
    "    print(\"Processing %s, %d files found\" % (dirname, len(fnames)))\n",
    "    i+=1\n",
    "    for fname in fnames:\n",
    "        i+=1\n",
    "        fpath = dirpath / fname\n",
    "        f = open(fpath, encoding=\"latin-1\")\n",
    "        content = f.read()\n",
    "        lines = content.split(\"\\n\")\n",
    "        lines = lines[10:]\n",
    "        # if i%997==0:\n",
    "        #     print(\"dirpath\",dirpath,\"\\ncontent\",content)\n",
    "        #     content = \"\\n\".join(lines)\n",
    "        #     print(\"new content\\n\",content)\n",
    "        content = \"\\n\".join(lines)\n",
    "        samples.append(content)\n",
    "        labels.append(class_index)\n",
    "    class_index += 1\n",
    "\n",
    "print(\"Classes:\", class_names)\n",
    "print(\"Number of samples:\", len(samples))"
   ]
  },
  {
   "cell_type": "markdown",
   "metadata": {
    "id": "WVOZsoHOoy-K",
    "pycharm": {
     "name": "#%% md\n"
    }
   },
   "source": [
    "There's actually one category that doesn't have the expected number of files, but the\n",
    "difference is small enough that the problem remains a balanced classification problem."
   ]
  },
  {
   "cell_type": "markdown",
   "metadata": {
    "id": "xpnSU9-coy-L",
    "pycharm": {
     "name": "#%% md\n"
    }
   },
   "source": [
    "## Shuffle and split the data into training & validation sets"
   ]
  },
  {
   "cell_type": "code",
   "execution_count": 23,
   "metadata": {
    "id": "ZGYwRHkooy-L",
    "pycharm": {
     "name": "#%%\n"
    }
   },
   "outputs": [],
   "source": [
    "# Shuffle the data\n",
    "seed = 1337\n",
    "rng = np.random.RandomState(seed)\n",
    "rng.shuffle(samples)\n",
    "rng = np.random.RandomState(seed)\n",
    "rng.shuffle(labels)\n",
    "\n",
    "# Extract a training & validation split\n",
    "validation_split = 0.2\n",
    "num_validation_samples = int(validation_split * len(samples))\n",
    "train_samples = samples[:-num_validation_samples]\n",
    "val_samples = samples[-num_validation_samples:]\n",
    "train_labels = labels[:-num_validation_samples]\n",
    "val_labels = labels[-num_validation_samples:]"
   ]
  },
  {
   "cell_type": "markdown",
   "metadata": {
    "id": "D-sObhkxoy-M",
    "pycharm": {
     "name": "#%% md\n"
    }
   },
   "source": [
    "## Create a vocabulary index\n",
    "\n",
    "Let's use the `TextVectorization` to index the vocabulary found in the dataset.\n",
    "Later, we'll use the same layer instance to vectorize the samples.\n",
    "\n",
    "Our layer will only consider the top 20,000 words, and will truncate or pad sequences to\n",
    "be actually 200 tokens long."
   ]
  },
  {
   "cell_type": "code",
   "execution_count": 24,
   "metadata": {
    "id": "1xx0SnhFoy-M",
    "pycharm": {
     "name": "#%%\n"
    }
   },
   "outputs": [],
   "source": [
    "# from tensorflow.python import keras\n",
    "from keras.layers import TextVectorization\n",
    "\n",
    "vectorizer = TextVectorization(max_tokens=20000, output_sequence_length=200)\n",
    "text_ds = tf.data.Dataset.from_tensor_slices(train_samples).batch(128)\n",
    "vectorizer.adapt(text_ds)"
   ]
  },
  {
   "cell_type": "markdown",
   "metadata": {
    "id": "yQXac9Pioy-N",
    "pycharm": {
     "name": "#%% md\n"
    }
   },
   "source": [
    "You can retrieve the computed vocabulary used via `vectorizer.get_vocabulary()`. Let's\n",
    "print the top 5 words:"
   ]
  },
  {
   "cell_type": "code",
   "execution_count": 25,
   "metadata": {
    "id": "Cyp0FtRJoy-N",
    "pycharm": {
     "name": "#%%\n"
    }
   },
   "outputs": [
    {
     "data": {
      "text/plain": "['', '[UNK]', 'the', 'to', 'of']"
     },
     "execution_count": 25,
     "metadata": {},
     "output_type": "execute_result"
    }
   ],
   "source": [
    "vectorizer.get_vocabulary()[:5]"
   ]
  },
  {
   "cell_type": "markdown",
   "metadata": {
    "id": "pvnuDIqhoy-O",
    "pycharm": {
     "name": "#%% md\n"
    }
   },
   "source": [
    "Let's vectorize a test sentence:"
   ]
  },
  {
   "cell_type": "code",
   "execution_count": 26,
   "metadata": {
    "id": "K_v95oVToy-O",
    "pycharm": {
     "name": "#%%\n"
    }
   },
   "outputs": [
    {
     "data": {
      "text/plain": "array([   2, 3457, 1682,   15,    2, 5776], dtype=int64)"
     },
     "execution_count": 26,
     "metadata": {},
     "output_type": "execute_result"
    }
   ],
   "source": [
    "output = vectorizer([[\"the cat sat on the mat\"]])\n",
    "output.numpy()[0, :6]"
   ]
  },
  {
   "cell_type": "markdown",
   "metadata": {
    "id": "prU4MeCAoy-O",
    "pycharm": {
     "name": "#%% md\n"
    }
   },
   "source": [
    "As you can see, \"the\" gets represented as \"2\". Why not 0, given that \"the\" was the first\n",
    "word in the vocabulary? That's because index 0 is reserved for padding and index 1 is\n",
    "reserved for \"out of vocabulary\" tokens.\n",
    "\n",
    "Here's a dict mapping words to their indices:"
   ]
  },
  {
   "cell_type": "code",
   "execution_count": 27,
   "metadata": {
    "id": "oxe4ZcA-oy-P",
    "pycharm": {
     "name": "#%%\n"
    }
   },
   "outputs": [],
   "source": [
    "voc = vectorizer.get_vocabulary()\n",
    "word_index = dict(zip(voc, range(len(voc))))"
   ]
  },
  {
   "cell_type": "markdown",
   "metadata": {
    "id": "P4ogBJ0yoy-P",
    "pycharm": {
     "name": "#%% md\n"
    }
   },
   "source": [
    "As you can see, we obtain the same encoding as above for our test sentence:"
   ]
  },
  {
   "cell_type": "code",
   "execution_count": 28,
   "metadata": {
    "id": "IhOnBonhoy-P",
    "pycharm": {
     "name": "#%%\n"
    }
   },
   "outputs": [
    {
     "data": {
      "text/plain": "[2, 3457, 1682, 15, 2, 5776]"
     },
     "execution_count": 28,
     "metadata": {},
     "output_type": "execute_result"
    }
   ],
   "source": [
    "test = [\"the\", \"cat\", \"sat\", \"on\", \"the\", \"mat\"]\n",
    "[word_index[w] for w in test]"
   ]
  },
  {
   "cell_type": "markdown",
   "metadata": {
    "id": "Fy-d-1uHoy-Q",
    "pycharm": {
     "name": "#%% md\n"
    }
   },
   "source": [
    "## Load pre-trained word embeddings"
   ]
  },
  {
   "cell_type": "markdown",
   "metadata": {
    "id": "eMAFZMHcoy-Q",
    "pycharm": {
     "name": "#%% md\n"
    }
   },
   "source": [
    "Let's download pre-trained GloVe embeddings (a 822M zip file).\n",
    "\n",
    "You'll need to run the following commands:\n",
    "\n",
    "```\n",
    "!wget http://nlp.stanford.edu/data/glove.6B.zip\n",
    "!unzip -q glove.6B.zip\n",
    "```"
   ]
  },
  {
   "cell_type": "markdown",
   "metadata": {
    "id": "ATkHYarEoy-Q",
    "pycharm": {
     "name": "#%% md\n"
    }
   },
   "source": [
    "The archive contains text-encoded vectors of various sizes: 50-dimensional,\n",
    "100-dimensional, 200-dimensional, 300-dimensional. We'll use the 100D ones.\n",
    "\n",
    "Let's make a dict mapping words (strings) to their NumPy vector representation:"
   ]
  },
  {
   "cell_type": "code",
   "execution_count": 29,
   "metadata": {
    "id": "9ONFZSjkoy-Q",
    "pycharm": {
     "name": "#%%\n"
    }
   },
   "outputs": [
    {
     "name": "stdout",
     "output_type": "stream",
     "text": [
      "Found 400000 word vectors.\n"
     ]
    }
   ],
   "source": [
    "# !wget https://nlp.stanford.edu/data/glove.6B.zip\n",
    "# !unzip -q glove.6B.zip\n",
    "path_to_glove_file = os.path.join(\n",
    "    os.path.expanduser(\"~\"), \".keras/datasets/glove.6B.100d.txt\"\n",
    ")\n",
    "# path_to_glove_file=\"D:\\OneDrive - Moe, Inc\\Desktop\\Multimodality\\新建文件夹\\glove.6B.100d.txt\"\n",
    "embeddings_index = {}\n",
    "with open(path_to_glove_file,encoding=\"utf-8\") as f:\n",
    "    for line in f:\n",
    "        word, coefs = line.split(maxsplit=1)\n",
    "        coefs = np.fromstring(coefs, \"f\", sep=\" \")\n",
    "        embeddings_index[word] = coefs\n",
    "\n",
    "print(\"Found %s word vectors.\" % len(embeddings_index))"
   ]
  },
  {
   "cell_type": "markdown",
   "metadata": {
    "id": "7qicOpYIoy-R",
    "pycharm": {
     "name": "#%% md\n"
    }
   },
   "source": [
    "Now, let's prepare a corresponding embedding matrix that we can use in a Keras\n",
    "`Embedding` layer. It's a simple NumPy matrix where entry at index `i` is the pre-trained\n",
    "vector for the word of index `i` in our `vectorizer`'s vocabulary."
   ]
  },
  {
   "cell_type": "code",
   "execution_count": 30,
   "metadata": {
    "id": "Mc5GA2A_oy-R",
    "pycharm": {
     "name": "#%%\n"
    }
   },
   "outputs": [
    {
     "name": "stdout",
     "output_type": "stream",
     "text": [
      "Converted 18019 words (1981 misses)\n"
     ]
    }
   ],
   "source": [
    "num_tokens = len(voc) + 2\n",
    "embedding_dim = 100\n",
    "hits = 0\n",
    "misses = 0\n",
    "\n",
    "# Prepare embedding matrix\n",
    "embedding_matrix = np.zeros((num_tokens, embedding_dim))\n",
    "for word, i in word_index.items():\n",
    "    embedding_vector = embeddings_index.get(word)\n",
    "    if embedding_vector is not None:\n",
    "        # Words not found in embedding index will be all-zeros.\n",
    "        # This includes the representation for \"padding\" and \"OOV\"\n",
    "        embedding_matrix[i] = embedding_vector\n",
    "        hits += 1\n",
    "    else:\n",
    "        misses += 1\n",
    "print(\"Converted %d words (%d misses)\" % (hits, misses))\n"
   ]
  },
  {
   "cell_type": "markdown",
   "metadata": {
    "id": "3gXyxjYSoy-S",
    "pycharm": {
     "name": "#%% md\n"
    }
   },
   "source": [
    "Next, we load the pre-trained word embeddings matrix into an `Embedding` layer.\n",
    "\n",
    "Note that we set `trainable=False` so as to keep the embeddings fixed (we don't want to\n",
    "update them during training)."
   ]
  },
  {
   "cell_type": "code",
   "execution_count": 31,
   "metadata": {
    "id": "nbIS2EnSoy-S",
    "pycharm": {
     "name": "#%%\n"
    }
   },
   "outputs": [],
   "source": [
    "from keras.layers import Embedding\n",
    "\n",
    "embedding_layer = Embedding(\n",
    "    num_tokens,\n",
    "    embedding_dim,\n",
    "    embeddings_initializer=keras.initializers.Constant(embedding_matrix),\n",
    "    trainable=False,\n",
    ")"
   ]
  },
  {
   "cell_type": "markdown",
   "metadata": {
    "id": "OsxvU1qeoy-S",
    "pycharm": {
     "name": "#%% md\n"
    }
   },
   "source": [
    "## Build the model\n",
    "\n",
    "A simple 1D convnet with global max pooling and a classifier at the end."
   ]
  },
  {
   "cell_type": "code",
   "execution_count": 32,
   "metadata": {
    "id": "fvxe34GLoy-S",
    "pycharm": {
     "name": "#%%\n"
    }
   },
   "outputs": [
    {
     "name": "stdout",
     "output_type": "stream",
     "text": [
      "Model: \"model\"\n",
      "_________________________________________________________________\n",
      " Layer (type)                Output Shape              Param #   \n",
      "=================================================================\n",
      " input_1 (InputLayer)        [(None, None)]            0         \n",
      "                                                                 \n",
      " embedding (Embedding)       (None, None, 100)         2000200   \n",
      "                                                                 \n",
      " conv1d (Conv1D)             (None, None, 128)         64128     \n",
      "                                                                 \n",
      " max_pooling1d (MaxPooling1D  (None, None, 128)        0         \n",
      " )                                                               \n",
      "                                                                 \n",
      " conv1d_1 (Conv1D)           (None, None, 128)         82048     \n",
      "                                                                 \n",
      " max_pooling1d_1 (MaxPooling  (None, None, 128)        0         \n",
      " 1D)                                                             \n",
      "                                                                 \n",
      " conv1d_2 (Conv1D)           (None, None, 128)         82048     \n",
      "                                                                 \n",
      " global_max_pooling1d (Globa  (None, 128)              0         \n",
      " lMaxPooling1D)                                                  \n",
      "                                                                 \n",
      " dense (Dense)               (None, 128)               16512     \n",
      "                                                                 \n",
      " dropout (Dropout)           (None, 128)               0         \n",
      "                                                                 \n",
      " dense_1 (Dense)             (None, 20)                2580      \n",
      "                                                                 \n",
      "=================================================================\n",
      "Total params: 2,247,516\n",
      "Trainable params: 247,316\n",
      "Non-trainable params: 2,000,200\n",
      "_________________________________________________________________\n"
     ]
    }
   ],
   "source": [
    "from keras import layers\n",
    "\n",
    "int_sequences_input = keras.Input(shape=(None,), dtype=\"int64\")\n",
    "embedded_sequences = embedding_layer(int_sequences_input)\n",
    "x = layers.Conv1D(128, 5, activation=\"relu\")(embedded_sequences)\n",
    "x = layers.MaxPooling1D(5)(x)\n",
    "x = layers.Conv1D(128, 5, activation=\"relu\")(x)\n",
    "x = layers.MaxPooling1D(5)(x)\n",
    "x = layers.Conv1D(128, 5, activation=\"relu\")(x)\n",
    "x = layers.GlobalMaxPooling1D()(x)\n",
    "x = layers.Dense(128, activation=\"relu\")(x)\n",
    "x = layers.Dropout(0.5)(x)\n",
    "preds = layers.Dense(len(class_names), activation=\"softmax\")(x)\n",
    "model = keras.Model(int_sequences_input, preds)\n",
    "model.summary()"
   ]
  },
  {
   "cell_type": "markdown",
   "metadata": {
    "id": "9pp8t1sdoy-T",
    "pycharm": {
     "name": "#%% md\n"
    }
   },
   "source": [
    "## Train the model\n",
    "\n",
    "First, convert our list-of-strings data to NumPy arrays of integer indices. The arrays\n",
    "are right-padded."
   ]
  },
  {
   "cell_type": "code",
   "execution_count": 33,
   "metadata": {
    "id": "iQatJE5doy-T",
    "pycharm": {
     "name": "#%%\n"
    }
   },
   "outputs": [],
   "source": [
    "x_train = vectorizer(np.array([[s] for s in train_samples])).numpy()\n",
    "x_val = vectorizer(np.array([[s] for s in val_samples])).numpy()\n",
    "\n",
    "y_train = np.array(train_labels)\n",
    "y_val = np.array(val_labels)"
   ]
  },
  {
   "cell_type": "markdown",
   "metadata": {
    "id": "G-SMmCULoy-T",
    "pycharm": {
     "name": "#%% md\n"
    }
   },
   "source": [
    "We use categorical crossentropy as our loss since we're doing softmax classification.\n",
    "Moreover, we use `sparse_categorical_crossentropy` since our labels are integers."
   ]
  },
  {
   "cell_type": "code",
   "execution_count": 34,
   "metadata": {
    "id": "Xmx98DuGoy-U",
    "pycharm": {
     "name": "#%%\n"
    }
   },
   "outputs": [
    {
     "name": "stdout",
     "output_type": "stream",
     "text": [
      "Epoch 1/20\n",
      "125/125 [==============================] - 10s 72ms/step - loss: 2.7046 - acc: 0.1281 - val_loss: 2.1640 - val_acc: 0.2676\n",
      "Epoch 2/20\n",
      "125/125 [==============================] - 8s 66ms/step - loss: 1.9695 - acc: 0.3237 - val_loss: 1.6731 - val_acc: 0.4111\n",
      "Epoch 3/20\n",
      "125/125 [==============================] - 6s 50ms/step - loss: 1.5331 - acc: 0.4734 - val_loss: 1.3396 - val_acc: 0.5439\n",
      "Epoch 4/20\n",
      "125/125 [==============================] - 6s 48ms/step - loss: 1.2835 - acc: 0.5588 - val_loss: 1.2420 - val_acc: 0.5726\n",
      "Epoch 5/20\n",
      "125/125 [==============================] - 6s 48ms/step - loss: 1.1241 - acc: 0.6168 - val_loss: 1.0823 - val_acc: 0.6314\n",
      "Epoch 6/20\n",
      "125/125 [==============================] - 6s 48ms/step - loss: 0.9911 - acc: 0.6645 - val_loss: 1.0483 - val_acc: 0.6499\n",
      "Epoch 7/20\n",
      "125/125 [==============================] - 6s 48ms/step - loss: 0.8775 - acc: 0.6956 - val_loss: 1.1404 - val_acc: 0.6234\n",
      "Epoch 8/20\n",
      "125/125 [==============================] - 6s 48ms/step - loss: 0.7712 - acc: 0.7331 - val_loss: 1.1776 - val_acc: 0.6312\n",
      "Epoch 9/20\n",
      "125/125 [==============================] - 6s 48ms/step - loss: 0.6819 - acc: 0.7623 - val_loss: 1.0621 - val_acc: 0.6599\n",
      "Epoch 10/20\n",
      "125/125 [==============================] - 6s 48ms/step - loss: 0.6027 - acc: 0.7926 - val_loss: 1.0249 - val_acc: 0.6882\n",
      "Epoch 11/20\n",
      "125/125 [==============================] - 6s 48ms/step - loss: 0.5376 - acc: 0.8169 - val_loss: 1.0194 - val_acc: 0.6807\n",
      "Epoch 12/20\n",
      "125/125 [==============================] - 6s 48ms/step - loss: 0.4667 - acc: 0.8381 - val_loss: 1.0181 - val_acc: 0.7052\n",
      "Epoch 13/20\n",
      "125/125 [==============================] - 6s 48ms/step - loss: 0.4063 - acc: 0.8625 - val_loss: 1.0488 - val_acc: 0.6887\n",
      "Epoch 14/20\n",
      "125/125 [==============================] - 6s 48ms/step - loss: 0.3506 - acc: 0.8825 - val_loss: 1.1109 - val_acc: 0.7074\n",
      "Epoch 15/20\n",
      "125/125 [==============================] - 6s 48ms/step - loss: 0.3095 - acc: 0.8949 - val_loss: 1.1794 - val_acc: 0.7054\n",
      "Epoch 16/20\n",
      "125/125 [==============================] - 6s 48ms/step - loss: 0.2833 - acc: 0.9014 - val_loss: 1.1692 - val_acc: 0.7139\n",
      "Epoch 17/20\n",
      "125/125 [==============================] - 6s 48ms/step - loss: 0.2481 - acc: 0.9172 - val_loss: 1.3226 - val_acc: 0.7047\n",
      "Epoch 18/20\n",
      "125/125 [==============================] - 6s 48ms/step - loss: 0.2429 - acc: 0.9169 - val_loss: 1.4909 - val_acc: 0.6779\n",
      "Epoch 19/20\n",
      "125/125 [==============================] - 6s 50ms/step - loss: 0.2202 - acc: 0.9264 - val_loss: 1.3132 - val_acc: 0.6997\n",
      "Epoch 20/20\n",
      "125/125 [==============================] - 6s 48ms/step - loss: 0.2049 - acc: 0.9337 - val_loss: 1.3093 - val_acc: 0.7092\n"
     ]
    },
    {
     "data": {
      "text/plain": "<keras.callbacks.History at 0x18f9fb301f0>"
     },
     "execution_count": 34,
     "metadata": {},
     "output_type": "execute_result"
    }
   ],
   "source": [
    "model.compile(\n",
    "    loss=\"sparse_categorical_crossentropy\", optimizer=\"rmsprop\", metrics=[\"acc\"]\n",
    ")\n",
    "model.fit(x_train, y_train, batch_size=128, epochs=20, validation_data=(x_val, y_val))"
   ]
  },
  {
   "cell_type": "markdown",
   "metadata": {
    "id": "qHabavY9oy-U",
    "pycharm": {
     "name": "#%% md\n"
    }
   },
   "source": [
    "## Export an end-to-end model\n",
    "\n",
    "Now, we may want to export a `Model` object that takes as input a string of arbitrary\n",
    "length, rather than a sequence of indices. It would make the model much more portable,\n",
    "since you wouldn't have to worry about the input preprocessing pipeline.\n",
    "\n",
    "Our `vectorizer` is actually a Keras layer, so it's simple:"
   ]
  },
  {
   "cell_type": "code",
   "execution_count": 35,
   "outputs": [
    {
     "name": "stdout",
     "output_type": "stream",
     "text": [
      "1/1 [==============================] - 0s 136ms/step\n"
     ]
    },
    {
     "data": {
      "text/plain": "'comp.graphics'"
     },
     "execution_count": 35,
     "metadata": {},
     "output_type": "execute_result"
    }
   ],
   "source": [
    "string_input = keras.Input(shape=(1,), dtype=\"string\")\n",
    "x = vectorizer(string_input)\n",
    "preds = model(x)\n",
    "end_to_end_model = keras.Model(string_input, preds)\n",
    "\n",
    "probabilities = end_to_end_model.predict(\n",
    "    [[\"this message is about computer graphics and 3D modeling\"]]\n",
    ")\n",
    "\n",
    "class_names[np.argmax(probabilities[0])]"
   ],
   "metadata": {
    "collapsed": false,
    "pycharm": {
     "name": "#%%\n"
    }
   }
  },
  {
   "cell_type": "code",
   "execution_count": 35,
   "outputs": [],
   "source": [],
   "metadata": {
    "collapsed": false,
    "pycharm": {
     "name": "#%%\n"
    }
   }
  }
 ],
 "metadata": {
  "colab": {
   "collapsed_sections": [],
   "name": "pretrained_word_embeddings",
   "provenance": [],
   "toc_visible": true
  },
  "kernelspec": {
   "display_name": "Python 3",
   "language": "python",
   "name": "python3"
  },
  "language_info": {
   "codemirror_mode": {
    "name": "ipython",
    "version": 3
   },
   "file_extension": ".py",
   "mimetype": "text/x-python",
   "name": "python",
   "nbconvert_exporter": "python",
   "pygments_lexer": "ipython3",
   "version": "3.7.0"
  }
 },
 "nbformat": 4,
 "nbformat_minor": 0
}