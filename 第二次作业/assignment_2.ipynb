{
 "nbformat": 4,
 "nbformat_minor": 0,
 "metadata": {
  "colab": {
   "provenance": [],
   "collapsed_sections": [
    "KVAMnQR8xflq",
    "LLvOvdMbO9Qn",
    "7teo5qvRPnYP",
    "VPEcJ_L8QqZu",
    "fXPeeetKXvWh",
    "hOkdvhoeRHu3",
    "zbw-0N7KQ6B2",
    "MOfFQoClxPTl",
    "mDPbq8VmEvdB",
    "1HE235LrErqv"
   ]
  },
  "kernelspec": {
   "name": "python3",
   "display_name": "Python 3"
  },
  "language_info": {
   "name": "python"
  },
  "accelerator": "GPU"
 },
 "cells": [
  {
   "cell_type": "markdown",
   "source": [
    "# Assignment 2\n",
    "You will tackle with a sentiment classification task using LSTM model and attention mechanism in this assigment."
   ],
   "metadata": {
    "id": "00iMtrQaVkW-",
    "pycharm": {
     "name": "#%% md\n"
    }
   }
  },
  {
   "cell_type": "markdown",
   "source": [
    "# Dependencies\n",
    "Please make sure that you are using **GPU** to accelarate computation.\n",
    "\n",
    "Colab FAQ: https://research.google.com/colaboratory/faq.html"
   ],
   "metadata": {
    "id": "GS0Y5IA2T58y",
    "pycharm": {
     "name": "#%% md\n"
    }
   }
  },
  {
   "cell_type": "markdown",
   "source": [
    "## Import dependencies"
   ],
   "metadata": {
    "id": "KVAMnQR8xflq",
    "pycharm": {
     "name": "#%% md\n"
    }
   }
  },
  {
   "cell_type": "code",
   "execution_count": 255,
   "outputs": [],
   "source": [
    "import torch\n",
    "import os\n",
    "import collections\n",
    "from torch import nn,optim\n",
    "from torch.utils.data import TensorDataset, DataLoader,Dataset\n",
    "import torch.nn.functional as F\n",
    "from torch.utils.data.dataset import T_co\n",
    "from tqdm import tqdm\n",
    "import math\n",
    "import random\n",
    "import numpy as np\n"
   ],
   "metadata": {
    "collapsed": false,
    "pycharm": {
     "name": "#%%\n"
    }
   }
  },
  {
   "cell_type": "code",
   "execution_count": 256,
   "outputs": [
    {
     "name": "stdout",
     "output_type": "stream",
     "text": [
      "Using cuda:0 device\n"
     ]
    }
   ],
   "source": [
    "# Set up your device \n",
    "cuda = torch.cuda.is_available()\n",
    "device = torch.device(\"cuda:0\" if cuda else \"cpu\")\n",
    "print('Using {} device'.format(device))\n",
    "# The assertion is to make sure GPU is available\n",
    "assert cuda == True"
   ],
   "metadata": {
    "collapsed": false,
    "pycharm": {
     "name": "#%%\n"
    }
   }
  },
  {
   "cell_type": "code",
   "execution_count": 257,
   "outputs": [],
   "source": [
    "# Set up random seed to 1008. Do not change the random seed.\n",
    "# Yes, these are all necessary when you run experiments!\n",
    "seed = 1008\n",
    "random.seed(seed)\n",
    "np.random.seed(seed)\n",
    "torch.manual_seed(seed)\n",
    "if cuda:\n",
    "    torch.cuda.manual_seed(seed)\n",
    "    torch.cuda.manual_seed_all(seed)\n",
    "    torch.backends.cudnn.benchmark = False\n",
    "    torch.backends.cudnn.deterministic = True\n"
   ],
   "metadata": {
    "collapsed": false,
    "pycharm": {
     "name": "#%%\n"
    }
   }
  },
  {
   "cell_type": "markdown",
   "source": [
    "## Data\n",
    "The script below will download the required sentiment analysis data.\n",
    "\n",
    "Data folder will be visible in the Colab file-explorer pane, which is loacted at left side of the page.\n"
   ],
   "metadata": {
    "collapsed": false,
    "pycharm": {
     "name": "#%% md\n"
    }
   }
  },
  {
   "cell_type": "code",
   "execution_count": 258,
   "outputs": [],
   "source": [
    "# !wget --no-check-certificate \"https://docs.google.com/uc?export=download&id=1jqYJ9jhjukhXvEk4GnMAPYE-SvhSG24i\" -O data.zip\n",
    "# !unzip data.zip"
   ],
   "metadata": {
    "collapsed": false,
    "pycharm": {
     "name": "#%%\n"
    }
   }
  },
  {
   "cell_type": "markdown",
   "source": [
    "## Corpus\n",
    "Glove will be used as the word embedding tool in this assigment."
   ],
   "metadata": {
    "collapsed": false,
    "pycharm": {
     "name": "#%% md\n"
    }
   }
  },
  {
   "cell_type": "code",
   "execution_count": 259,
   "outputs": [],
   "source": [
    "# !wget https://nlp.stanford.edu/data/glove.6B.zip\n",
    "# !unzip glove.6B.zip"
   ],
   "metadata": {
    "collapsed": false,
    "pycharm": {
     "name": "#%%\n"
    }
   }
  },
  {
   "cell_type": "markdown",
   "source": [
    "# Preprocess\n",
    "Preprocess data, then construct dataloader and vocabulary."
   ],
   "metadata": {
    "collapsed": false,
    "pycharm": {
     "name": "#%% md\n"
    }
   }
  },
  {
   "cell_type": "markdown",
   "source": [
    "## Load Glove pretrained word embedding."
   ],
   "metadata": {
    "collapsed": false,
    "pycharm": {
     "name": "#%% md\n"
    }
   }
  },
  {
   "cell_type": "code",
   "execution_count": 260,
   "outputs": [],
   "source": [
    "# TODO\n",
    "vocab,embeddings = [],[]\n",
    "with open('glove.6B.50d.txt','rt',encoding=\"utf-8\") as fi:\n",
    "    full_content = fi.read().strip().split('\\n')\n",
    "for i in range(len(full_content)):\n",
    "    i_word = full_content[i].split(' ')[0]\n",
    "    i_embeddings = [float(val) for val in full_content[i].split(' ')[1:]]\n",
    "    vocab.append(i_word)\n",
    "    embeddings.append(i_embeddings)"
   ],
   "metadata": {
    "collapsed": false,
    "pycharm": {
     "name": "#%%\n"
    }
   }
  },
  {
   "cell_type": "code",
   "execution_count": 261,
   "outputs": [
    {
     "name": "stdout",
     "output_type": "stream",
     "text": [
      "['<pad>' '<unk>' 'the' ',' '.' 'of' 'to' 'and' 'in' 'a']\n",
      "(400002, 50)\n"
     ]
    }
   ],
   "source": [
    "vocab_npa = np.array(vocab)\n",
    "embs_npa = np.array(embeddings)\n",
    "\n",
    "#insert '<pad>' and '<unk>' tokens at start of vocab_npa.\n",
    "vocab_npa = np.insert(vocab_npa, 0, '<pad>')\n",
    "vocab_npa = np.insert(vocab_npa, 1, '<unk>')\n",
    "print(vocab_npa[:10])\n",
    "\n",
    "\n",
    "pad_emb_npa = np.zeros((1,embs_npa.shape[1]))   #embedding for '<pad>' token.\n",
    "unk_emb_npa = np.mean(embs_npa,axis=0,keepdims=True)    #embedding for '<unk>' token.\n",
    "\n",
    "#insert embeddings for pad and unk tokens at top of embs_npa.\n",
    "embs_npa = np.vstack((pad_emb_npa,unk_emb_npa,embs_npa))\n",
    "print(embs_npa.shape)"
   ],
   "metadata": {
    "collapsed": false,
    "pycharm": {
     "name": "#%%\n"
    }
   }
  },
  {
   "cell_type": "code",
   "execution_count": 262,
   "outputs": [
    {
     "name": "stdout",
     "output_type": "stream",
     "text": [
      "torch.Size([400002, 50])\n"
     ]
    }
   ],
   "source": [
    "my_embedding_layer = torch.nn.Embedding.from_pretrained(torch.from_numpy(embs_npa).float())\n",
    "\n",
    "assert my_embedding_layer.weight.shape == embs_npa.shape\n",
    "print(my_embedding_layer.weight.shape)"
   ],
   "metadata": {
    "collapsed": false,
    "pycharm": {
     "name": "#%%\n"
    }
   }
  },
  {
   "cell_type": "markdown",
   "source": [
    "## Construct your own vocabulary without other corpus.\n",
    "Hint: You should construct a vocabulary to map the word to index."
   ],
   "metadata": {
    "collapsed": false,
    "pycharm": {
     "name": "#%% md\n"
    }
   }
  },
  {
   "cell_type": "code",
   "execution_count": 263,
   "outputs": [
    {
     "name": "stdout",
     "output_type": "stream",
     "text": [
      "('<pad>', 0)\n",
      "('<unk>', 1)\n",
      "('the', 2)\n",
      "(',', 3)\n",
      "('.', 4)\n",
      "('of', 5)\n",
      "('to', 6)\n",
      "('and', 7)\n",
      "('in', 8)\n",
      "('a', 9)\n",
      "('\"', 10)\n",
      "(\"'s\", 11)\n",
      "('for', 12)\n",
      "('-', 13)\n",
      "('that', 14)\n",
      "('on', 15)\n",
      "('is', 16)\n",
      "('was', 17)\n",
      "('said', 18)\n",
      "('with', 19)\n",
      "('he', 20)\n",
      "('as', 21)\n",
      "('it', 22)\n",
      "('by', 23)\n",
      "('at', 24)\n",
      "('(', 25)\n",
      "(')', 26)\n",
      "('from', 27)\n",
      "('his', 28)\n",
      "(\"''\", 29)\n"
     ]
    }
   ],
   "source": [
    "# TODO\n",
    "wordmap={}\n",
    "\n",
    "idx=0\n",
    "for item in vocab_npa:\n",
    "    wordmap[item]=idx\n",
    "    idx+=1\n",
    "\n",
    "showw=0\n",
    "for it in wordmap.items():\n",
    "    print(it)\n",
    "    showw+=1\n",
    "    if showw>=30:\n",
    "        break"
   ],
   "metadata": {
    "collapsed": false,
    "pycharm": {
     "name": "#%%\n"
    }
   }
  },
  {
   "cell_type": "markdown",
   "source": [
    "## Load data\n",
    "Load data and construct dataloader."
   ],
   "metadata": {
    "collapsed": false,
    "pycharm": {
     "name": "#%% md\n"
    }
   }
  },
  {
   "cell_type": "code",
   "execution_count": 264,
   "outputs": [
    {
     "name": "stdout",
     "output_type": "stream",
     "text": [
      "36\n"
     ]
    }
   ],
   "source": [
    "# TODO\n",
    "\n",
    "import torch\n",
    "from torch import nn\n",
    "\n",
    "data_dir = 'sentiment'\n",
    "trainTextPath=data_dir+os.sep+\"train_text.txt\"\n",
    "trainLabelPath=data_dir+os.sep+\"train_labels.txt\"\n",
    "\n",
    "testTextPath=data_dir+os.sep+\"test_text.txt\"\n",
    "testLabelPath=data_dir+os.sep+\"test_labels.txt\"\n",
    "\n",
    "valTextPath=data_dir+os.sep+\"val_text.txt\"\n",
    "valLabelPath=data_dir+os.sep+\"val_labels.txt\"\n",
    "\n",
    "maxSentenceLength=0\n",
    "with open(trainTextPath, \"r\", encoding=\"utf-8\") as f:\n",
    "    sentences = f.read().strip().split(\"\\n\")\n",
    "    for sentence in sentences:\n",
    "        sentence = sentence.split()\n",
    "        if maxSentenceLength < len(sentence):\n",
    "            maxSentenceLength = len(sentence)\n",
    "\n",
    "with open(testTextPath, \"r\", encoding=\"utf-8\") as f:\n",
    "    sentences = f.read().strip().split(\"\\n\")\n",
    "    for sentence in sentences:\n",
    "        sentence = sentence.split()\n",
    "        if maxSentenceLength < len(sentence):\n",
    "            maxSentenceLength = len(sentence)\n",
    "\n",
    "with open(valTextPath, \"r\", encoding=\"utf-8\") as f:\n",
    "    sentences = f.read().strip().split(\"\\n\")\n",
    "    for sentence in sentences:\n",
    "        sentence = sentence.split()\n",
    "        if maxSentenceLength < len(sentence):\n",
    "            maxSentenceLength = len(sentence)\n",
    "\n",
    "\n",
    "maxSentenceLength+=1\n",
    "print(maxSentenceLength)\n",
    "\n",
    "padList=torch.zeros(maxSentenceLength,dtype=int)\n",
    "\n",
    "class myDataset(Dataset):\n",
    "    def __init__(self,textpath,labelpath):\n",
    "        self.vecList=[]\n",
    "        with open(textpath,mode=\"r\",encoding=\"utf-8\") as f:\n",
    "            tempList=f.read().lower().strip().split(\"\\n\")\n",
    "            # self.textList=tempList[:]\n",
    "            for line in tempList:\n",
    "                addList=padList.clone().detach()\n",
    "                line=line.split()\n",
    "                # print(\"length\",len(line))\n",
    "                for indx, itm in enumerate(line):\n",
    "                    if itm in wordmap:\n",
    "                        addList[indx]=wordmap[itm]\n",
    "                    else:\n",
    "                        addList[indx]=wordmap[\"<unk>\"]\n",
    "                self.vecList.append(addList.clone().detach())\n",
    "\n",
    "\n",
    "        with open(labelpath,mode=\"r\",encoding=\"utf-8\") as f:\n",
    "            self.labelList=f.read().strip().split(\"\\n\")\n",
    "            self.labelList=torch.tensor([int(i) for i in self.labelList])\n",
    "\n",
    "        if len(self.vecList)==len(self.labelList):\n",
    "            print(\"myDataset from\",textpath,\"is created,length is\",len(self.vecList))\n",
    "        else:\n",
    "            print(\"length different error\")\n",
    "    def __getitem__(self, index):\n",
    "        # print(\"----------\\n\",index,self.vecList[index],\"\\n----------\")\n",
    "        return self.vecList[index],self.labelList[index]\n",
    "\n",
    "    def __len__(self):\n",
    "        return len(self.vecList)\n"
   ],
   "metadata": {
    "collapsed": false,
    "pycharm": {
     "name": "#%%\n"
    }
   }
  },
  {
   "cell_type": "code",
   "execution_count": 518,
   "outputs": [
    {
     "name": "stdout",
     "output_type": "stream",
     "text": [
      "myDataset from sentiment\\train_text.txt is created,length is 45615\n",
      "myDataset from sentiment\\val_text.txt is created,length is 2000\n",
      "myDataset from sentiment\\test_text.txt is created,length is 12284\n"
     ]
    }
   ],
   "source": [
    "trainDataset=myDataset(trainTextPath,trainLabelPath)\n",
    "valDataset=myDataset(valTextPath,valLabelPath)\n",
    "testDataset=myDataset(testTextPath,testLabelPath)"
   ],
   "metadata": {
    "collapsed": false,
    "pycharm": {
     "name": "#%%\n"
    }
   }
  },
  {
   "cell_type": "code",
   "execution_count": 519,
   "outputs": [],
   "source": [
    "trainDataLoader=DataLoader(trainDataset,batch_size=45615,shuffle=True)\n",
    "valDataLoader=DataLoader(valDataset,batch_size=2000,shuffle=False)\n",
    "testDataLoader=DataLoader(testDataset,batch_size=12284,shuffle=False)"
   ],
   "metadata": {
    "collapsed": false,
    "pycharm": {
     "name": "#%%\n"
    }
   }
  },
  {
   "cell_type": "markdown",
   "source": [],
   "metadata": {
    "collapsed": false,
    "pycharm": {
     "name": "#%% md\n"
    }
   }
  },
  {
   "cell_type": "markdown",
   "source": [
    "## Model Zoo"
   ],
   "metadata": {
    "collapsed": false,
    "pycharm": {
     "name": "#%% md\n"
    }
   }
  },
  {
   "cell_type": "code",
   "execution_count": null,
   "outputs": [],
   "source": [
    "class BiRNN(nn.Module):\n",
    "    def __init__(self, vocab_size, embed_size, num_hiddens, num_layers, pretrained_embedding=None, **kwargs):\n",
    "        super(BiRNN, self).__init__()\n",
    "        if pretrained_embedding is None:\n",
    "            self.embedding = nn.Embedding(vocab_size, embed_size,device=device)\n",
    "        else:\n",
    "            self.embedding= nn.Embedding.from_pretrained(torch.tensor(pretrained_embedding.clone().detach(), dtype=torch.float).clone().detach(), freeze=True).to(device)\n",
    "        self.encoder = nn.LSTM(embed_size, num_hiddens, num_layers=num_layers, bidirectional=True, batch_first=True).to(device)\n",
    "        self.decoder = nn.Sequential(nn.Linear(4 * num_hiddens, num_hiddens),\n",
    "                                     nn.Linear(num_hiddens, 3))\n",
    "        self.to(device)\n",
    "\n",
    "    def forward(self, inputs):\n",
    "        # print(\"forward\")\n",
    "\n",
    "        inputs=inputs.to(device)\n",
    "        self.to(device)\n",
    "        self.embedding.to(device)\n",
    "\n",
    "        embeddingOut = self.embedding(inputs)\n",
    "\n",
    "        self.encoder.flatten_parameters()\n",
    "        outputs, _ = self.encoder(embeddingOut)\n",
    "        encoding = torch.cat((outputs[:,0,:], outputs[:,-1,:]), dim=1)\n",
    "        outs = self.decoder(encoding)\n",
    "        softmax_fun=nn.Softmax(dim=1)\n",
    "        outs=softmax_fun(outs)\n",
    "        return outs"
   ],
   "metadata": {
    "collapsed": false,
    "pycharm": {
     "name": "#%%\n"
    }
   }
  },
  {
   "cell_type": "code",
   "execution_count": null,
   "outputs": [],
   "source": [
    "class BiRNN_attention(nn.Module):\n",
    "    def __init__(self, vocab_size, embed_size, num_hiddens, num_layers, pretrained_embedding=None, **kwargs):\n",
    "        super(BiRNN_attention, self).__init__()\n",
    "        if pretrained_embedding is None:\n",
    "            self.embedding = nn.Embedding(vocab_size, embed_size)\n",
    "        else:\n",
    "            self.embedding = nn.Embedding.from_pretrained(torch.tensor(pretrained_embedding, dtype=torch.float),\n",
    "                                                          freeze=True)\n",
    "        self.encoder = nn.LSTM(embed_size, num_hiddens, num_layers=num_layers, bidirectional=True, batch_first=True)\n",
    "        self.weight_W = nn.Parameter(torch.Tensor(2 * num_hiddens, 2 * num_hiddens))\n",
    "        self.weight_proj = nn.Parameter(torch.Tensor(2 * num_hiddens, 1))\n",
    "\n",
    "        self.decoder = nn.Sequential(nn.Linear(2 * num_hiddens, num_hiddens),\n",
    "                                     nn.Linear(num_hiddens, 3))\n",
    "        nn.init.uniform_(self.weight_W, -0.1, 0.1)\n",
    "        nn.init.uniform_(self.weight_proj, -0.1, 0.1)\n",
    "\n",
    "\n",
    "    def forward(self, inputs):\n",
    "        mask = 1 - torch.clamp(inputs, min=0, max=1)\n",
    "        embeddings = self.embedding(inputs)\n",
    "        states, hidden = self.encoder(embeddings.permute([0, 1, 2]))\n",
    "        u = torch.tanh(torch.matmul(states, self.weight_W))\n",
    "        att = torch.matmul(u, self.weight_proj)\n",
    "        att = att + mask.unsqueeze(2) * -1e7\n",
    "        att_score = F.softmax(att, dim=1)\n",
    "        scored_x = states * att_score\n",
    "        encoding = torch.sum(scored_x, dim=1)\n",
    "        outputs = self.decoder(encoding)\n",
    "\n",
    "        return outputs"
   ],
   "metadata": {
    "collapsed": false,
    "pycharm": {
     "name": "#%%\n"
    }
   }
  },
  {
   "cell_type": "markdown",
   "source": [
    "## Training\n",
    "You should train two models above with Glove pretrained word embedding and random initialized word embedding.\n",
    "\n",
    "Evaluation on the validation set and print out accuracy after training one epoch is required.\n",
    "\n",
    "You can tune some parameters and try different techniques, such as learning rate scheduler."
   ],
   "metadata": {
    "collapsed": false,
    "pycharm": {
     "name": "#%% md\n"
    }
   }
  },
  {
   "cell_type": "code",
   "execution_count": 502,
   "outputs": [],
   "source": [
    "def train(model,train_loader=trainDataLoader,val_loader=valDataLoader,epoch=10,log_interval = 700,lr=0.01):\n",
    "    print(\"statr training\")\n",
    "    model.to(device)\n",
    "\n",
    "    for ep in range(epoch):\n",
    "        optimizer = optim.SGD(model.parameters(), lr,momentum=0.5)\n",
    "        lossFunction=nn.CrossEntropyLoss()\n",
    "        loss=0\n",
    "        for batch_idx, (data, target) in enumerate(train_loader):\n",
    "            model.train()\n",
    "            data=data.to(device)\n",
    "            target=target.to(device)\n",
    "\n",
    "            optimizer.zero_grad()\n",
    "\n",
    "            output=model.forward(data)\n",
    "            loss=lossFunction(output,target)\n",
    "            loss.backward()\n",
    "            optimizer.step()\n",
    "\n",
    "        # if batch_idx % log_interval == 0:\n",
    "        if True:\n",
    "            print('Train Epoch: {} \\tLoss: {:.6f}'.format(\n",
    "                ep, loss.item()))\n",
    "            model.eval()\n",
    "            test_loss = 0\n",
    "            num_correct = 0\n",
    "            with torch.no_grad():\n",
    "                for data, target in val_loader:\n",
    "                    data=data.to(device)\n",
    "                    target=target.to(device)\n",
    "                    output=model.forward(data)\n",
    "                    test_loss+=lossFunction(output,target)\n",
    "                    pred = output.data.max(1, keepdim=True)[1]\n",
    "\n",
    "                    num_correct+= pred.eq(target.data.view_as(pred)).sum()\n",
    "            avg_test_loss = test_loss/ len(val_loader.dataset)\n",
    "            print('\\nVal set: Average loss: {:.4f}, Accuracy: {}/{} ({:.0f}%)\\n'.format(\n",
    "                avg_test_loss, num_correct, len(val_loader.dataset),\n",
    "                100. * num_correct / len(val_loader.dataset)))"
   ],
   "metadata": {
    "collapsed": false,
    "pycharm": {
     "name": "#%%\n"
    }
   }
  },
  {
   "cell_type": "code",
   "execution_count": 503,
   "outputs": [],
   "source": [
    "def test(model, test_loader=testDataLoader):\n",
    "    model.eval()\n",
    "    model.to(device)\n",
    "    test_loss = 0\n",
    "    num_correct = 0\n",
    "    lossFunction=nn.CrossEntropyLoss()\n",
    "\n",
    "    with torch.no_grad():\n",
    "        for data, target in test_loader:\n",
    "            data=data.to(device)\n",
    "            target=target.to(device)\n",
    "            output=model.forward(data)\n",
    "            test_loss+=lossFunction(output,target)\n",
    "            pred = output.data.max(1, keepdim=True)[1]\n",
    "            num_correct+= pred.eq(target.data.view_as(pred)).sum()\n",
    "    avg_test_loss = test_loss/ len(test_loader.dataset)\n",
    "    print('\\nTest set: Average loss: {:.4f}, Accuracy: {}/{} ({:.0f}%)\\n'.format(\n",
    "        avg_test_loss, num_correct, len(test_loader.dataset),\n",
    "        100. * num_correct / len(test_loader.dataset)))"
   ],
   "metadata": {
    "collapsed": false,
    "pycharm": {
     "name": "#%%\n"
    }
   }
  },
  {
   "cell_type": "code",
   "execution_count": 498,
   "outputs": [],
   "source": [
    "embeddingSize=50"
   ],
   "metadata": {
    "collapsed": false,
    "pycharm": {
     "name": "#%%\n"
    }
   }
  },
  {
   "cell_type": "code",
   "execution_count": 469,
   "outputs": [
    {
     "name": "stderr",
     "output_type": "stream",
     "text": [
      "C:\\Users\\zyt\\AppData\\Local\\Temp\\ipykernel_29644\\2684247167.py:7: UserWarning: To copy construct from a tensor, it is recommended to use sourceTensor.clone().detach() or sourceTensor.clone().detach().requires_grad_(True), rather than torch.tensor(sourceTensor).\n",
      "  self.embedding= nn.Embedding.from_pretrained(torch.tensor(pretrained_embedding.clone().detach(), dtype=torch.float).clone().detach(), freeze=True).to(device)\n"
     ]
    },
    {
     "name": "stdout",
     "output_type": "stream",
     "text": [
      "init\n",
      "statr training\n",
      "Train Epoch: 0 [0/45615 (0%)]\tLoss: 1.075261\n",
      "\n",
      "Val set: Average loss: 0.0087, Accuracy: 869/2000 (43%)\n",
      "\n",
      "Train Epoch: 1 [0/45615 (0%)]\tLoss: 1.005220\n",
      "\n",
      "Val set: Average loss: 0.0083, Accuracy: 887/2000 (44%)\n",
      "\n",
      "Train Epoch: 2 [0/45615 (0%)]\tLoss: 1.030156\n",
      "\n",
      "Val set: Average loss: 0.0082, Accuracy: 922/2000 (46%)\n",
      "\n",
      "Train Epoch: 3 [0/45615 (0%)]\tLoss: 1.013881\n",
      "\n",
      "Val set: Average loss: 0.0082, Accuracy: 946/2000 (47%)\n",
      "\n",
      "Train Epoch: 4 [0/45615 (0%)]\tLoss: 0.939637\n",
      "\n",
      "Val set: Average loss: 0.0079, Accuracy: 1085/2000 (54%)\n",
      "\n",
      "Train Epoch: 5 [0/45615 (0%)]\tLoss: 0.982487\n",
      "\n",
      "Val set: Average loss: 0.0078, Accuracy: 1113/2000 (56%)\n",
      "\n",
      "Train Epoch: 6 [0/45615 (0%)]\tLoss: 0.988628\n",
      "\n",
      "Val set: Average loss: 0.0077, Accuracy: 1154/2000 (58%)\n",
      "\n",
      "Train Epoch: 7 [0/45615 (0%)]\tLoss: 0.941666\n",
      "\n",
      "Val set: Average loss: 0.0081, Accuracy: 1032/2000 (52%)\n",
      "\n",
      "Train Epoch: 8 [0/45615 (0%)]\tLoss: 0.984759\n",
      "\n",
      "Val set: Average loss: 0.0077, Accuracy: 1133/2000 (57%)\n",
      "\n",
      "Train Epoch: 9 [0/45615 (0%)]\tLoss: 0.915674\n",
      "\n",
      "Val set: Average loss: 0.0076, Accuracy: 1184/2000 (59%)\n",
      "\n",
      "Train Epoch: 10 [0/45615 (0%)]\tLoss: 0.980059\n",
      "\n",
      "Val set: Average loss: 0.0076, Accuracy: 1165/2000 (58%)\n",
      "\n",
      "Train Epoch: 11 [0/45615 (0%)]\tLoss: 0.946188\n",
      "\n",
      "Val set: Average loss: 0.0076, Accuracy: 1163/2000 (58%)\n",
      "\n",
      "Train Epoch: 12 [0/45615 (0%)]\tLoss: 0.979707\n",
      "\n",
      "Val set: Average loss: 0.0075, Accuracy: 1181/2000 (59%)\n",
      "\n",
      "Train Epoch: 13 [0/45615 (0%)]\tLoss: 0.938306\n",
      "\n",
      "Val set: Average loss: 0.0076, Accuracy: 1161/2000 (58%)\n",
      "\n",
      "Train Epoch: 14 [0/45615 (0%)]\tLoss: 0.956991\n",
      "\n",
      "Val set: Average loss: 0.0075, Accuracy: 1186/2000 (59%)\n",
      "\n",
      "Train Epoch: 15 [0/45615 (0%)]\tLoss: 0.948661\n",
      "\n",
      "Val set: Average loss: 0.0075, Accuracy: 1186/2000 (59%)\n",
      "\n",
      "Train Epoch: 16 [0/45615 (0%)]\tLoss: 0.924180\n",
      "\n",
      "Val set: Average loss: 0.0076, Accuracy: 1184/2000 (59%)\n",
      "\n",
      "Train Epoch: 17 [0/45615 (0%)]\tLoss: 0.911446\n",
      "\n",
      "Val set: Average loss: 0.0075, Accuracy: 1192/2000 (60%)\n",
      "\n",
      "Train Epoch: 18 [0/45615 (0%)]\tLoss: 0.900407\n",
      "\n",
      "Val set: Average loss: 0.0075, Accuracy: 1188/2000 (59%)\n",
      "\n",
      "Train Epoch: 19 [0/45615 (0%)]\tLoss: 1.001266\n",
      "\n",
      "Val set: Average loss: 0.0075, Accuracy: 1198/2000 (60%)\n",
      "\n",
      "\n",
      "Test set: Average loss: 0.0080, Accuracy: 6284/12284 (51%)\n",
      "\n"
     ]
    }
   ],
   "source": [
    "# Train BiRNN with Glove pretrained word embedding\n",
    "# TODO\n",
    "# num_hiddens随便大小吗\n",
    "\n",
    "myBiRNNpretrained=BiRNN(vocab_size=len(wordmap),embed_size=embeddingSize,num_hiddens=30,num_layers=1,pretrained_embedding=my_embedding_layer.weight.clone().detach())\n",
    "# myBiRNNpretrained = torch.load('myBiRNNpretrained.pth')\n",
    "train(myBiRNNpretrained,lr=0.1,epoch=20)\n",
    "torch.save(myBiRNNpretrained, 'myBiRNNpretrained.pth')\n",
    "test(myBiRNNpretrained)"
   ],
   "metadata": {
    "collapsed": false,
    "pycharm": {
     "name": "#%%\n"
    }
   }
  },
  {
   "cell_type": "code",
   "source": [
    "# Train BiRNN without pretrained word embedding\n",
    "# TODO\n",
    "myBiRNNraw=BiRNN(vocab_size=len(wordmap),embed_size=embeddingSize,num_hiddens=30,num_layers=10)\n",
    "myBiRNNpretrained = torch.load('myBiRNNraw.pth')\n",
    "train(myBiRNNraw,lr=0.1,epoch=5)\n",
    "torch.save(myBiRNNpretrained, 'myBiRNNraw.pth')\n",
    "test(myBiRNNraw)"
   ],
   "metadata": {
    "id": "6rXFCb56GBOK",
    "pycharm": {
     "name": "#%%\n"
    }
   },
   "execution_count": 473,
   "outputs": [
    {
     "name": "stdout",
     "output_type": "stream",
     "text": [
      "init\n",
      "statr training\n",
      "Train Epoch: 0 [0/45615 (0%)]\tLoss: 1.091614\n",
      "\n",
      "Val set: Average loss: 0.0087, Accuracy: 869/2000 (43%)\n",
      "\n",
      "Train Epoch: 1 [0/45615 (0%)]\tLoss: 1.018618\n",
      "\n",
      "Val set: Average loss: 0.0083, Accuracy: 869/2000 (43%)\n",
      "\n",
      "Train Epoch: 2 [0/45615 (0%)]\tLoss: 1.036706\n",
      "\n",
      "Val set: Average loss: 0.0083, Accuracy: 869/2000 (43%)\n",
      "\n",
      "Train Epoch: 3 [0/45615 (0%)]\tLoss: 1.024536\n",
      "\n",
      "Val set: Average loss: 0.0083, Accuracy: 869/2000 (43%)\n",
      "\n",
      "Train Epoch: 4 [0/45615 (0%)]\tLoss: 1.010717\n",
      "\n",
      "Val set: Average loss: 0.0083, Accuracy: 869/2000 (43%)\n",
      "\n",
      "\n",
      "Test set: Average loss: 0.0086, Accuracy: 5937/12284 (48%)\n",
      "\n"
     ]
    }
   ]
  },
  {
   "cell_type": "code",
   "source": [
    "# Train BiRNN_attention with Glove pretrained embedding\n",
    "# TODO\n",
    "# myBiRNN_attentionPre=BiRNN_attention(vocab_size=len(wordmap), embed_size=embeddingSize,num_hiddens=10,num_layers=5,pretrained_embedding=my_embedding_layer.weight.clone().detach())\n",
    "myBiRNN_attentionPre = torch.load('myBiRNN_attentionPre.pth')\n",
    "train(myBiRNN_attentionPre,lr=0.0001,epoch=100)\n",
    "torch.save(myBiRNN_attentionPre, 'myBiRNN_attentionPre.pth')\n",
    "test(myBiRNN_attentionPre)"
   ],
   "metadata": {
    "id": "aeetQ2uZGBXf",
    "pycharm": {
     "name": "#%%\n"
    }
   },
   "execution_count": 520,
   "outputs": [
    {
     "name": "stdout",
     "output_type": "stream",
     "text": [
      "statr training\n",
      "Train Epoch: 0 \tLoss: 0.774356\n",
      "\n",
      "Val set: Average loss: 0.0064, Accuracy: 1262/2000 (63%)\n",
      "\n",
      "Train Epoch: 1 \tLoss: 0.772022\n",
      "\n",
      "Val set: Average loss: 0.0064, Accuracy: 1262/2000 (63%)\n",
      "\n",
      "Train Epoch: 2 \tLoss: 0.777685\n",
      "\n",
      "Val set: Average loss: 0.0064, Accuracy: 1262/2000 (63%)\n",
      "\n",
      "Train Epoch: 3 \tLoss: 0.797311\n",
      "\n",
      "Val set: Average loss: 0.0064, Accuracy: 1262/2000 (63%)\n",
      "\n",
      "Train Epoch: 4 \tLoss: 0.714272\n",
      "\n",
      "Val set: Average loss: 0.0064, Accuracy: 1262/2000 (63%)\n",
      "\n",
      "Train Epoch: 5 \tLoss: 0.775627\n",
      "\n",
      "Val set: Average loss: 0.0064, Accuracy: 1262/2000 (63%)\n",
      "\n",
      "Train Epoch: 6 \tLoss: 0.771682\n",
      "\n",
      "Val set: Average loss: 0.0064, Accuracy: 1262/2000 (63%)\n",
      "\n",
      "Train Epoch: 7 \tLoss: 0.782922\n",
      "\n",
      "Val set: Average loss: 0.0064, Accuracy: 1262/2000 (63%)\n",
      "\n",
      "Train Epoch: 8 \tLoss: 0.746229\n",
      "\n",
      "Val set: Average loss: 0.0064, Accuracy: 1262/2000 (63%)\n",
      "\n",
      "Train Epoch: 9 \tLoss: 0.740545\n",
      "\n",
      "Val set: Average loss: 0.0064, Accuracy: 1262/2000 (63%)\n",
      "\n",
      "Train Epoch: 10 \tLoss: 0.759081\n",
      "\n",
      "Val set: Average loss: 0.0064, Accuracy: 1262/2000 (63%)\n",
      "\n",
      "Train Epoch: 11 \tLoss: 0.795495\n",
      "\n",
      "Val set: Average loss: 0.0064, Accuracy: 1261/2000 (63%)\n",
      "\n",
      "Train Epoch: 12 \tLoss: 0.759573\n",
      "\n",
      "Val set: Average loss: 0.0064, Accuracy: 1262/2000 (63%)\n",
      "\n",
      "Train Epoch: 13 \tLoss: 0.778060\n",
      "\n",
      "Val set: Average loss: 0.0064, Accuracy: 1262/2000 (63%)\n",
      "\n",
      "Train Epoch: 14 \tLoss: 0.752088\n",
      "\n",
      "Val set: Average loss: 0.0064, Accuracy: 1262/2000 (63%)\n",
      "\n",
      "Train Epoch: 15 \tLoss: 0.783181\n",
      "\n",
      "Val set: Average loss: 0.0064, Accuracy: 1262/2000 (63%)\n",
      "\n",
      "Train Epoch: 16 \tLoss: 0.785926\n",
      "\n",
      "Val set: Average loss: 0.0064, Accuracy: 1262/2000 (63%)\n",
      "\n",
      "Train Epoch: 17 \tLoss: 0.777343\n",
      "\n",
      "Val set: Average loss: 0.0064, Accuracy: 1262/2000 (63%)\n",
      "\n",
      "Train Epoch: 18 \tLoss: 0.787064\n",
      "\n",
      "Val set: Average loss: 0.0064, Accuracy: 1262/2000 (63%)\n",
      "\n",
      "Train Epoch: 19 \tLoss: 0.794452\n",
      "\n",
      "Val set: Average loss: 0.0064, Accuracy: 1262/2000 (63%)\n",
      "\n",
      "Train Epoch: 20 \tLoss: 0.783702\n",
      "\n",
      "Val set: Average loss: 0.0064, Accuracy: 1262/2000 (63%)\n",
      "\n",
      "Train Epoch: 21 \tLoss: 0.755847\n",
      "\n",
      "Val set: Average loss: 0.0064, Accuracy: 1262/2000 (63%)\n",
      "\n",
      "Train Epoch: 22 \tLoss: 0.774700\n",
      "\n",
      "Val set: Average loss: 0.0064, Accuracy: 1262/2000 (63%)\n",
      "\n",
      "Train Epoch: 23 \tLoss: 0.723153\n",
      "\n",
      "Val set: Average loss: 0.0064, Accuracy: 1262/2000 (63%)\n",
      "\n",
      "Train Epoch: 24 \tLoss: 0.763855\n",
      "\n",
      "Val set: Average loss: 0.0064, Accuracy: 1262/2000 (63%)\n",
      "\n",
      "Train Epoch: 25 \tLoss: 0.795777\n",
      "\n",
      "Val set: Average loss: 0.0064, Accuracy: 1262/2000 (63%)\n",
      "\n",
      "Train Epoch: 26 \tLoss: 0.795163\n",
      "\n",
      "Val set: Average loss: 0.0064, Accuracy: 1262/2000 (63%)\n",
      "\n",
      "Train Epoch: 27 \tLoss: 0.784750\n",
      "\n",
      "Val set: Average loss: 0.0064, Accuracy: 1262/2000 (63%)\n",
      "\n",
      "Train Epoch: 28 \tLoss: 0.766439\n",
      "\n",
      "Val set: Average loss: 0.0064, Accuracy: 1262/2000 (63%)\n",
      "\n",
      "Train Epoch: 29 \tLoss: 0.791308\n",
      "\n",
      "Val set: Average loss: 0.0064, Accuracy: 1262/2000 (63%)\n",
      "\n",
      "Train Epoch: 30 \tLoss: 0.789351\n",
      "\n",
      "Val set: Average loss: 0.0064, Accuracy: 1262/2000 (63%)\n",
      "\n",
      "Train Epoch: 31 \tLoss: 0.780242\n",
      "\n",
      "Val set: Average loss: 0.0064, Accuracy: 1262/2000 (63%)\n",
      "\n",
      "Train Epoch: 32 \tLoss: 0.759350\n",
      "\n",
      "Val set: Average loss: 0.0064, Accuracy: 1262/2000 (63%)\n",
      "\n",
      "Train Epoch: 33 \tLoss: 0.782359\n",
      "\n",
      "Val set: Average loss: 0.0064, Accuracy: 1262/2000 (63%)\n",
      "\n",
      "Train Epoch: 34 \tLoss: 0.759152\n",
      "\n",
      "Val set: Average loss: 0.0064, Accuracy: 1262/2000 (63%)\n",
      "\n",
      "Train Epoch: 35 \tLoss: 0.793132\n",
      "\n",
      "Val set: Average loss: 0.0064, Accuracy: 1262/2000 (63%)\n",
      "\n",
      "Train Epoch: 36 \tLoss: 0.773897\n",
      "\n",
      "Val set: Average loss: 0.0064, Accuracy: 1262/2000 (63%)\n",
      "\n",
      "Train Epoch: 37 \tLoss: 0.762733\n",
      "\n",
      "Val set: Average loss: 0.0064, Accuracy: 1262/2000 (63%)\n",
      "\n",
      "Train Epoch: 38 \tLoss: 0.811456\n",
      "\n",
      "Val set: Average loss: 0.0064, Accuracy: 1262/2000 (63%)\n",
      "\n",
      "Train Epoch: 39 \tLoss: 0.717581\n",
      "\n",
      "Val set: Average loss: 0.0064, Accuracy: 1262/2000 (63%)\n",
      "\n",
      "Train Epoch: 40 \tLoss: 0.785477\n",
      "\n",
      "Val set: Average loss: 0.0064, Accuracy: 1262/2000 (63%)\n",
      "\n",
      "Train Epoch: 41 \tLoss: 0.763425\n",
      "\n",
      "Val set: Average loss: 0.0064, Accuracy: 1262/2000 (63%)\n",
      "\n",
      "Train Epoch: 42 \tLoss: 0.753795\n",
      "\n",
      "Val set: Average loss: 0.0064, Accuracy: 1262/2000 (63%)\n",
      "\n",
      "Train Epoch: 43 \tLoss: 0.735697\n",
      "\n",
      "Val set: Average loss: 0.0064, Accuracy: 1262/2000 (63%)\n",
      "\n",
      "Train Epoch: 44 \tLoss: 0.797130\n",
      "\n",
      "Val set: Average loss: 0.0064, Accuracy: 1262/2000 (63%)\n",
      "\n",
      "Train Epoch: 45 \tLoss: 0.775619\n",
      "\n",
      "Val set: Average loss: 0.0064, Accuracy: 1262/2000 (63%)\n",
      "\n",
      "Train Epoch: 46 \tLoss: 0.803976\n",
      "\n",
      "Val set: Average loss: 0.0064, Accuracy: 1262/2000 (63%)\n",
      "\n",
      "Train Epoch: 47 \tLoss: 0.772575\n",
      "\n",
      "Val set: Average loss: 0.0064, Accuracy: 1262/2000 (63%)\n",
      "\n",
      "Train Epoch: 48 \tLoss: 0.721424\n",
      "\n",
      "Val set: Average loss: 0.0064, Accuracy: 1262/2000 (63%)\n",
      "\n",
      "Train Epoch: 49 \tLoss: 0.822864\n",
      "\n",
      "Val set: Average loss: 0.0064, Accuracy: 1262/2000 (63%)\n",
      "\n",
      "Train Epoch: 50 \tLoss: 0.796589\n",
      "\n",
      "Val set: Average loss: 0.0064, Accuracy: 1262/2000 (63%)\n",
      "\n",
      "Train Epoch: 51 \tLoss: 0.714829\n",
      "\n",
      "Val set: Average loss: 0.0064, Accuracy: 1262/2000 (63%)\n",
      "\n",
      "Train Epoch: 52 \tLoss: 0.773372\n",
      "\n",
      "Val set: Average loss: 0.0064, Accuracy: 1262/2000 (63%)\n",
      "\n",
      "Train Epoch: 53 \tLoss: 0.762470\n",
      "\n",
      "Val set: Average loss: 0.0064, Accuracy: 1262/2000 (63%)\n",
      "\n",
      "Train Epoch: 54 \tLoss: 0.796631\n",
      "\n",
      "Val set: Average loss: 0.0064, Accuracy: 1262/2000 (63%)\n",
      "\n",
      "Train Epoch: 55 \tLoss: 0.759461\n",
      "\n",
      "Val set: Average loss: 0.0064, Accuracy: 1262/2000 (63%)\n",
      "\n",
      "Train Epoch: 56 \tLoss: 0.819868\n",
      "\n",
      "Val set: Average loss: 0.0064, Accuracy: 1262/2000 (63%)\n",
      "\n",
      "Train Epoch: 57 \tLoss: 0.773043\n",
      "\n",
      "Val set: Average loss: 0.0064, Accuracy: 1262/2000 (63%)\n",
      "\n",
      "Train Epoch: 58 \tLoss: 0.768550\n",
      "\n",
      "Val set: Average loss: 0.0064, Accuracy: 1262/2000 (63%)\n",
      "\n",
      "Train Epoch: 59 \tLoss: 0.789610\n",
      "\n",
      "Val set: Average loss: 0.0064, Accuracy: 1262/2000 (63%)\n",
      "\n",
      "Train Epoch: 60 \tLoss: 0.795470\n",
      "\n",
      "Val set: Average loss: 0.0064, Accuracy: 1262/2000 (63%)\n",
      "\n",
      "Train Epoch: 61 \tLoss: 0.740416\n",
      "\n",
      "Val set: Average loss: 0.0064, Accuracy: 1262/2000 (63%)\n",
      "\n",
      "Train Epoch: 62 \tLoss: 0.750952\n",
      "\n",
      "Val set: Average loss: 0.0064, Accuracy: 1262/2000 (63%)\n",
      "\n",
      "Train Epoch: 63 \tLoss: 0.715366\n",
      "\n",
      "Val set: Average loss: 0.0064, Accuracy: 1262/2000 (63%)\n",
      "\n",
      "Train Epoch: 64 \tLoss: 0.729484\n",
      "\n",
      "Val set: Average loss: 0.0064, Accuracy: 1262/2000 (63%)\n",
      "\n",
      "Train Epoch: 65 \tLoss: 0.759615\n",
      "\n",
      "Val set: Average loss: 0.0064, Accuracy: 1262/2000 (63%)\n",
      "\n",
      "Train Epoch: 66 \tLoss: 0.748078\n",
      "\n",
      "Val set: Average loss: 0.0064, Accuracy: 1262/2000 (63%)\n",
      "\n",
      "Train Epoch: 67 \tLoss: 0.725751\n",
      "\n",
      "Val set: Average loss: 0.0064, Accuracy: 1262/2000 (63%)\n",
      "\n",
      "Train Epoch: 68 \tLoss: 0.733166\n",
      "\n",
      "Val set: Average loss: 0.0064, Accuracy: 1262/2000 (63%)\n",
      "\n",
      "Train Epoch: 69 \tLoss: 0.802246\n",
      "\n",
      "Val set: Average loss: 0.0064, Accuracy: 1262/2000 (63%)\n",
      "\n",
      "Train Epoch: 70 \tLoss: 0.741498\n",
      "\n",
      "Val set: Average loss: 0.0064, Accuracy: 1262/2000 (63%)\n",
      "\n",
      "Train Epoch: 71 \tLoss: 0.780524\n",
      "\n",
      "Val set: Average loss: 0.0064, Accuracy: 1262/2000 (63%)\n",
      "\n",
      "Train Epoch: 72 \tLoss: 0.717742\n",
      "\n",
      "Val set: Average loss: 0.0064, Accuracy: 1262/2000 (63%)\n",
      "\n",
      "Train Epoch: 73 \tLoss: 0.751808\n",
      "\n",
      "Val set: Average loss: 0.0064, Accuracy: 1262/2000 (63%)\n",
      "\n",
      "Train Epoch: 74 \tLoss: 0.720693\n",
      "\n",
      "Val set: Average loss: 0.0064, Accuracy: 1262/2000 (63%)\n",
      "\n",
      "Train Epoch: 75 \tLoss: 0.730095\n",
      "\n",
      "Val set: Average loss: 0.0064, Accuracy: 1261/2000 (63%)\n",
      "\n",
      "Train Epoch: 76 \tLoss: 0.761102\n",
      "\n",
      "Val set: Average loss: 0.0064, Accuracy: 1262/2000 (63%)\n",
      "\n",
      "Train Epoch: 77 \tLoss: 0.779427\n",
      "\n",
      "Val set: Average loss: 0.0064, Accuracy: 1262/2000 (63%)\n",
      "\n",
      "Train Epoch: 78 \tLoss: 0.767691\n",
      "\n",
      "Val set: Average loss: 0.0064, Accuracy: 1261/2000 (63%)\n",
      "\n",
      "Train Epoch: 79 \tLoss: 0.749702\n",
      "\n",
      "Val set: Average loss: 0.0064, Accuracy: 1262/2000 (63%)\n",
      "\n",
      "Train Epoch: 80 \tLoss: 0.787906\n",
      "\n",
      "Val set: Average loss: 0.0064, Accuracy: 1262/2000 (63%)\n",
      "\n",
      "Train Epoch: 81 \tLoss: 0.784298\n",
      "\n",
      "Val set: Average loss: 0.0064, Accuracy: 1262/2000 (63%)\n",
      "\n",
      "Train Epoch: 82 \tLoss: 0.752751\n",
      "\n",
      "Val set: Average loss: 0.0064, Accuracy: 1262/2000 (63%)\n",
      "\n",
      "Train Epoch: 83 \tLoss: 0.758528\n",
      "\n",
      "Val set: Average loss: 0.0064, Accuracy: 1261/2000 (63%)\n",
      "\n",
      "Train Epoch: 84 \tLoss: 0.756358\n",
      "\n",
      "Val set: Average loss: 0.0064, Accuracy: 1261/2000 (63%)\n",
      "\n",
      "Train Epoch: 85 \tLoss: 0.733943\n",
      "\n",
      "Val set: Average loss: 0.0064, Accuracy: 1261/2000 (63%)\n",
      "\n",
      "Train Epoch: 86 \tLoss: 0.838165\n",
      "\n",
      "Val set: Average loss: 0.0064, Accuracy: 1261/2000 (63%)\n",
      "\n",
      "Train Epoch: 87 \tLoss: 0.801130\n",
      "\n",
      "Val set: Average loss: 0.0064, Accuracy: 1262/2000 (63%)\n",
      "\n",
      "Train Epoch: 88 \tLoss: 0.765047\n",
      "\n",
      "Val set: Average loss: 0.0064, Accuracy: 1262/2000 (63%)\n",
      "\n",
      "Train Epoch: 89 \tLoss: 0.754895\n",
      "\n",
      "Val set: Average loss: 0.0064, Accuracy: 1262/2000 (63%)\n",
      "\n",
      "Train Epoch: 90 \tLoss: 0.716122\n",
      "\n",
      "Val set: Average loss: 0.0064, Accuracy: 1262/2000 (63%)\n",
      "\n",
      "Train Epoch: 91 \tLoss: 0.707005\n",
      "\n",
      "Val set: Average loss: 0.0064, Accuracy: 1262/2000 (63%)\n",
      "\n",
      "Train Epoch: 92 \tLoss: 0.771361\n",
      "\n",
      "Val set: Average loss: 0.0064, Accuracy: 1262/2000 (63%)\n",
      "\n",
      "Train Epoch: 93 \tLoss: 0.827201\n",
      "\n",
      "Val set: Average loss: 0.0064, Accuracy: 1262/2000 (63%)\n",
      "\n",
      "Train Epoch: 94 \tLoss: 0.807854\n",
      "\n",
      "Val set: Average loss: 0.0064, Accuracy: 1262/2000 (63%)\n",
      "\n",
      "Train Epoch: 95 \tLoss: 0.750081\n",
      "\n",
      "Val set: Average loss: 0.0064, Accuracy: 1262/2000 (63%)\n",
      "\n",
      "Train Epoch: 96 \tLoss: 0.790157\n",
      "\n",
      "Val set: Average loss: 0.0064, Accuracy: 1262/2000 (63%)\n",
      "\n",
      "Train Epoch: 97 \tLoss: 0.838102\n",
      "\n",
      "Val set: Average loss: 0.0064, Accuracy: 1262/2000 (63%)\n",
      "\n",
      "Train Epoch: 98 \tLoss: 0.821501\n",
      "\n",
      "Val set: Average loss: 0.0064, Accuracy: 1262/2000 (63%)\n",
      "\n",
      "Train Epoch: 99 \tLoss: 0.810820\n",
      "\n",
      "Val set: Average loss: 0.0064, Accuracy: 1262/2000 (63%)\n",
      "\n",
      "\n",
      "Test set: Average loss: 0.0067, Accuracy: 7429/12284 (60%)\n",
      "\n"
     ]
    }
   ]
  },
  {
   "cell_type": "code",
   "source": [
    "# Train BiRNN_attention without pretrained word embedding\n",
    "# TODO\n",
    "# myBiRNN_attentionRaw=BiRNN_attention(vocab_size=len(wordmap), embed_size=embeddingSize,num_hiddens=5,num_layers=5)\n",
    "myBiRNN_attentionRaw = torch.load('myBiRNN_attentionRaw.pth')\n",
    "train(myBiRNN_attentionRaw,lr=0.05,epoch=20)\n",
    "torch.save(myBiRNN_attentionRaw, 'myBiRNN_attentionRaw.pth')\n",
    "test(myBiRNN_attentionRaw)"
   ],
   "metadata": {
    "id": "uiRSuAy0GBdJ",
    "pycharm": {
     "name": "#%%\n"
    }
   },
   "execution_count": 488,
   "outputs": [
    {
     "name": "stdout",
     "output_type": "stream",
     "text": [
      "statr training\n",
      "Train Epoch: 0 \tLoss: 0.847703\n",
      "\n",
      "Val set: Average loss: 0.0080, Accuracy: 950/2000 (48%)\n",
      "\n",
      "Train Epoch: 1 \tLoss: 0.971704\n",
      "\n",
      "Val set: Average loss: 0.0079, Accuracy: 956/2000 (48%)\n",
      "\n",
      "Train Epoch: 2 \tLoss: 0.923795\n",
      "\n",
      "Val set: Average loss: 0.0079, Accuracy: 976/2000 (49%)\n",
      "\n",
      "Train Epoch: 3 \tLoss: 0.958887\n",
      "\n",
      "Val set: Average loss: 0.0079, Accuracy: 956/2000 (48%)\n",
      "\n",
      "Train Epoch: 4 \tLoss: 1.012597\n",
      "\n",
      "Val set: Average loss: 0.0078, Accuracy: 1002/2000 (50%)\n",
      "\n",
      "Train Epoch: 5 \tLoss: 0.819312\n",
      "\n",
      "Val set: Average loss: 0.0077, Accuracy: 1017/2000 (51%)\n",
      "\n",
      "Train Epoch: 6 \tLoss: 1.016764\n",
      "\n",
      "Val set: Average loss: 0.0077, Accuracy: 1023/2000 (51%)\n",
      "\n",
      "Train Epoch: 7 \tLoss: 0.953061\n",
      "\n",
      "Val set: Average loss: 0.0081, Accuracy: 993/2000 (50%)\n",
      "\n",
      "Train Epoch: 8 \tLoss: 1.005108\n",
      "\n",
      "Val set: Average loss: 0.0076, Accuracy: 1049/2000 (52%)\n",
      "\n",
      "Train Epoch: 9 \tLoss: 0.905162\n",
      "\n",
      "Val set: Average loss: 0.0080, Accuracy: 991/2000 (50%)\n",
      "\n",
      "Train Epoch: 10 \tLoss: 0.992361\n",
      "\n",
      "Val set: Average loss: 0.0076, Accuracy: 1037/2000 (52%)\n",
      "\n",
      "Train Epoch: 11 \tLoss: 0.990478\n",
      "\n",
      "Val set: Average loss: 0.0074, Accuracy: 1069/2000 (53%)\n",
      "\n",
      "Train Epoch: 12 \tLoss: 0.949381\n",
      "\n",
      "Val set: Average loss: 0.0075, Accuracy: 1071/2000 (54%)\n",
      "\n",
      "Train Epoch: 13 \tLoss: 0.857682\n",
      "\n",
      "Val set: Average loss: 0.0074, Accuracy: 1081/2000 (54%)\n",
      "\n",
      "Train Epoch: 14 \tLoss: 0.933322\n",
      "\n",
      "Val set: Average loss: 0.0075, Accuracy: 1069/2000 (53%)\n",
      "\n",
      "Train Epoch: 15 \tLoss: 0.922031\n",
      "\n",
      "Val set: Average loss: 0.0074, Accuracy: 1094/2000 (55%)\n",
      "\n",
      "Train Epoch: 16 \tLoss: 0.861271\n",
      "\n",
      "Val set: Average loss: 0.0073, Accuracy: 1096/2000 (55%)\n",
      "\n",
      "Train Epoch: 17 \tLoss: 0.875966\n",
      "\n",
      "Val set: Average loss: 0.0073, Accuracy: 1102/2000 (55%)\n",
      "\n",
      "Train Epoch: 18 \tLoss: 1.038810\n",
      "\n",
      "Val set: Average loss: 0.0074, Accuracy: 1080/2000 (54%)\n",
      "\n",
      "Train Epoch: 19 \tLoss: 0.964985\n",
      "\n",
      "Val set: Average loss: 0.0073, Accuracy: 1103/2000 (55%)\n",
      "\n",
      "\n",
      "Test set: Average loss: 0.0085, Accuracy: 5639/12284 (46%)\n",
      "\n"
     ]
    }
   ]
  },
  {
   "cell_type": "markdown",
   "source": [
    "# Report (optional)\n",
    "You can briefly report what strategies you attempted in this assignment."
   ],
   "metadata": {
    "id": "Cpjn8StjHcY9",
    "pycharm": {
     "name": "#%% md\n"
    }
   }
  }
 ]
}