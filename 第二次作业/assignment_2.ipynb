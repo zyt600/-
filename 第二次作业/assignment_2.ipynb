{
 "nbformat": 4,
 "nbformat_minor": 0,
 "metadata": {
  "colab": {
   "provenance": [],
   "collapsed_sections": [
    "KVAMnQR8xflq",
    "LLvOvdMbO9Qn",
    "7teo5qvRPnYP",
    "VPEcJ_L8QqZu",
    "fXPeeetKXvWh",
    "hOkdvhoeRHu3",
    "zbw-0N7KQ6B2",
    "MOfFQoClxPTl",
    "mDPbq8VmEvdB",
    "1HE235LrErqv"
   ]
  },
  "kernelspec": {
   "name": "python3",
   "display_name": "Python 3"
  },
  "language_info": {
   "name": "python"
  },
  "accelerator": "GPU"
 },
 "cells": [
  {
   "cell_type": "markdown",
   "source": [
    "# Assignment 2\n",
    "You will tackle with a sentiment classification task using LSTM model and attention mechanism in this assigment."
   ],
   "metadata": {
    "id": "00iMtrQaVkW-",
    "pycharm": {
     "name": "#%% md\n"
    }
   }
  },
  {
   "cell_type": "markdown",
   "source": [
    "# Dependencies\n",
    "Please make sure that you are using **GPU** to accelarate computation.\n",
    "\n",
    "Colab FAQ: https://research.google.com/colaboratory/faq.html"
   ],
   "metadata": {
    "id": "GS0Y5IA2T58y",
    "pycharm": {
     "name": "#%% md\n"
    }
   }
  },
  {
   "cell_type": "markdown",
   "source": [
    "## Import dependencies"
   ],
   "metadata": {
    "id": "KVAMnQR8xflq",
    "pycharm": {
     "name": "#%% md\n"
    }
   }
  },
  {
   "cell_type": "code",
   "source": [
    "import torch\n",
    "import os\n",
    "import collections\n",
    "from torch import nn\n",
    "from torch.utils.data import TensorDataset, DataLoader,Dataset\n",
    "import torch.nn.functional as F\n",
    "from torch.utils.data.dataset import T_co\n",
    "from tqdm import tqdm\n",
    "import math\n",
    "import random\n",
    "import numpy as np"
   ],
   "metadata": {
    "id": "6Kk2dEh8--MH",
    "pycharm": {
     "name": "#%%\n"
    }
   },
   "execution_count": 1,
   "outputs": []
  },
  {
   "cell_type": "code",
   "source": [
    "# Set up your device \n",
    "cuda = torch.cuda.is_available()\n",
    "device = torch.device(\"cuda:0\" if cuda else \"cpu\")\n",
    "print('Using {} device'.format(device))\n",
    "# The assertion is to make sure GPU is available\n",
    "assert cuda == True"
   ],
   "metadata": {
    "id": "MdjDF7WRF7UU",
    "pycharm": {
     "name": "#%%\n"
    }
   },
   "execution_count": 12,
   "outputs": [
    {
     "name": "stdout",
     "output_type": "stream",
     "text": [
      "Using cuda:0 device\n"
     ]
    }
   ]
  },
  {
   "cell_type": "code",
   "source": [
    "# Set up random seed to 1008. Do not change the random seed.\n",
    "# Yes, these are all necessary when you run experiments!\n",
    "seed = 1008\n",
    "random.seed(seed)\n",
    "np.random.seed(seed)\n",
    "torch.manual_seed(seed)\n",
    "if cuda:\n",
    "    torch.cuda.manual_seed(seed)\n",
    "    torch.cuda.manual_seed_all(seed)\n",
    "    torch.backends.cudnn.benchmark = False\n",
    "    torch.backends.cudnn.deterministic = True\n"
   ],
   "metadata": {
    "id": "wXkKqcxiO6b3",
    "pycharm": {
     "name": "#%%\n"
    }
   },
   "execution_count": 3,
   "outputs": []
  },
  {
   "cell_type": "markdown",
   "source": [
    "## Data\n",
    "The script below will download the required sentiment analysis data.\n",
    "\n",
    "Data folder will be visible in the Colab file-explorer pane, which is loacted at left side of the page.\n"
   ],
   "metadata": {
    "id": "LLvOvdMbO9Qn",
    "pycharm": {
     "name": "#%% md\n"
    }
   }
  },
  {
   "cell_type": "code",
   "source": [
    "# !wget --no-check-certificate \"https://docs.google.com/uc?export=download&id=1jqYJ9jhjukhXvEk4GnMAPYE-SvhSG24i\" -O data.zip\n",
    "# !unzip data.zip"
   ],
   "metadata": {
    "id": "SxNT5mN-rHGD",
    "pycharm": {
     "name": "#%%\n"
    }
   },
   "execution_count": 4,
   "outputs": []
  },
  {
   "cell_type": "markdown",
   "source": [
    "## Corpus\n",
    "Glove will be used as the word embedding tool in this assigment."
   ],
   "metadata": {
    "id": "7teo5qvRPnYP",
    "pycharm": {
     "name": "#%% md\n"
    }
   }
  },
  {
   "cell_type": "code",
   "source": [
    "# !wget https://nlp.stanford.edu/data/glove.6B.zip\n",
    "# !unzip glove.6B.zip"
   ],
   "metadata": {
    "id": "34dba6GT_EhP",
    "pycharm": {
     "name": "#%%\n"
    }
   },
   "execution_count": 5,
   "outputs": []
  },
  {
   "cell_type": "markdown",
   "source": [
    "# Preprocess\n",
    "Preprocess data, then construct dataloader and vocabulary."
   ],
   "metadata": {
    "id": "VPEcJ_L8QqZu",
    "pycharm": {
     "name": "#%% md\n"
    }
   }
  },
  {
   "cell_type": "markdown",
   "source": [
    "## Load Glove pretrained word embedding."
   ],
   "metadata": {
    "id": "fXPeeetKXvWh",
    "pycharm": {
     "name": "#%% md\n"
    }
   }
  },
  {
   "cell_type": "code",
   "source": [
    "# TODO"
   ],
   "metadata": {
    "id": "nADNNIT11U-P",
    "pycharm": {
     "name": "#%%\n"
    }
   },
   "execution_count": null,
   "outputs": []
  },
  {
   "cell_type": "markdown",
   "source": [
    "## Construct your own vocabulary without other corpus.\n",
    "Hint: You should construct a vocabulary to map the word to index."
   ],
   "metadata": {
    "id": "hOkdvhoeRHu3",
    "pycharm": {
     "name": "#%% md\n"
    }
   }
  },
  {
   "cell_type": "code",
   "source": [
    "# TODO"
   ],
   "metadata": {
    "id": "FXgxiqptBsAK",
    "pycharm": {
     "name": "#%%\n"
    }
   },
   "execution_count": null,
   "outputs": []
  },
  {
   "cell_type": "markdown",
   "source": [
    "## Load data\n",
    "Load data and construct dataloader."
   ],
   "metadata": {
    "id": "zbw-0N7KQ6B2",
    "pycharm": {
     "name": "#%% md\n"
    }
   }
  },
  {
   "cell_type": "code",
   "source": [
    "# TODO"
   ],
   "metadata": {
    "id": "p5zh-qrS_aAl",
    "pycharm": {
     "name": "#%%\n"
    }
   },
   "execution_count": 7,
   "outputs": []
  },
  {
   "cell_type": "code",
   "execution_count": 11,
   "outputs": [
    {
     "name": "stdout",
     "output_type": "stream",
     "text": [
      "myDataset from sentiment\\train_text.txt is created,length is 45615\n",
      "myDataset from sentiment\\val_text.txt is created,length is 2000\n",
      "myDataset from sentiment\\test_text.txt is created,length is 12284\n",
      "\n",
      "train_features:\n",
      "\n",
      " ('Spur of the moment....Going to San Diego for the #NFL Game tonight!  Psyched!  #NHL Ducks Game tomorrow!   Great start to the weekend!  =) ', \"tomorrow going to Kyiv...but won't go to school))) hoho) \", 'May I get a Lucas Scott for a sleepover tonight? Please! #DalalWantsLucasScott ', '\"If my queen is in the 26th place, THE QUEEN must be in the first one #MTVStars Lady Gaga\" ', 'All the best my champ .. I hope u will rise above seth rollins. Love u ', 'Thor may want to pull back a little on working the calf muscles at the gym but otherwise....come to mama. #Purr ', 'Think I may have fallen in love with @user only 30 minutes into Sharknado 1 ha. ', '\"So, I get to work the Jason Aldean concert this Sunday at @user ! Find me at the @user booth!\" ', 'RT @user michael jackson - hollywood tonight ', '\"CNN adjusts GOP debate eligibility such that if the debate were tomorrow, Carly Fiorina would be in.\" ', 'Cate Blanchett speaks during the 7th annual Governors Awards ceremony. ', 'Fans of both Foo Fighters and Nirvana likely had that Exacta in the 4th at #Saratoga: #2 Watershed to #5 Come As You Are ', 'Reminds me of the best night of my life. RT @user 9am in dallas ', 'Who is going to the #UnitedSoundsOfAfrica concert tomorrow at Irving Plaza NYC? cc @user ', 'I\\\\u2019m not sure how Teddy Bridgewater playing in the Orange Bowl will go over in Miami. We may find out. ', \"now i know why i was overly upset like someone died on the 30th..not just for jessica but also for lee soo man's wife and sunny's aunt :( \", '\"LADIES!  BULK ORDER GOES IN TOMORROW AT 10PM CST!  1 more day to give me your orders for ANY Younique product,... ', 'Mark Cuban: Apple TV Is a Pipe Dream And why the HDNet founder thinks that may be a good thing... ', 'Sam Smith is singing the song for the new James Bond. I think I may have fallen in love even more. #spectre #bond ', 'From the Soundboard will feature #GeorgeCarlin and #PaulMooney Wed Jul 11 3 to 5am  summer fund drive. #donate #money @user ', 'Batman #44 drops tomorrow. Make sure you go pick it up. Seriously! ', 'T-G News: Normandy post office saved: The U.S. Postal Service announced a plan Wednesday that will keep the Norm... ', '\"Foo Fighters are here TOMORROW! Join us for happy hour before the show at Gate 1 from 5-7pm.  $5 cocktails, $4 beer, $3 sodas/water\" ', 'Holy content Batman! Not gonna get it done tonight, but early tomorrow before I leave for work, it WILL be up!  ', 'Today @user launches, with apps for iOS and Android devices in the US and UK, here is what you need to know ', 'Mizzou moves back the start time for their opener w/ SIUE on November 10th because of football.  #siuenation  ', 'Thursday Night on KXLU! Get the @user app for IOS or Android at and LISTEN! ', 'THE BEE GEES First Of May  MINT 45 RPM with ORIGINAL SLEEVE ', '@user Hey\\\\u002c what time are we suppose to be at school on Monday and what time will it end? ', '\"Double IT first thing tomorrow! YYYYEEEESSSS!!!!! ', '@user oh god, i love the water temple in twilight princess so much, it\\'s my 2nd favourite in the game. who\\'s your least fave boss?\" ', '\"Escape the Room this weekend, 3rd Row Phillies next weekend, Jason Aldean Aug 15 if I can win tickets! #BirthdayMonth\" ', '\"Whitney Houston\\'s daughter Bobbi Kristina stars in a new reality show, much of it filmed in Atlanta ', '\"Excited to read \"\"Go Set a Watchman\"\" on Tuesday.  But can it possibly live up to \"\"To Kill a Mockingbird?\"\"  Any opinions?\" ', 'Thursday\\\\u2019s just won\\\\u2019t be the same without Waterloo Road ', \"They don't have a 1st Amendment in Israel. So it's perfectly legal! \", '@user September is a great birthday month! Same with me. Great to see your name at Harry Potter today too! ', '@user heard she can\\'t even eat an apple, her teeth are still loose &amp; fight in July? Dana White didn\\'t milk her enough?!\" ', '\"#Linsanity\\\\\"\"\"\"@ESPNStatsInfo: Jeremy Lin was a +23 for Rockets in his debut. That\\\\u2019s the 2nd-best plus-minus for him in any game in his career.\\\\\"\"\"\"\" ', \"I just watching Sharknado 3 AND Piranha DD. How's your Saturday night going? \", '\"Best attitude for living:   \\\\\"\"My Pain may be the Reason for Somebody\\\\u2019s Laugh\\\\u002c But My Laugh Must Never Be the... ', '@user oh thanks I appreciate it, they say the PS3 &amp; PS4 will have the night map on 8 September\" ', \"@user Hope the Albion didn't ruin your Sunday that much. Nice seeing you again pal \", \"Cali: what does 6 mean Me: what is the date of Independence Day Cali: when is Independence Day? I'm gunna go look it up  Me: it's July 4 \", '\"Ok seriously what day do you think Niall will fly back to London? 12th, 13th or later after his birthday??\" ', '\"I swear, the night before I leave for an away football weekend, I can\\'t sleep. It\\'s like grown up-lotsa beer-12th Man towel Disney World\" ', '\"6 more hrs then off with my hot wife till Wed.  Orillia, Casino and Jeff Foxworthy!!!\" ', 'YAAASSS hire him full time so he and Seth Rollins can beef forever ', '\"Leaving now for the long drive to Detroit, had about 3 hours of sleep after Chicago last night, but wide awake! See some of you tonight!!!\" ', '@user @user pkk broke the truce July 15 by a declaration and then murdering policemen but Erdogan is warmonger. Yeah right ', 'Friday at IHOP it was like 11:30 and I felt like it was 3 in the morning. I was so done. ', 'If Kanye West runs for president with a bit of luck he may just get assassinated #wecanonlyhope #letuspray ', 'Can\\\\u2019t even sleep.. All I can think about is how fucked Jordan is going to be when I just don\\\\u2019t answer my phone tomorrow. Haha sucks to suck ', 'Following the much publicized outbreak of measles that started in Disneyland in California in December, vaccine exemptions have drawn ', 'My mom is really lecturing me about how Sharknado is such a good movie &amp; that everyone watches it which is why they came out with a 3rd one. ', 'But does anyone wanna go to Boston with me tomorrow to see Richie Hawtin and Loco Dice perform? #cntrltour ', 'Should probably get to bed early. Big day tomorrow. National Hot Dog Day. ', '@user @user @user   Coach: Shawn, you\\'re suspended  Shawn Oakman: I\\'ll see you on Saturday  Coach: yes sir\" ', \"@user @user ik :'( nvm tomorrow I Chris Brown her like she's rihanna \", 'Wow and Pink Friday has got to number 16 in the albums chart. Well done Nicki Minaj. :D &lt;333 xxxx ', '@user is the real deal. I cannot wait to use it tomorrow night. PL Tournament. Watch it on CBS College Sports at 8:00 pm ', \"me and Gisselle had plans to go see Paper Towns tomorrow but she won't reply to my messages \", 'We hope you Cougars had a great Labor Day weekend! This Friday we will have Ultimate Cougar on the USU Lawn at 7pm! ', '\"I can feel Louis saying a huge \\'fuck you\\' to the Zayn  it may be just me, but I\\'m a lit student take my word for it\" ', 'C\\\\u2019mon @user you KNOW the BCA IS a budget\\\\u002c and STRONGER than a resolution. It\\\\u2019s a LAW. #OHSEN ', '@user As our CS team have explained the last shipping date for delivery to Saudi Arabia was December 3rd ', 'My guest mix which aired on Friday as part of Curtis &amp; Craig Presents Trance Action 100 hope you all enjoy ', 'Dustin Johnson gagged another Sunday @ the majors.  Did anyone tell him he still has to play Monday? ', 'Someone please go to work for me tomorrow so I can lay in bed and watch Greys Anatomy all day. ', 'My generation learned to love the NFL every Monday night thanks to Frank Gifford. Sending all my prayers to his family  #RIPFrankGifford ', '1st Day of 7th Grade...even Jay-Z the wonder horse wanted to be involved. ', 'SUNDERLAND WEEKLY GAY FRIENDLY EVENT tomorrow at the The Basement. Get on the event for guest list !!... ', \"Dustin Johnson and Sunday's just don't mesh well #PGAChampionship \", 'David de Gea to join Real Madrid in the January transfer window?: 4/11 no; 2/1 yes. #MUFC ', '\"we have still one schedule left,around 20-25 days work left with SRK . We finish that in Nov &amp; then Raees is ready for next Eid - Ritesh\" ', \"Alright Randy Orton's body is the 8th wonder of the world \", \"Also since I'm watching Aaron Samuels on dancing w/ the stars I'm just disappointed that I didn't give October 3rd proper justice #MeanGirls \", 'Why not give Rick Perry a look?  He is a Christian conservative with a proven record of 12th largest economy world. ', 'Whenever I see an ad for IBM, I think about how they helped Nazi Germany to organize concentration camp proceedures. ', \"I can't say that Rollins is the best WWE champ of all time....but he may rank above Hulk Hogan. Brother Brother Brother Brother #Raw \", \"@user which men's match do you think they will play on the Wednesday night slot?  Federer, Djokovic, or Murray!? \", 'It may be significant to some of those who enjoy movies with a cult following but Sharknado is a disgrace to the film industry ', '@user Yeah I\\\\u2019m like\\\\u002c 20 minutes from West Liberty. Text me the name of the stadium tomorrow. I\\\\u2019ll put it in my GPS. ', 'You\\\\u2019d think after not replying to the 3rd text the Twat face would get that I fucking hate him. ', '\"So Adrian nearly has as many fantasy points for my team as David Price does. 35 for Adrian, 42.5 for Price.   Still only the 7th. #Rangers\" ', '\"watch David Wright return and be David Wright ... \"\"THERE\\'S A CHANCE HE MAY NEVER BE THE SAME PLAYER\"\" ... no way! ... Also, a chance he is.\" ', \"He's still new to us. If Cole &amp; Kendrick just now getting the attention they deserve...c'mon now. These ppl clueless \", \"this song Black Friday by Kendrick has me so fucking wet he's a God \", \"@user @user @user so you balance out an American hero with a  woman beater? Who's on tomorrow the pope and O.J? \", 'FM Preview: West Ham United v Sunderland 22 Sep 2012 - FootyMad attempt to assist you with their form guide as West ... ', 'Deadpool game for Xbox One and PS4 arrives in mid-November: Activision has announced to release of the r... #Fari ', '\"I had a dream I talked to zayn and harry, we were at the concert &amp; zayn was there to see the boys, then harry sat on my lap and danced WHAT\" ', 'Super Girls:Dillion Harper gets kinky with April ONeil in saphic massage  #BigTits ', 'Franzen: I will bring back the dinosaurs so I may study them. Editor: How about you watch Jurassic Park? Franzen: Okay!! #FailedFranzenPlans ', 'My 2nd favorite in the Brazilian NT and sa Chelsea pd. Happy Birthday @user :D And sa uban pa naa sa lista  mehehe ', '\"Tomorrow is Nurses Day, and MSC is celebrating it in a very special way. Just stop by and make any purchase to... ', '\"Can I fund on type of IRA while tapping another? for many people, it may be a good idea\" ', \"'Hulk Hogan' appeared on Friday 24 at the 1st place in the Top20 of Leeds's Trends: #trndnl \", '\"Did you know this Sunday is National Ice Cream Day? At ABCO, this is a fun way for our team to enjoy the end of... ', '\"LG may update the Optimus 2X to ICS after all, releases source code: The saga of the elusive ICS update for the ... ', 'Live at D-tronics 20th Anniversary with Locations valley wide McAllen\\\\u002cEdinburg\\\\u002cHarlingen\\\\u002cBrownsville they have... ', 'Pretense promoting ibm machine accessories november have place sound the clobber oneself sexual desire vice plug!: UDIqh ', 'Zimmerman to appear in court: A notice to appear was filed Thursday in the case against George Zimmerman. ', '\"RT @user The guy is a nut, but I will miss Andy Rooney rambling about something ridiculous each Sunday night: ', '@user @user I would be very surprised if a publisher skipped the Xbox One due to PS4 selling more copies of 3rd party titles. ', 'ok lame but i want to have a Niall birthday party on Sunday ', 'Find out why Curtis was awarded the 7th Annual @user #HamboneAward: ', 'Huge weekend coming up at The KEE to Bala! Come and celebrate KEE-ANADA day with us on Sunday! We have a huge... ', '\"So George Osborne, Therera May &amp; Yvette Cooper, all of whom want to be the next PM, are teaming up to stop Boris. He\\'s the one they all fear\" ', '@user Yeah\\\\u002c but one of them is an old lady who looks like a Jim Henson creature left out in the Sun. ', '\"Eid was on Sat.&amp; #BajrangiBhaijaan is Salman Khan\\'s Film with No-Action,Good WOM. Only Monday(if not low)&amp; Tuesday BOC can make things clear\" ', 'Sooooo I may or may not be freaking out. I was watching their show at Radio City and umm it just like...hit ', 'Waste your Friday playing the new Iron Maiden video game! ', '\"Awesome release day tomorrow with Iron Maiden, Amorphis and Riverside, and can\\'t really afford either. If I want to be sensible at least.\" ', 'My mom works with the mother of the girl that won Homecoming Queen at PHS last Friday and the company just sent out the sweetest email. ', 'Hammond: we now have a balanced budget with an affordable equipment programme\\\\u002c backed by what will still be the 4th largest defence budget. ', '\"I googled \\\\\"\"coffee & its immediate response\\\\u002c mechanisms\\\\\"\" the first page that appeared \\\\\"\"September 11 attacks\\\\u002c Wiki\\\\\"\".. I dont see the link here\" ', \"In the paparazzi video where they take cliche for the sun you can clearly see Louis not realising that there's Briana behind him \", 'Let the debate begin: Eli or Big Ben - When the Steelers play the Giants on Sunday\\\\u002c there will be something swirling... ', '\"\\\\\"\"\"\" @user I may say bad words too but that doesn\\\\u2019t mean i lost my Christianity\\\\u002c i love you God\\\\\"\"\"\" true\" ', 'Brilliant 85 mins for @user in the Mersey derby. Not a bad game for 1st goal.... ', 'November 1st - Kicking it off the start of the Holiday Season w/ Love Actually followed by Dashboard Confessional for the loneliness. ', \"It's my 6th year on Kpop scene so maybe i know some things that you don't know dear. \", 'Ok\\\\u002c Party People\\\\u002c who\\\\u2019s going to be at Jeff Timmons\\\\u2019 Last Wired Show tomorrow night? Show him some Love if you\\\\u2019re in town! :) ', '@user @user 1st uneasyness was when he got v defensive about the Charlie Hebdo stuff, even tho he had pals patiently explaining\" ', '@user I have no idea who that is! Was thinking about Wednesday Adams, not just so I can wear a wig, honest.\" ', 'I am honored to be celebrating 50 years of Grateful Dead music at the SF Giants game tomorrow night by singing... ', '\"Just move De Gea to Real Madrid, this world is crazy. Who cares about 23:59 just move him tomorrow please.\" ') \n",
      "\n",
      "train_labels:\n",
      " ('2', '2', '1', '1', '2', '2', '2', '2', '1', '2', '1', '2', '2', '1', '1', '0', '1', '2', '2', '1', '2', '1', '2', '2', '2', '1', '1', '1', '1', '2', '2', '2', '1', '2', '0', '2', '2', '0', '2', '1', '2', '2', '2', '1', '1', '1', '2', '2', '1', '0', '2', '0', '0', '0', '2', '1', '2', '1', '1', '2', '2', '1', '2', '0', '1', '1', '2', '1', '1', '2', '1', '2', '0', '1', '1', '2', '0', '1', '0', '2', '1', '0', '1', '0', '2', '1', '1', '2', '1', '1', '1', '1', '1', '2', '2', '2', '1', '1', '2', '1', '1', '1', '1', '0', '1', '1', '1', '2', '1', '0', '1', '1', '1', '2', '2', '2', '0', '0', '1', '2', '2', '1', '1', '2', '1', '1', '2', '0')\n"
     ]
    }
   ],
   "source": [
    "import torch\n",
    "from torch import nn\n",
    "\n",
    "data_dir = 'sentiment'\n",
    "trainTextPath=data_dir+os.sep+\"train_text.txt\"\n",
    "trainLabelPath=data_dir+os.sep+\"train_labels.txt\"\n",
    "\n",
    "testTextPath=data_dir+os.sep+\"test_text.txt\"\n",
    "testLabelPath=data_dir+os.sep+\"test_labels.txt\"\n",
    "\n",
    "valTextPath=data_dir+os.sep+\"val_text.txt\"\n",
    "valLabelPath=data_dir+os.sep+\"val_labels.txt\"\n",
    "\n",
    "class myDataset(Dataset):\n",
    "    def __init__(self,textpath,labelpath):\n",
    "        f=open(textpath,mode=\"r\",encoding=\"utf-8\")\n",
    "        fread=f.read()\n",
    "        fread=fread.split(\"\\n\")\n",
    "        self.textList=fread[:-1]\n",
    "        f.close()\n",
    "\n",
    "        f=open(labelpath,mode=\"r\")\n",
    "        fread=f.read()\n",
    "        fread=fread.split(\"\\n\")\n",
    "        self.labelList=fread[:-1]\n",
    "        f.close()\n",
    "\n",
    "        if len(self.textList)==len(self.labelList):\n",
    "            print(\"myDataset from\",textpath,\"is created,length is\",len(self.textList))\n",
    "        else:\n",
    "            print(\"length different error\")\n",
    "    def __getitem__(self, index):\n",
    "        return self.textList[index],self.labelList[index]\n",
    "\n",
    "    def __len__(self):\n",
    "        return len(self.textList)\n",
    "\n",
    "trainDataset=myDataset(trainTextPath,trainLabelPath)\n",
    "valDataset=myDataset(valTextPath,valLabelPath)\n",
    "testDataset=myDataset(testTextPath,testLabelPath)\n",
    "\n",
    "trainDataLoader=DataLoader(trainDataset,batch_size=128,shuffle=True)\n",
    "valDataLoader=DataLoader(valDataset,batch_size=128,shuffle=True)\n",
    "testDataLoader=DataLoader(testDataset,batch_size=128,shuffle=False)\n",
    "\n",
    "# 输出一个batch的数据看一看\n",
    "train_features, train_labels = next(iter(trainDataLoader))\n",
    "print(\"\\ntrain_features:\\n\\n\",train_features,\"\\n\\ntrain_labels:\\n\" ,train_labels)"
   ],
   "metadata": {
    "collapsed": false,
    "pycharm": {
     "name": "#%%\n"
    }
   }
  },
  {
   "cell_type": "markdown",
   "source": [
    "## Model Zoo"
   ],
   "metadata": {
    "id": "mDPbq8VmEvdB",
    "pycharm": {
     "name": "#%% md\n"
    }
   }
  },
  {
   "cell_type": "code",
   "source": [
    "class BiRNN(nn.Module):\n",
    "    def __init__(self, vocab_size, embed_size, num_hiddens, num_layers, pretrained_embedding=None, **kwargs):\n",
    "        super(BiRNN, self).__init__()\n",
    "        if pretrained_embedding is None:\n",
    "            self.embedding = nn.Embedding(vocab_size, embed_size)\n",
    "        else:\n",
    "            self.embedding= nn.Embedding.from_pretrained(torch.tensor(pretrained_embedding, dtype=torch.float), freeze=True)\n",
    "        self.encoder = nn.LSTM(embed_size, num_hiddens, num_layers=num_layers, bidirectional=True, batch_first=True)\n",
    "        self.decoder = nn.Sequential(nn.Linear(4 * num_hiddens, num_hiddens),\n",
    "                                     nn.Linear(num_hiddens, 3))\n",
    "\n",
    "    def forward(self, inputs):\n",
    "        embeddings = self.embedding(inputs)\n",
    "        self.encoder.flatten_parameters()\n",
    "        outputs, _ = self.encoder(embeddings)\n",
    "        encoding = torch.cat((outputs[:,0,:], outputs[:,-1,:]), dim=1)\n",
    "        outs = self.decoder(encoding)\n",
    "        return outs"
   ],
   "metadata": {
    "id": "vTyWAUr81oR9",
    "pycharm": {
     "name": "#%%\n"
    }
   },
   "execution_count": null,
   "outputs": []
  },
  {
   "cell_type": "code",
   "source": [
    "class BiRNN_attention(nn.Module):\n",
    "    def __init__(self, vocab_size, embed_size, num_hiddens, num_layers, pretrained_embedding=None, **kwargs):\n",
    "        super(BiRNN_attention, self).__init__()\n",
    "        if pretrained_embedding is None:\n",
    "            self.embedding = nn.Embedding(vocab_size, embed_size)\n",
    "        else:\n",
    "            self.embedding = nn.Embedding.from_pretrained(torch.tensor(pretrained_embedding, dtype=torch.float),\n",
    "                                                          freeze=True)\n",
    "        self.encoder = nn.LSTM(embed_size, num_hiddens, num_layers=num_layers, bidirectional=True, batch_first=True)\n",
    "        self.weight_W = nn.Parameter(torch.Tensor(2 * num_hiddens, 2 * num_hiddens))\n",
    "        self.weight_proj = nn.Parameter(torch.Tensor(2 * num_hiddens, 1))\n",
    "\n",
    "        self.decoder = nn.Sequential(nn.Linear(2 * num_hiddens, num_hiddens),\n",
    "                                     nn.Linear(num_hiddens, 3))\n",
    "        nn.init.uniform_(self.weight_W, -0.1, 0.1)\n",
    "        nn.init.uniform_(self.weight_proj, -0.1, 0.1)\n",
    "\n",
    "\n",
    "    def forward(self, inputs):\n",
    "        mask = 1 - torch.clamp(inputs, min=0, max=1)\n",
    "        embeddings = self.embedding(inputs)\n",
    "        states, hidden = self.encoder(embeddings.permute([0, 1, 2]))\n",
    "        u = torch.tanh(torch.matmul(states, self.weight_W))\n",
    "        att = torch.matmul(u, self.weight_proj)\n",
    "        att = att + mask.unsqueeze(2) * -1e7\n",
    "        att_score = F.softmax(att, dim=1)\n",
    "        scored_x = states * att_score\n",
    "        encoding = torch.sum(scored_x, dim=1)\n",
    "        outputs = self.decoder(encoding)\n",
    "\n",
    "        return outputs"
   ],
   "metadata": {
    "id": "WBXSkgb41oVF",
    "pycharm": {
     "name": "#%%\n"
    }
   },
   "execution_count": null,
   "outputs": []
  },
  {
   "cell_type": "markdown",
   "source": [
    "## Training\n",
    "You should train two models above with Glove pretrained word embedding and random initialized word embedding.\n",
    "\n",
    "Evaluation on the validation set and print out accuracy after training one epoch is required.\n",
    "\n",
    "You can tune some parameters and try different techniques, such as learning rate scheduler."
   ],
   "metadata": {
    "id": "1HE235LrErqv",
    "pycharm": {
     "name": "#%% md\n"
    }
   }
  },
  {
   "cell_type": "code",
   "source": [
    "# Train BiRNN with Glove pretrained word embedding\n",
    "# TODO\n",
    "myBiRNNpretrained=BiRNN(vocab_size=0,embed_size=300,)"
   ],
   "metadata": {
    "id": "j3gbyRUXEPZP",
    "pycharm": {
     "name": "#%%\n"
    }
   },
   "execution_count": null,
   "outputs": []
  },
  {
   "cell_type": "code",
   "source": [
    "# Train BiRNN without pretrained word embedding\n",
    "# TODO"
   ],
   "metadata": {
    "id": "6rXFCb56GBOK",
    "pycharm": {
     "name": "#%%\n"
    }
   },
   "execution_count": null,
   "outputs": []
  },
  {
   "cell_type": "code",
   "source": [
    "# Train BiRNN_attention with Glove pretrained embedding\n",
    "# TODO"
   ],
   "metadata": {
    "id": "aeetQ2uZGBXf",
    "pycharm": {
     "name": "#%%\n"
    }
   },
   "execution_count": null,
   "outputs": []
  },
  {
   "cell_type": "code",
   "source": [
    "# Train BiRNN_attention without pretrained word embedding\n",
    "# TODO"
   ],
   "metadata": {
    "id": "uiRSuAy0GBdJ",
    "pycharm": {
     "name": "#%%\n"
    }
   },
   "execution_count": null,
   "outputs": []
  },
  {
   "cell_type": "markdown",
   "source": [
    "# Report (optional)\n",
    "You can briefly report what strategies you attempted in this assignment."
   ],
   "metadata": {
    "id": "Cpjn8StjHcY9",
    "pycharm": {
     "name": "#%% md\n"
    }
   }
  }
 ]
}