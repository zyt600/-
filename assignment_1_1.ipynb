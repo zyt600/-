{
 "cells": [
  {
   "cell_type": "markdown",
   "source": [
    "# Assignment 1\n",
    "## [Section 1]\n",
    "This section will make you familier with \n",
    "1. some pytorch basics\n",
    "2. how to train a simple model with linear layers and non-linearity activation layer\n",
    "3. the effect of number of layers"
   ],
   "metadata": {
    "id": "HAvpFCryu8qv",
    "pycharm": {
     "name": "#%% md\n"
    }
   }
  },
  {
   "cell_type": "code",
   "execution_count": 1,
   "metadata": {
    "id": "EyJt4yZIQAem",
    "pycharm": {
     "name": "#%%\n"
    }
   },
   "outputs": [],
   "source": [
    "# Import dependencies\n",
    "import random\n",
    "import numpy as np\n",
    "import torch\n",
    "import torch.nn as nn\n",
    "\n",
    "from matplotlib import pyplot as plt\n",
    "from matplotlib.pyplot import plot, title, axis"
   ]
  },
  {
   "cell_type": "code",
   "execution_count": 3,
   "metadata": {
    "id": "VTHDQFHFQAeq",
    "pycharm": {
     "name": "#%%\n"
    }
   },
   "outputs": [
    {
     "name": "stdout",
     "output_type": "stream",
     "text": [
      "cuda:0\n"
     ]
    }
   ],
   "source": [
    "# Set up your device \n",
    "cuda = torch.cuda.is_available()\n",
    "device = torch.device(\"cuda:0\" if cuda else \"cpu\")\n",
    "print(device)\n",
    "# o=torch.full((5,5),1)\n",
    "# row2=torch.full((1,5),2)\n",
    "# col2=torch.full((5,1),2)\n",
    "# o[1]=row2\n",
    "# print(o)\n",
    "# print((o[:,2]))"
   ]
  },
  {
   "cell_type": "code",
   "execution_count": 4,
   "metadata": {
    "id": "exqe27QXQAet",
    "pycharm": {
     "name": "#%%\n"
    }
   },
   "outputs": [],
   "source": [
    "# Set up random seed to 1008. Do not change the random seed.\n",
    "# Yes, these are all necessary when you run experiments!\n",
    "seed = 1008\n",
    "random.seed(seed)\n",
    "np.random.seed(seed)\n",
    "torch.manual_seed(seed)\n",
    "if cuda:\n",
    "    torch.cuda.manual_seed(seed)\n",
    "    torch.cuda.manual_seed_all(seed)\n",
    "    torch.backends.cudnn.benchmark = False\n",
    "    torch.backends.cudnn.deterministic = True"
   ]
  },
  {
   "cell_type": "code",
   "source": [
    "# These helper functions are for visualization later\n",
    "def set_default(figsize=(10, 10), dpi=100):\n",
    "    plot.style.use(['dark_background', 'bmh'])\n",
    "    plot.rc('axes', facecolor='k')\n",
    "    plot.rc('figure', facecolor='k')\n",
    "    plot.rc('figure', figsize=figsize, dpi=dpi)\n",
    "\n",
    "def show_scatterplot(X, colors, title=''):\n",
    "    colors = colors.cpu().numpy()\n",
    "    X = X.cpu().numpy()\n",
    "    plt.figure()\n",
    "    plt.axis('equal')\n",
    "    plt.scatter(X[:, 0], X[:, 1], c=colors, s=30)\n",
    "    # plt.grid(True)\n",
    "    plt.title(title)\n",
    "    plt.axis('off')\n",
    "\n",
    "def plot_bases(bases, width=0.04):\n",
    "    bases = bases.cpu()\n",
    "    bases[2:] -= bases[:2]\n",
    "    plt.arrow(*bases[0], *bases[2], width=width, color=(1,0,0), zorder=10, alpha=1., length_includes_head=True)\n",
    "    plt.arrow(*bases[1], *bases[3], width=width, color=(0,1,0), zorder=10, alpha=1., length_includes_head=True)"
   ],
   "metadata": {
    "id": "uzHwe6-nxsNJ",
    "pycharm": {
     "name": "#%%\n"
    }
   },
   "execution_count": 5,
   "outputs": []
  },
  {
   "cell_type": "markdown",
   "metadata": {
    "id": "7krs-4XOQAev",
    "pycharm": {
     "name": "#%% md\n"
    }
   },
   "source": [
    "# 1. Tensor [1 pt]\n",
    "Write a function `build_tensor()` that returns the 2D tensor with integers below. **Do not use any loops**.\n",
    "\n",
    "```\n",
    "1 2 1 1 1 1 2 1 1 1 1 2 1\n",
    "2 2 2 2 2 2 2 2 2 2 2 2 2\n",
    "1 2 1 1 1 1 2 1 1 1 1 2 1\n",
    "1 2 1 3 3 1 2 1 3 3 1 2 1\n",
    "1 2 1 3 3 1 2 1 3 3 1 2 1\n",
    "1 2 1 1 1 1 2 1 1 1 1 2 1\n",
    "2 2 2 2 2 2 2 2 2 2 2 2 2\n",
    "1 2 1 1 1 1 2 1 1 1 1 2 1\n",
    "1 2 1 3 3 1 2 1 3 3 1 2 1\n",
    "1 2 1 3 3 1 2 1 3 3 1 2 1\n",
    "1 2 1 1 1 1 2 1 1 1 1 2 1\n",
    "2 2 2 2 2 2 2 2 2 2 2 2 2\n",
    "1 2 1 1 1 1 2 1 1 1 1 2 1\n",
    "```\n",
    "\n",
    "\n",
    "Hint: Use `torch.full`, `torch.fill_`, and the slicing operator."
   ]
  },
  {
   "cell_type": "code",
   "execution_count": 6,
   "metadata": {
    "id": "JsFk9OUoQAew",
    "pycharm": {
     "name": "#%%\n"
    }
   },
   "outputs": [],
   "source": [
    "def build_tensor():\n",
    "    outt = torch.full((13, 13), 1)\n",
    "    row2 = torch.full((1, 13), 2)\n",
    "    col2 = torch.full((13, 1), 2)\n",
    "    outt[[1, 6, 11]] = row2\n",
    "    outt[:, [1, 6, 11]] = col2\n",
    "    outt[[3, 3, 4, 4], [3, 4, 3, 4]] = 3\n",
    "    outt[[8, 8, 9, 9], [8, 9, 8, 9]] = 3\n",
    "    outt[[3, 3, 4, 4], [8, 9, 8, 9]] = 3\n",
    "    outt[[8, 8, 9, 9], [3, 4, 3, 4]] = 3\n",
    "    return outt"
   ]
  },
  {
   "cell_type": "code",
   "source": [
    "# You can use this assertion to make sure the answer is right.\n",
    "# Before diving into the next question, you should pass the test.\n",
    "assert (build_tensor() == \n",
    "        torch.tensor([[1, 2, 1, 1, 1, 1, 2, 1, 1, 1, 1, 2, 1],\n",
    "        [2, 2, 2, 2, 2, 2, 2, 2, 2, 2, 2, 2, 2],\n",
    "        [1, 2, 1, 1, 1, 1, 2, 1, 1, 1, 1, 2, 1],\n",
    "        [1, 2, 1, 3, 3, 1, 2, 1, 3, 3, 1, 2, 1],\n",
    "        [1, 2, 1, 3, 3, 1, 2, 1, 3, 3, 1, 2, 1],\n",
    "        [1, 2, 1, 1, 1, 1, 2, 1, 1, 1, 1, 2, 1],\n",
    "        [2, 2, 2, 2, 2, 2, 2, 2, 2, 2, 2, 2, 2],\n",
    "        [1, 2, 1, 1, 1, 1, 2, 1, 1, 1, 1, 2, 1],\n",
    "        [1, 2, 1, 3, 3, 1, 2, 1, 3, 3, 1, 2, 1],\n",
    "        [1, 2, 1, 3, 3, 1, 2, 1, 3, 3, 1, 2, 1],\n",
    "        [1, 2, 1, 1, 1, 1, 2, 1, 1, 1, 1, 2, 1],\n",
    "        [2, 2, 2, 2, 2, 2, 2, 2, 2, 2, 2, 2, 2],\n",
    "        [1, 2, 1, 1, 1, 1, 2, 1, 1, 1, 1, 2, 1]])).all()"
   ],
   "metadata": {
    "id": "7t9V7ZwxewwQ",
    "pycharm": {
     "name": "#%%\n"
    }
   },
   "execution_count": 7,
   "outputs": []
  },
  {
   "cell_type": "markdown",
   "metadata": {
    "id": "E8ivZVl5QAez",
    "pycharm": {
     "name": "#%% md\n"
    }
   },
   "source": [
    "# 2. To Loop or not to loop [3 pts]\n",
    "\n",
    "The following questions are intended to give you a flavor of looping."
   ]
  },
  {
   "cell_type": "markdown",
   "metadata": {
    "id": "mxGRJK4-QAe0",
    "pycharm": {
     "name": "#%% md\n"
    }
   },
   "source": [
    "## 2.1. `mul_row_loop` [1 pt]\n",
    "Write a function `mul_row_loop`, using python loops (O(mn)) with simple indexing but no advanced indexing/slicing, that receives a 2D tensor as input and returns a tensor of same size that is \n",
    "- equal to the input on the first row\n",
    "- 2 times the input's second row on the second row\n",
    "- 3 times the input's third row on the third row\n",
    "- etc..\n",
    "\n",
    "For instance:\n",
    "```\n",
    ">>> t = torch.full((4, 8), 2.0)\n",
    ">>> t\n",
    "tensor([[2., 2., 2., 2., 2., 2., 2., 2.],\n",
    "[2., 2., 2., 2., 2., 2., 2., 2.],\n",
    "[2., 2., 2., 2., 2., 2., 2., 2.],\n",
    "[2., 2., 2., 2., 2., 2., 2., 2.]])\n",
    ">>> mul_row(t)\n",
    "tensor([[2., 2., 2., 2., 2., 2., 2., 2.],\n",
    "[4., 4., 4., 4., 4., 4., 4., 4.],\n",
    "[6., 6., 6., 6., 6., 6., 6., 6.],\n",
    "[8., 8., 8., 8., 8., 8., 8., 8.]])\n",
    "```"
   ]
  },
  {
   "cell_type": "code",
   "execution_count": 8,
   "metadata": {
    "id": "5YIAg1mlQAe0",
    "pycharm": {
     "name": "#%%\n"
    }
   },
   "outputs": [],
   "source": [
    "def mul_row_loop(input_tensor):\n",
    "    for i in range(len(input_tensor)):\n",
    "        for j in range(len(input_tensor[0])):\n",
    "            input_tensor[i][j]*=(i+1)\n",
    "    return input_tensor"
   ]
  },
  {
   "cell_type": "code",
   "source": [
    "# You can use this assertion to make sure the answer is right.\n",
    "# Before step into the next question, you should pass the test.\n",
    "assert (mul_row_loop(build_tensor()) == torch.tensor([[ 1,  2,  1,  1,  1,  1,  2,  1,  1,  1,  1,  2,  1],\n",
    "        [ 4,  4,  4,  4,  4,  4,  4,  4,  4,  4,  4,  4,  4],\n",
    "        [ 3,  6,  3,  3,  3,  3,  6,  3,  3,  3,  3,  6,  3],\n",
    "        [ 4,  8,  4, 12, 12,  4,  8,  4, 12, 12,  4,  8,  4],\n",
    "        [ 5, 10,  5, 15, 15,  5, 10,  5, 15, 15,  5, 10,  5],\n",
    "        [ 6, 12,  6,  6,  6,  6, 12,  6,  6,  6,  6, 12,  6],\n",
    "        [14, 14, 14, 14, 14, 14, 14, 14, 14, 14, 14, 14, 14],\n",
    "        [ 8, 16,  8,  8,  8,  8, 16,  8,  8,  8,  8, 16,  8],\n",
    "        [ 9, 18,  9, 27, 27,  9, 18,  9, 27, 27,  9, 18,  9],\n",
    "        [10, 20, 10, 30, 30, 10, 20, 10, 30, 30, 10, 20, 10],\n",
    "        [11, 22, 11, 11, 11, 11, 22, 11, 11, 11, 11, 22, 11],\n",
    "        [24, 24, 24, 24, 24, 24, 24, 24, 24, 24, 24, 24, 24],\n",
    "        [13, 26, 13, 13, 13, 13, 26, 13, 13, 13, 13, 26, 13]])).all()"
   ],
   "metadata": {
    "id": "twk2kJJGjtQC",
    "pycharm": {
     "name": "#%%\n"
    }
   },
   "execution_count": 9,
   "outputs": []
  },
  {
   "cell_type": "markdown",
   "metadata": {
    "id": "ycMZbO2HQAe3",
    "pycharm": {
     "name": "#%% md\n"
    }
   },
   "source": [
    "# 2.2. `mul_row_fast` [1 pt]\n",
    "Write a second version of the same function named `mul_row_fast` which uses tensor operations and no looping.\n",
    "\n",
    "**Hint**: Use broadcasting and `torch.arange`, `torch.view`, and `torch.mul`."
   ]
  },
  {
   "cell_type": "code",
   "execution_count": 10,
   "metadata": {
    "id": "5V3Q-GX8QAe3",
    "pycharm": {
     "name": "#%%\n"
    }
   },
   "outputs": [],
   "source": [
    "def mul_row_fast(input_tensor):\n",
    "    num=torch.arange(1,1+len(input_tensor)).view(len(input_tensor),1)\n",
    "    input_tensor=torch.mul(input_tensor,num)\n",
    "    return input_tensor"
   ]
  },
  {
   "cell_type": "code",
   "source": [
    "# You can use this assertion to make sure the answer is right.\n",
    "assert (mul_row_fast(build_tensor()) == mul_row_loop(build_tensor())).all()"
   ],
   "metadata": {
    "id": "wTrEx9P9k2cR",
    "pycharm": {
     "name": "#%%\n"
    }
   },
   "execution_count": 11,
   "outputs": []
  },
  {
   "cell_type": "markdown",
   "metadata": {
    "id": "6MWuVzVQQAe7",
    "pycharm": {
     "name": "#%% md\n"
    }
   },
   "source": [
    "# 2.3. `times` [1 pt]\n",
    "Write a function `times` which takes a 2D tensor as input and returns the run times of `mul_row_loop` and `mul_row_fast` on this tensor, respectively. Use `time.perf_counter`.\n",
    "\n",
    "Use `torch.ones` to create a 2D tensor of size (1000, 400) full of ones and run `times` on it (there should be more than three orders of magnitude difference)."
   ]
  },
  {
   "cell_type": "code",
   "execution_count": 13,
   "metadata": {
    "id": "vlOKGDMJQAe8",
    "pycharm": {
     "name": "#%%\n"
    }
   },
   "outputs": [
    {
     "name": "stdout",
     "output_type": "stream",
     "text": [
      "4.99824000000001, 0.00035060000004705216\n"
     ]
    }
   ],
   "source": [
    "from time import perf_counter\n",
    "def times(input_tensor):\n",
    "    start1=perf_counter()\n",
    "    mul_row_loop(input_tensor)\n",
    "    end1=perf_counter()\n",
    "    start2=perf_counter()\n",
    "    mul_row_fast(input_tensor)\n",
    "    end2=perf_counter()\n",
    "    return end1-start1,end2-start2\n",
    "    \n",
    "input_tensor = torch.ones(1000,400)\n",
    "time_1, time_2 = times(input_tensor)\n",
    "print('{}, {}'.format(time_1, time_2))"
   ]
  },
  {
   "cell_type": "markdown",
   "metadata": {
    "id": "yn_FXad8QAe_",
    "pycharm": {
     "name": "#%% md\n"
    }
   },
   "source": [
    "# 3. Non-linearities [2 pts]\n",
    " \n",
    "In this section, we will explore and get comfortable initializing modules like nn.Linear and using non-linearities in PyTorch."
   ]
  },
  {
   "cell_type": "markdown",
   "metadata": {
    "id": "19a6rMNeQAe_",
    "pycharm": {
     "name": "#%% md\n"
    }
   },
   "source": [
    "## 3.1. ReLU [1 pt]\n",
    "ReLU (Rectified Linear Unit) is a non-linear activation fuction defined as:\n",
    "\n",
    "$$y = \\mathrm{max}(0,x)$$\n",
    "\n",
    "Define a fully connected neural network `linear_fc_relu` which:\n",
    "- takes 2 dimensional data as input and passes it through linear modules (`torch.nn.Linear`)\n",
    "- has one hidden layer of dimension 5 \n",
    "- has output dimension of 2\n",
    "- has ReLU as an activation function\n",
    "\n",
    "Create a tensor with input data $X$ of size (100, 2) using `torch.randn` and send it to device.\n",
    "\n",
    "Hint: there are two torch.nn.Linear layers, and a non-linearity activation is after one linear layer"
   ]
  },
  {
   "cell_type": "code",
   "execution_count": 14,
   "metadata": {
    "id": "XX0oEX98QAfA",
    "pycharm": {
     "name": "#%%\n"
    }
   },
   "outputs": [],
   "source": [
    "# Input data\n",
    "X = torch.randn(100,2)"
   ]
  },
  {
   "cell_type": "code",
   "execution_count": 15,
   "metadata": {
    "id": "zf-DCcGEQAfI",
    "colab": {
     "base_uri": "https://localhost:8080/",
     "height": 264
    },
    "outputId": "4e4792a1-5dc4-4905-8dd7-22778fe3862a",
    "pycharm": {
     "name": "#%%\n"
    }
   },
   "outputs": [
    {
     "data": {
      "text/plain": "<Figure size 640x480 with 1 Axes>",
      "image/png": "[encoded data removed]"
     },
     "metadata": {},
     "output_type": "display_data"
    }
   ],
   "source": [
    "# create 1-layer(hidden) neural networks with ReLU activation\n",
    "linear_fc_relu =nn.ReLU()\n",
    "\n",
    "# Visualize the output of linear_fc_relu model with random initialization\n",
    "linear_fc_relu.to(device)\n",
    "with torch.no_grad():\n",
    "    Y = linear_fc_relu(X)\n",
    "colors = X[:, 0]\n",
    "show_scatterplot(Y, colors, title='f(x)')"
   ]
  },
  {
   "cell_type": "markdown",
   "metadata": {
    "id": "RSznMa6rQAfL",
    "pycharm": {
     "name": "#%% md\n"
    }
   },
   "source": [
    "## 3.2. Sigmoid [1 pt]\n",
    "The sigmoid function is another popular choice for a non-linear activation function which maps its input to values in the interval $(0,1)$. It is formally defined as:\n",
    "\n",
    "$$\\sigma(x) = \\frac{1}{1+ exp[-x]}$$\n",
    "\n",
    "Define a new neural network `linear_fc_sigmoid` which is the same architecture as in part `3.1.` but with a sigmoid unit instead of ReLU. \n",
    "\n",
    "Using the same $X$ as in part `3.1`, visualize the output of passing `X` through the neural network `linear_fc_sigmoid`."
   ]
  },
  {
   "cell_type": "code",
   "execution_count": 16,
   "metadata": {
    "id": "5xg3uBHNQAfM",
    "colab": {
     "base_uri": "https://localhost:8080/",
     "height": 264
    },
    "outputId": "3551a224-822c-4f6e-df8f-77ab5a17b899",
    "pycharm": {
     "name": "#%%\n"
    }
   },
   "outputs": [
    {
     "data": {
      "text/plain": "<Figure size 640x480 with 1 Axes>",
      "image/png": "[encoded data removed]"
     },
     "metadata": {},
     "output_type": "display_data"
    }
   ],
   "source": [
    "# create 1-layer neural networks with Sigmoid activation\n",
    "linear_fc_sigmoid =nn.Sigmoid()\n",
    "\n",
    "# Visualize the output of linear_fc_sigmoid model with random initialization\n",
    "linear_fc_sigmoid.to(device)\n",
    "with torch.no_grad():\n",
    "    Y = linear_fc_sigmoid(X)\n",
    "colors = X[:, 0]\n",
    "show_scatterplot(Y, colors, title='f(x)')"
   ]
  },
  {
   "cell_type": "markdown",
   "source": [
    "# 4. Pipeline [4 pts]\n",
    "\n",
    "In this section, we will explore some linear classifiers with different layer numbers and learn how to build a pipeline of training. "
   ],
   "metadata": {
    "id": "AmMGN2Sr33Nn",
    "pycharm": {
     "name": "#%% md\n"
    }
   }
  },
  {
   "cell_type": "code",
   "source": [
    "# Define data generating functions\n",
    "def quadratic_data_generator(data_size):\n",
    "    # generate an input tensor of size data_size with torch.randn\n",
    "    x = torch.randn(data_size, 1) - 2   \n",
    "    x = x.to(device)\n",
    "    # calculate y = x^2 + 4x - 3\n",
    "    y = pow(x,2)+4*4-3\n",
    "    return x, y\n",
    "\n",
    "def cubic_data_generator(data_size=100):\n",
    "    # f(x) = y = x^3 + 4x^2 - 3\n",
    "    # generate an input tensor of size data_size with torch.randn\n",
    "    x = torch.randn(data_size, 1) - 2   \n",
    "    x = x.to(device)\n",
    "    \n",
    "    # calculate y = x^3 + 4x^2 - 3\n",
    "    y =pow(x,3)+4*pow(x,2)-3\n",
    "\n",
    "    return x, y"
   ],
   "metadata": {
    "id": "a00b8MqI3sZp",
    "pycharm": {
     "name": "#%%\n"
    }
   },
   "execution_count": 21,
   "outputs": []
  },
  {
   "cell_type": "code",
   "source": [
    "# Generate the data with 128 datapoints\n",
    "# print(device)\n",
    "x, y = quadratic_data_generator(128)\n",
    "xx=x.cpu()\n",
    "yy=y.cpu()\n",
    "plt.scatter(xx,yy)\n",
    "plt.show()"
   ],
   "metadata": {
    "id": "uYmZSWWnuv08",
    "pycharm": {
     "name": "#%%\n"
    }
   },
   "execution_count": 24,
   "outputs": [
    {
     "data": {
      "text/plain": "<Figure size 640x480 with 1 Axes>",
      "image/png": "[encoded data removed]"
     },
     "metadata": {},
     "output_type": "display_data"
    }
   ]
  },
  {
   "cell_type": "code",
   "source": [
    "# Define a Linear Classifier with a single linear layer and no non-linearity\n",
    "# (no hidden layer)\n",
    "class Linear_0H(nn.Module):\n",
    "    def __init__(self):\n",
    "        super().__init__()\n",
    "        self.classifier = nn.Linear(1,1)\n",
    "\n",
    "    def forward(self, x):\n",
    "        return self.classifier(x)"
   ],
   "metadata": {
    "id": "jX0nd2RL4cMz",
    "pycharm": {
     "name": "#%%\n"
    }
   },
   "execution_count": 25,
   "outputs": []
  },
  {
   "cell_type": "code",
   "source": [
    "# Define a Linear Classifier with a single hidden layer of size 5 and ReLU non-linearity\n",
    "class Linear_1H(nn.Module):\n",
    "    def __init__(self):\n",
    "        super().__init__()\n",
    "\n",
    "        self.classifier = nn.Sequential(\n",
    "            nn.Linear(1,1),\n",
    "            nn.ReLU()\n",
    "            )\n",
    "\n",
    "    def forward(self, x):\n",
    "        return self.classifier(x)"
   ],
   "metadata": {
    "id": "jiZD5-lJ4eef",
    "pycharm": {
     "name": "#%%\n"
    }
   },
   "execution_count": 26,
   "outputs": []
  },
  {
   "cell_type": "code",
   "source": [
    "# Define a Linear Classifier with a two hidden layers of size 5 and ReLU non-linearity\n",
    "class Linear_2H(nn.Module):\n",
    "    def __init__(self):\n",
    "        super().__init__()\n",
    "\n",
    "        self.classifier = nn.Sequential(\n",
    "            nn.Linear(1,1),\n",
    "            nn.ReLU(),\n",
    "            nn.ReLU()\n",
    "                        )\n",
    "\n",
    "    def forward(self, x):\n",
    "        return self.classifier(x)"
   ],
   "metadata": {
    "id": "8HffIoBQ4f2h",
    "pycharm": {
     "name": "#%%\n"
    }
   },
   "execution_count": 27,
   "outputs": []
  },
  {
   "cell_type": "code",
   "source": [
    "'''\n",
    "TODO: Training function\n",
    "\n",
    "Hint: look at some example pytorch tutorials to learn how to\n",
    "    - initialize optimizers\n",
    "    - zero gradient\n",
    "    - backprop the loss\n",
    "    - step the gradient\n",
    "\n",
    "\n",
    "Note: This is full batch. We compute forward on whole x, y.\n",
    "No need for dataloaders nor loop over batches. \n",
    "Just pass all of x to model's forward pass.\n",
    "'''\n",
    "def train(model, epochs, x, y):\n",
    "\n",
    "    # Send model to device\n",
    "    # TODO\n",
    "    model.to(device)\n",
    "    # Set model to training mode\n",
    "    model.train()\n",
    "    \n",
    "    # Define MSE loss function\n",
    "    criterion = nn.MSELoss()\n",
    "    \n",
    "    # TODO: Define the SGD optimizer with learning rate 0.01\n",
    "    import torch.optim as optim\n",
    "    # optimizer = # TODO\n",
    "    optimizer = optim.SGD(model.parameters(), lr=0.01)\n",
    "\n",
    "    for epoch in range(epochs):\n",
    "        \n",
    "        # TODO: Forward data through model to predict y\n",
    "        y_pred = model.forward(x)\n",
    "        \n",
    "        # TODO: Compute loss in terms of predicted and true y\n",
    "        loss = criterion(y,y_pred)\n",
    "\n",
    "        # TODO: Zero gradient\n",
    "        optimizer.zero_grad()\n",
    "        # TODO: call backward on loss\n",
    "        loss.backward()\n",
    "        # TODO: step the optimizer\n",
    "        optimizer.step()\n",
    "        # every 500 epochs, print\n",
    "        if (epoch+1) % 500 == 0:\n",
    "            print('Epoch {} loss: {}'.format(epoch+1, loss.item()))\n",
    "            \n",
    "    # return y_pred without gradient information, for plotting\n",
    "    return y_pred.detach()"
   ],
   "metadata": {
    "id": "xof0_Ghf4gth",
    "pycharm": {
     "name": "#%%\n"
    }
   },
   "execution_count": 28,
   "outputs": []
  },
  {
   "cell_type": "markdown",
   "source": [
    "The code below is to visualize the prediction. You may get different curves by running multiple times because of random initialization."
   ],
   "metadata": {
    "id": "VlSQK1sb7V8P",
    "pycharm": {
     "name": "#%% md\n"
    }
   }
  },
  {
   "cell_type": "code",
   "source": [
    "# 0H model on quadratic data\n",
    "model = Linear_0H()\n",
    "y_pred = train(model, epochs=5000, x=x, y=y)\n",
    "\n",
    "# Plot predictions vs actual data\n",
    "plt.scatter(x.cpu(), y.cpu())\n",
    "plt.scatter(x.cpu(), y_pred.cpu())\n",
    "plt.show()"
   ],
   "metadata": {
    "id": "FL72g7gR4i1r",
    "pycharm": {
     "name": "#%%\n"
    }
   },
   "execution_count": 29,
   "outputs": [
    {
     "name": "stdout",
     "output_type": "stream",
     "text": [
      "Epoch 500 loss: 2.1191537380218506\n",
      "Epoch 1000 loss: 1.884539246559143\n",
      "Epoch 1500 loss: 1.8762943744659424\n",
      "Epoch 2000 loss: 1.876004695892334\n",
      "Epoch 2500 loss: 1.8759944438934326\n",
      "Epoch 3000 loss: 1.8759942054748535\n",
      "Epoch 3500 loss: 1.8759942054748535\n",
      "Epoch 4000 loss: 1.8759942054748535\n",
      "Epoch 4500 loss: 1.8759942054748535\n",
      "Epoch 5000 loss: 1.8759942054748535\n"
     ]
    },
    {
     "data": {
      "text/plain": "<Figure size 640x480 with 1 Axes>",
      "image/png": "[encoded data removed]"
     },
     "metadata": {},
     "output_type": "display_data"
    }
   ]
  },
  {
   "cell_type": "code",
   "source": [
    "# 1H model on quadratic data\n",
    "model = Linear_1H()\n",
    "y_pred = train(model, epochs=5000, x=x, y=y)\n",
    "plt.scatter(x.cpu(), y.cpu())\n",
    "plt.scatter(x.cpu(), y_pred.cpu())\n",
    "plt.show()"
   ],
   "metadata": {
    "id": "Bf9zj-Dn4kTl",
    "pycharm": {
     "name": "#%%\n"
    }
   },
   "execution_count": 30,
   "outputs": [
    {
     "name": "stdout",
     "output_type": "stream",
     "text": [
      "Epoch 500 loss: 2.2463438510894775\n",
      "Epoch 1000 loss: 1.889008641242981\n",
      "Epoch 1500 loss: 1.8764513731002808\n",
      "Epoch 2000 loss: 1.8760101795196533\n",
      "Epoch 2500 loss: 1.8759945631027222\n",
      "Epoch 3000 loss: 1.8759942054748535\n",
      "Epoch 3500 loss: 1.8759942054748535\n",
      "Epoch 4000 loss: 1.8759942054748535\n",
      "Epoch 4500 loss: 1.8759942054748535\n",
      "Epoch 5000 loss: 1.8759942054748535\n"
     ]
    },
    {
     "data": {
      "text/plain": "<Figure size 640x480 with 1 Axes>",
      "image/png": "[encoded data removed]"
     },
     "metadata": {},
     "output_type": "display_data"
    }
   ]
  },
  {
   "cell_type": "code",
   "source": [
    "# 2H model on quadratic data\n",
    "model = Linear_2H()\n",
    "y_pred = train(model, epochs=5000, x=x, y=y)\n",
    "plt.scatter(x.cpu(), y.cpu())\n",
    "plt.scatter(x.cpu(), y_pred.cpu())\n",
    "plt.show()"
   ],
   "metadata": {
    "id": "-HAezDH74ks1",
    "pycharm": {
     "name": "#%%\n"
    }
   },
   "execution_count": 31,
   "outputs": [
    {
     "name": "stdout",
     "output_type": "stream",
     "text": [
      "Epoch 500 loss: 2.187131404876709\n",
      "Epoch 1000 loss: 1.8869279623031616\n",
      "Epoch 1500 loss: 1.8763785362243652\n",
      "Epoch 2000 loss: 1.8760075569152832\n",
      "Epoch 2500 loss: 1.8759948015213013\n",
      "Epoch 3000 loss: 1.875994324684143\n",
      "Epoch 3500 loss: 1.8759942054748535\n",
      "Epoch 4000 loss: 1.8759942054748535\n",
      "Epoch 4500 loss: 1.8759942054748535\n",
      "Epoch 5000 loss: 1.8759942054748535\n"
     ]
    },
    {
     "data": {
      "text/plain": "<Figure size 640x480 with 1 Axes>",
      "image/png": "[encoded data removed]"
     },
     "metadata": {},
     "output_type": "display_data"
    }
   ]
  },
  {
   "cell_type": "code",
   "source": [
    "# Generate cubic data with 128 data points\n",
    "x, y = cubic_data_generator(128)"
   ],
   "metadata": {
    "id": "8oOmaesy4lvK",
    "pycharm": {
     "name": "#%%\n"
    }
   },
   "execution_count": 32,
   "outputs": []
  },
  {
   "cell_type": "code",
   "source": [
    "# 0H model on cubic data\n",
    "model = Linear_0H()\n",
    "y_pred = train(model, epochs=5000, x=x, y=y)\n",
    "plt.scatter(x.cpu(), y.cpu())\n",
    "plt.scatter(x.cpu(), y_pred.cpu())\n",
    "plt.show()"
   ],
   "metadata": {
    "id": "V1kRBOsD4oJs",
    "pycharm": {
     "name": "#%%\n"
    }
   },
   "execution_count": 33,
   "outputs": [
    {
     "name": "stdout",
     "output_type": "stream",
     "text": [
      "Epoch 500 loss: 26.84208106994629\n",
      "Epoch 1000 loss: 26.81565284729004\n",
      "Epoch 1500 loss: 26.814838409423828\n",
      "Epoch 2000 loss: 26.81481170654297\n",
      "Epoch 2500 loss: 26.814809799194336\n",
      "Epoch 3000 loss: 26.814809799194336\n",
      "Epoch 3500 loss: 26.81481170654297\n",
      "Epoch 4000 loss: 26.81481170654297\n",
      "Epoch 4500 loss: 26.81481170654297\n",
      "Epoch 5000 loss: 26.81481170654297\n"
     ]
    },
    {
     "data": {
      "text/plain": "<Figure size 640x480 with 1 Axes>",
      "image/png": "[encoded data removed]"
     },
     "metadata": {},
     "output_type": "display_data"
    }
   ]
  },
  {
   "cell_type": "code",
   "source": [
    "# 1H model on cubic data\n",
    "model = Linear_1H()\n",
    "y_pred = train(model, epochs=5000, x=x, y=y)\n",
    "plt.scatter(x.cpu(), y.cpu())\n",
    "plt.scatter(x.cpu(), y_pred.cpu())\n",
    "plt.show()"
   ],
   "metadata": {
    "id": "onSjlSm24pnk",
    "pycharm": {
     "name": "#%%\n"
    }
   },
   "execution_count": 34,
   "outputs": [
    {
     "name": "stdout",
     "output_type": "stream",
     "text": [
      "Epoch 500 loss: 26.831518173217773\n",
      "Epoch 1000 loss: 26.81532859802246\n",
      "Epoch 1500 loss: 26.814823150634766\n",
      "Epoch 2000 loss: 26.81481170654297\n",
      "Epoch 2500 loss: 26.814809799194336\n",
      "Epoch 3000 loss: 26.8148136138916\n",
      "Epoch 3500 loss: 26.81481170654297\n",
      "Epoch 4000 loss: 26.81481170654297\n",
      "Epoch 4500 loss: 26.81481170654297\n",
      "Epoch 5000 loss: 26.81481170654297\n"
     ]
    },
    {
     "data": {
      "text/plain": "<Figure size 640x480 with 1 Axes>",
      "image/png": "[encoded data removed]"
     },
     "metadata": {},
     "output_type": "display_data"
    }
   ]
  },
  {
   "cell_type": "code",
   "source": [
    "# 2H model on cubic data\n",
    "model = Linear_2H()\n",
    "y_pred = train(model, epochs=5000, x=x, y=y)\n",
    "plt.scatter(x.cpu(), y.cpu())\n",
    "plt.scatter(x.cpu(), y_pred.cpu())\n",
    "plt.show()"
   ],
   "metadata": {
    "id": "9EWeYXQV4qQw",
    "pycharm": {
     "name": "#%%\n"
    }
   },
   "execution_count": 35,
   "outputs": [
    {
     "name": "stdout",
     "output_type": "stream",
     "text": [
      "Epoch 500 loss: 26.83553695678711\n",
      "Epoch 1000 loss: 26.815448760986328\n",
      "Epoch 1500 loss: 26.814828872680664\n",
      "Epoch 2000 loss: 26.8148136138916\n",
      "Epoch 2500 loss: 26.814809799194336\n",
      "Epoch 3000 loss: 26.81481170654297\n",
      "Epoch 3500 loss: 26.81481170654297\n",
      "Epoch 4000 loss: 26.81481170654297\n",
      "Epoch 4500 loss: 26.81481170654297\n",
      "Epoch 5000 loss: 26.81481170654297\n"
     ]
    },
    {
     "data": {
      "text/plain": "<Figure size 640x480 with 1 Axes>",
      "image/png": "[encoded data removed]"
     },
     "metadata": {},
     "output_type": "display_data"
    }
   ]
  }
 ],
 "metadata": {
  "colab": {
   "provenance": [],
   "collapsed_sections": []
  },
  "kernelspec": {
   "display_name": "Python 3",
   "language": "python",
   "name": "python3"
  },
  "language_info": {
   "codemirror_mode": {
    "name": "ipython",
    "version": 3
   },
   "file_extension": ".py",
   "mimetype": "text/x-python",
   "name": "python",
   "nbconvert_exporter": "python",
   "pygments_lexer": "ipython3",
   "version": "3.6.7"
  }
 },
 "nbformat": 4,
 "nbformat_minor": 0
}