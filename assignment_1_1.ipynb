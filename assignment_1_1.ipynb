{
 "cells": [
  {
   "cell_type": "markdown",
   "source": [
    "# Assignment 1\n",
    "## [Section 1]\n",
    "This section will make you familier with \n",
    "1. some pytorch basics\n",
    "2. how to train a simple model with linear layers and non-linearity activation layer\n",
    "3. the effect of number of layers"
   ],
   "metadata": {
    "id": "HAvpFCryu8qv"
   }
  },
  {
   "cell_type": "code",
   "execution_count": 193,
   "metadata": {
    "id": "EyJt4yZIQAem"
   },
   "outputs": [],
   "source": [
    "# Import dependencies\n",
    "import random\n",
    "import numpy as np\n",
    "import torch\n",
    "import torch.nn as nn\n",
    "\n",
    "from matplotlib import pyplot as plt\n",
    "from matplotlib.pyplot import plot, title, axis"
   ]
  },
  {
   "cell_type": "code",
   "execution_count": 194,
   "metadata": {
    "id": "VTHDQFHFQAeq"
   },
   "outputs": [],
   "source": [
    "# Set up your device \n",
    "cuda = torch.cuda.is_available()\n",
    "device = torch.device(\"cuda:0\" if cuda else \"cpu\")\n",
    "# o=torch.full((5,5),1)\n",
    "# row2=torch.full((1,5),2)\n",
    "# col2=torch.full((5,1),2)\n",
    "# o[1]=row2\n",
    "# print(o)\n",
    "# print((o[:,2]))"
   ]
  },
  {
   "cell_type": "code",
   "execution_count": 195,
   "metadata": {
    "id": "exqe27QXQAet"
   },
   "outputs": [],
   "source": [
    "# Set up random seed to 1008. Do not change the random seed.\n",
    "# Yes, these are all necessary when you run experiments!\n",
    "seed = 1008\n",
    "random.seed(seed)\n",
    "np.random.seed(seed)\n",
    "torch.manual_seed(seed)\n",
    "if cuda:\n",
    "    torch.cuda.manual_seed(seed)\n",
    "    torch.cuda.manual_seed_all(seed)\n",
    "    torch.backends.cudnn.benchmark = False\n",
    "    torch.backends.cudnn.deterministic = True"
   ]
  },
  {
   "cell_type": "code",
   "source": [
    "# These helper functions are for visualization later\n",
    "def set_default(figsize=(10, 10), dpi=100):\n",
    "    plot.style.use(['dark_background', 'bmh'])\n",
    "    plot.rc('axes', facecolor='k')\n",
    "    plot.rc('figure', facecolor='k')\n",
    "    plot.rc('figure', figsize=figsize, dpi=dpi)\n",
    "\n",
    "def show_scatterplot(X, colors, title=''):\n",
    "    colors = colors.cpu().numpy()\n",
    "    X = X.cpu().numpy()\n",
    "    plt.figure()\n",
    "    plt.axis('equal')\n",
    "    plt.scatter(X[:, 0], X[:, 1], c=colors, s=30)\n",
    "    # plt.grid(True)\n",
    "    plt.title(title)\n",
    "    plt.axis('off')\n",
    "\n",
    "def plot_bases(bases, width=0.04):\n",
    "    bases = bases.cpu()\n",
    "    bases[2:] -= bases[:2]\n",
    "    plt.arrow(*bases[0], *bases[2], width=width, color=(1,0,0), zorder=10, alpha=1., length_includes_head=True)\n",
    "    plt.arrow(*bases[1], *bases[3], width=width, color=(0,1,0), zorder=10, alpha=1., length_includes_head=True)"
   ],
   "metadata": {
    "id": "uzHwe6-nxsNJ"
   },
   "execution_count": 196,
   "outputs": []
  },
  {
   "cell_type": "markdown",
   "metadata": {
    "id": "7krs-4XOQAev"
   },
   "source": [
    "# 1. Tensor [1 pt]\n",
    "Write a function `build_tensor()` that returns the 2D tensor with integers below. **Do not use any loops**.\n",
    "\n",
    "```\n",
    "1 2 1 1 1 1 2 1 1 1 1 2 1\n",
    "2 2 2 2 2 2 2 2 2 2 2 2 2\n",
    "1 2 1 1 1 1 2 1 1 1 1 2 1\n",
    "1 2 1 3 3 1 2 1 3 3 1 2 1\n",
    "1 2 1 3 3 1 2 1 3 3 1 2 1\n",
    "1 2 1 1 1 1 2 1 1 1 1 2 1\n",
    "2 2 2 2 2 2 2 2 2 2 2 2 2\n",
    "1 2 1 1 1 1 2 1 1 1 1 2 1\n",
    "1 2 1 3 3 1 2 1 3 3 1 2 1\n",
    "1 2 1 3 3 1 2 1 3 3 1 2 1\n",
    "1 2 1 1 1 1 2 1 1 1 1 2 1\n",
    "2 2 2 2 2 2 2 2 2 2 2 2 2\n",
    "1 2 1 1 1 1 2 1 1 1 1 2 1\n",
    "```\n",
    "\n",
    "\n",
    "Hint: Use `torch.full`, `torch.fill_`, and the slicing operator."
   ]
  },
  {
   "cell_type": "code",
   "execution_count": 197,
   "metadata": {
    "id": "JsFk9OUoQAew"
   },
   "outputs": [],
   "source": [
    "def build_tensor():\n",
    "    outt = torch.full((13, 13), 1)\n",
    "    row2 = torch.full((1, 13), 2)\n",
    "    col2 = torch.full((13, 1), 2)\n",
    "    outt[[1, 6, 11]] = row2\n",
    "    outt[:, [1, 6, 11]] = col2\n",
    "    outt[[3, 3, 4, 4], [3, 4, 3, 4]] = 3\n",
    "    outt[[8, 8, 9, 9], [8, 9, 8, 9]] = 3\n",
    "    outt[[3, 3, 4, 4], [8, 9, 8, 9]] = 3\n",
    "    outt[[8, 8, 9, 9], [3, 4, 3, 4]] = 3\n",
    "    return outt"
   ]
  },
  {
   "cell_type": "code",
   "source": [
    "# You can use this assertion to make sure the answer is right.\n",
    "# Before diving into the next question, you should pass the test.\n",
    "assert (build_tensor() == \n",
    "        torch.tensor([[1, 2, 1, 1, 1, 1, 2, 1, 1, 1, 1, 2, 1],\n",
    "        [2, 2, 2, 2, 2, 2, 2, 2, 2, 2, 2, 2, 2],\n",
    "        [1, 2, 1, 1, 1, 1, 2, 1, 1, 1, 1, 2, 1],\n",
    "        [1, 2, 1, 3, 3, 1, 2, 1, 3, 3, 1, 2, 1],\n",
    "        [1, 2, 1, 3, 3, 1, 2, 1, 3, 3, 1, 2, 1],\n",
    "        [1, 2, 1, 1, 1, 1, 2, 1, 1, 1, 1, 2, 1],\n",
    "        [2, 2, 2, 2, 2, 2, 2, 2, 2, 2, 2, 2, 2],\n",
    "        [1, 2, 1, 1, 1, 1, 2, 1, 1, 1, 1, 2, 1],\n",
    "        [1, 2, 1, 3, 3, 1, 2, 1, 3, 3, 1, 2, 1],\n",
    "        [1, 2, 1, 3, 3, 1, 2, 1, 3, 3, 1, 2, 1],\n",
    "        [1, 2, 1, 1, 1, 1, 2, 1, 1, 1, 1, 2, 1],\n",
    "        [2, 2, 2, 2, 2, 2, 2, 2, 2, 2, 2, 2, 2],\n",
    "        [1, 2, 1, 1, 1, 1, 2, 1, 1, 1, 1, 2, 1]])).all()"
   ],
   "metadata": {
    "id": "7t9V7ZwxewwQ"
   },
   "execution_count": 198,
   "outputs": []
  },
  {
   "cell_type": "markdown",
   "metadata": {
    "id": "E8ivZVl5QAez"
   },
   "source": [
    "# 2. To Loop or not to loop [3 pts]\n",
    "\n",
    "The following questions are intended to give you a flavor of looping."
   ]
  },
  {
   "cell_type": "markdown",
   "metadata": {
    "id": "mxGRJK4-QAe0"
   },
   "source": [
    "## 2.1. `mul_row_loop` [1 pt]\n",
    "Write a function `mul_row_loop`, using python loops (O(mn)) with simple indexing but no advanced indexing/slicing, that receives a 2D tensor as input and returns a tensor of same size that is \n",
    "- equal to the input on the first row\n",
    "- 2 times the input's second row on the second row\n",
    "- 3 times the input's third row on the third row\n",
    "- etc..\n",
    "\n",
    "For instance:\n",
    "```\n",
    ">>> t = torch.full((4, 8), 2.0)\n",
    ">>> t\n",
    "tensor([[2., 2., 2., 2., 2., 2., 2., 2.],\n",
    "[2., 2., 2., 2., 2., 2., 2., 2.],\n",
    "[2., 2., 2., 2., 2., 2., 2., 2.],\n",
    "[2., 2., 2., 2., 2., 2., 2., 2.]])\n",
    ">>> mul_row(t)\n",
    "tensor([[2., 2., 2., 2., 2., 2., 2., 2.],\n",
    "[4., 4., 4., 4., 4., 4., 4., 4.],\n",
    "[6., 6., 6., 6., 6., 6., 6., 6.],\n",
    "[8., 8., 8., 8., 8., 8., 8., 8.]])\n",
    "```"
   ]
  },
  {
   "cell_type": "code",
   "execution_count": 199,
   "metadata": {
    "id": "5YIAg1mlQAe0"
   },
   "outputs": [],
   "source": [
    "def mul_row_loop(input_tensor):\n",
    "    for i in range(len(input_tensor)):\n",
    "        for j in range(len(input_tensor[0])):\n",
    "            input_tensor[i][j]*=(i+1)\n",
    "    return input_tensor"
   ]
  },
  {
   "cell_type": "code",
   "source": [
    "# You can use this assertion to make sure the answer is right.\n",
    "# Before step into the next question, you should pass the test.\n",
    "assert (mul_row_loop(build_tensor()) == torch.tensor([[ 1,  2,  1,  1,  1,  1,  2,  1,  1,  1,  1,  2,  1],\n",
    "        [ 4,  4,  4,  4,  4,  4,  4,  4,  4,  4,  4,  4,  4],\n",
    "        [ 3,  6,  3,  3,  3,  3,  6,  3,  3,  3,  3,  6,  3],\n",
    "        [ 4,  8,  4, 12, 12,  4,  8,  4, 12, 12,  4,  8,  4],\n",
    "        [ 5, 10,  5, 15, 15,  5, 10,  5, 15, 15,  5, 10,  5],\n",
    "        [ 6, 12,  6,  6,  6,  6, 12,  6,  6,  6,  6, 12,  6],\n",
    "        [14, 14, 14, 14, 14, 14, 14, 14, 14, 14, 14, 14, 14],\n",
    "        [ 8, 16,  8,  8,  8,  8, 16,  8,  8,  8,  8, 16,  8],\n",
    "        [ 9, 18,  9, 27, 27,  9, 18,  9, 27, 27,  9, 18,  9],\n",
    "        [10, 20, 10, 30, 30, 10, 20, 10, 30, 30, 10, 20, 10],\n",
    "        [11, 22, 11, 11, 11, 11, 22, 11, 11, 11, 11, 22, 11],\n",
    "        [24, 24, 24, 24, 24, 24, 24, 24, 24, 24, 24, 24, 24],\n",
    "        [13, 26, 13, 13, 13, 13, 26, 13, 13, 13, 13, 26, 13]])).all()"
   ],
   "metadata": {
    "id": "twk2kJJGjtQC"
   },
   "execution_count": 200,
   "outputs": []
  },
  {
   "cell_type": "markdown",
   "metadata": {
    "id": "ycMZbO2HQAe3"
   },
   "source": [
    "# 2.2. `mul_row_fast` [1 pt]\n",
    "Write a second version of the same function named `mul_row_fast` which uses tensor operations and no looping.\n",
    "\n",
    "**Hint**: Use broadcasting and `torch.arange`, `torch.view`, and `torch.mul`."
   ]
  },
  {
   "cell_type": "code",
   "execution_count": 201,
   "metadata": {
    "id": "5V3Q-GX8QAe3"
   },
   "outputs": [],
   "source": [
    "def mul_row_fast(input_tensor):\n",
    "    num=torch.arange(1,1+len(input_tensor)).view(len(input_tensor),1)\n",
    "    input_tensor=torch.mul(input_tensor,num)\n",
    "    return input_tensor"
   ]
  },
  {
   "cell_type": "code",
   "source": [
    "# You can use this assertion to make sure the answer is right.\n",
    "assert (mul_row_fast(build_tensor()) == mul_row_loop(build_tensor())).all()"
   ],
   "metadata": {
    "id": "wTrEx9P9k2cR"
   },
   "execution_count": 202,
   "outputs": []
  },
  {
   "cell_type": "markdown",
   "metadata": {
    "id": "6MWuVzVQQAe7"
   },
   "source": [
    "# 2.3. `times` [1 pt]\n",
    "Write a function `times` which takes a 2D tensor as input and returns the run times of `mul_row_loop` and `mul_row_fast` on this tensor, respectively. Use `time.perf_counter`.\n",
    "\n",
    "Use `torch.ones` to create a 2D tensor of size (1000, 400) full of ones and run `times` on it (there should be more than three orders of magnitude difference)."
   ]
  },
  {
   "cell_type": "code",
   "execution_count": 203,
   "metadata": {
    "id": "vlOKGDMJQAe8"
   },
   "outputs": [
    {
     "name": "stdout",
     "output_type": "stream",
     "text": [
      "3.969573333997687, 0.000756041998101864\n"
     ]
    }
   ],
   "source": [
    "from time import perf_counter\n",
    "def times(input_tensor):\n",
    "    start1=perf_counter()\n",
    "    mul_row_loop(input_tensor)\n",
    "    end1=perf_counter()\n",
    "    start2=perf_counter()\n",
    "    mul_row_fast(input_tensor)\n",
    "    end2=perf_counter()\n",
    "    return end1-start1,end2-start2\n",
    "    \n",
    "input_tensor = torch.ones(1000,400)\n",
    "time_1, time_2 = times(input_tensor)\n",
    "print('{}, {}'.format(time_1, time_2))"
   ]
  },
  {
   "cell_type": "markdown",
   "metadata": {
    "id": "yn_FXad8QAe_"
   },
   "source": [
    "# 3. Non-linearities [2 pts]\n",
    " \n",
    "In this section, we will explore and get comfortable initializing modules like nn.Linear and using non-linearities in PyTorch."
   ]
  },
  {
   "cell_type": "markdown",
   "metadata": {
    "id": "19a6rMNeQAe_"
   },
   "source": [
    "## 3.1. ReLU [1 pt]\n",
    "ReLU (Rectified Linear Unit) is a non-linear activation fuction defined as:\n",
    "\n",
    "$$y = \\mathrm{max}(0,x)$$\n",
    "\n",
    "Define a fully connected neural network `linear_fc_relu` which:\n",
    "- takes 2 dimensional data as input and passes it through linear modules (`torch.nn.Linear`)\n",
    "- has one hidden layer of dimension 5 \n",
    "- has output dimension of 2\n",
    "- has ReLU as an activation function\n",
    "\n",
    "Create a tensor with input data $X$ of size (100, 2) using `torch.randn` and send it to device.\n",
    "\n",
    "Hint: there are two torch.nn.Linear layers, and a non-linearity activation is after one linear layer"
   ]
  },
  {
   "cell_type": "code",
   "execution_count": 204,
   "metadata": {
    "id": "XX0oEX98QAfA"
   },
   "outputs": [],
   "source": [
    "# Input data\n",
    "X = torch.randn(100,2)"
   ]
  },
  {
   "cell_type": "code",
   "execution_count": 205,
   "metadata": {
    "id": "zf-DCcGEQAfI",
    "colab": {
     "base_uri": "https://localhost:8080/",
     "height": 264
    },
    "outputId": "4e4792a1-5dc4-4905-8dd7-22778fe3862a"
   },
   "outputs": [
    {
     "data": {
      "text/plain": "<Figure size 432x288 with 1 Axes>",
      "image/png": "[encoded data removed]"
     },
     "metadata": {
      "needs_background": "light"
     },
     "output_type": "display_data"
    }
   ],
   "source": [
    "# create 1-layer(hidden) neural networks with ReLU activation\n",
    "linear_fc_relu =nn.ReLU()\n",
    "\n",
    "# Visualize the output of linear_fc_relu model with random initialization\n",
    "linear_fc_relu.to(device)\n",
    "with torch.no_grad():\n",
    "    Y = linear_fc_relu(X)\n",
    "colors = X[:, 0]\n",
    "show_scatterplot(Y, colors, title='f(x)')"
   ]
  },
  {
   "cell_type": "markdown",
   "metadata": {
    "id": "RSznMa6rQAfL"
   },
   "source": [
    "## 3.2. Sigmoid [1 pt]\n",
    "The sigmoid function is another popular choice for a non-linear activation function which maps its input to values in the interval $(0,1)$. It is formally defined as:\n",
    "\n",
    "$$\\sigma(x) = \\frac{1}{1+ exp[-x]}$$\n",
    "\n",
    "Define a new neural network `linear_fc_sigmoid` which is the same architecture as in part `3.1.` but with a sigmoid unit instead of ReLU. \n",
    "\n",
    "Using the same $X$ as in part `3.1`, visualize the output of passing `X` through the neural network `linear_fc_sigmoid`."
   ]
  },
  {
   "cell_type": "code",
   "execution_count": 206,
   "metadata": {
    "id": "5xg3uBHNQAfM",
    "colab": {
     "base_uri": "https://localhost:8080/",
     "height": 264
    },
    "outputId": "3551a224-822c-4f6e-df8f-77ab5a17b899"
   },
   "outputs": [
    {
     "data": {
      "text/plain": "<Figure size 432x288 with 1 Axes>",
      "image/png": "[encoded data removed]"
     },
     "metadata": {
      "needs_background": "light"
     },
     "output_type": "display_data"
    }
   ],
   "source": [
    "# create 1-layer neural networks with Sigmoid activation\n",
    "linear_fc_sigmoid =nn.Sigmoid()\n",
    "\n",
    "# Visualize the output of linear_fc_sigmoid model with random initialization\n",
    "linear_fc_sigmoid.to(device)\n",
    "with torch.no_grad():\n",
    "    Y = linear_fc_sigmoid(X)\n",
    "colors = X[:, 0]\n",
    "show_scatterplot(Y, colors, title='f(x)')"
   ]
  },
  {
   "cell_type": "markdown",
   "source": [
    "# 4. Pipeline [4 pts]\n",
    "\n",
    "In this section, we will explore some linear classifiers with different layer numbers and learn how to build a pipeline of training. "
   ],
   "metadata": {
    "id": "AmMGN2Sr33Nn"
   }
  },
  {
   "cell_type": "code",
   "source": [
    "# Define data generating functions\n",
    "def quadratic_data_generator(data_size):\n",
    "    # generate an input tensor of size data_size with torch.randn\n",
    "    x = torch.randn(data_size, 1) - 2   \n",
    "    x = x.to(device)\n",
    "    # calculate y = x^2 + 4x - 3\n",
    "    y = pow(x,2)+4*4-3\n",
    "    return x, y\n",
    "\n",
    "def cubic_data_generator(data_size=100):\n",
    "    # f(x) = y = x^3 + 4x^2 - 3\n",
    "    # generate an input tensor of size data_size with torch.randn\n",
    "    x = torch.randn(data_size, 1) - 2   \n",
    "    x = x.to(device)\n",
    "    \n",
    "    # calculate y = x^3 + 4x^2 - 3\n",
    "    y =pow(x,3)+4*pow(x,2)-3\n",
    "\n",
    "    return x, y"
   ],
   "metadata": {
    "id": "a00b8MqI3sZp"
   },
   "execution_count": 207,
   "outputs": []
  },
  {
   "cell_type": "code",
   "source": [
    "# Generate the data with 128 datapoints\n",
    "x, y = quadratic_data_generator(128)\n",
    "plt.scatter(x,y)\n",
    "plt.show()"
   ],
   "metadata": {
    "id": "uYmZSWWnuv08"
   },
   "execution_count": 208,
   "outputs": [
    {
     "data": {
      "text/plain": "<Figure size 432x288 with 1 Axes>",
      "image/png": "[encoded data removed]"
     },
     "metadata": {
      "needs_background": "light"
     },
     "output_type": "display_data"
    }
   ]
  },
  {
   "cell_type": "code",
   "source": [
    "# Define a Linear Classifier with a single linear layer and no non-linearity\n",
    "# (no hidden layer)\n",
    "class Linear_0H(nn.Module):\n",
    "    def __init__(self):\n",
    "        super().__init__()\n",
    "        self.classifier = nn.Linear(1,1)\n",
    "\n",
    "    def forward(self, x):\n",
    "        return self.classifier(x)"
   ],
   "metadata": {
    "id": "jX0nd2RL4cMz"
   },
   "execution_count": 209,
   "outputs": []
  },
  {
   "cell_type": "code",
   "source": [
    "# Define a Linear Classifier with a single hidden layer of size 5 and ReLU non-linearity\n",
    "class Linear_1H(nn.Module):\n",
    "    def __init__(self):\n",
    "        super().__init__()\n",
    "\n",
    "        self.classifier = nn.Sequential(\n",
    "            nn.Linear(1,1),\n",
    "            nn.ReLU()\n",
    "            )\n",
    "\n",
    "    def forward(self, x):\n",
    "        return self.classifier(x)"
   ],
   "metadata": {
    "id": "jiZD5-lJ4eef"
   },
   "execution_count": 210,
   "outputs": []
  },
  {
   "cell_type": "code",
   "source": [
    "# Define a Linear Classifier with a two hidden layers of size 5 and ReLU non-linearity\n",
    "class Linear_2H(nn.Module):\n",
    "    def __init__(self):\n",
    "        super().__init__()\n",
    "\n",
    "        self.classifier = nn.Sequential(\n",
    "            nn.Tanh(),\n",
    "                        nn.Linear(1,10),\n",
    "                        nn.Tanh(),\n",
    "                                    nn.Linear(10,10),\n",
    "            nn.Sigmoid(),\n",
    "                                    nn.Linear(10,1),\n",
    "\n",
    "                        )\n",
    "\n",
    "    def forward(self, x):\n",
    "        return self.classifier(x)"
   ],
   "metadata": {
    "id": "8HffIoBQ4f2h"
   },
   "execution_count": 237,
   "outputs": []
  },
  {
   "cell_type": "code",
   "source": [
    "'''\n",
    "TODO: Training function\n",
    "\n",
    "Hint: look at some example pytorch tutorials to learn how to\n",
    "    - initialize optimizers\n",
    "    - zero gradient\n",
    "    - backprop the loss\n",
    "    - step the gradient\n",
    "\n",
    "\n",
    "Note: This is full batch. We compute forward on whole x, y.\n",
    "No need for dataloaders nor loop over batches. \n",
    "Just pass all of x to model's forward pass.\n",
    "'''\n",
    "def train(model, epochs, x, y):\n",
    "\n",
    "    # Send model to device\n",
    "    # TODO\n",
    "    model.to(device)\n",
    "    # Set model to training mode\n",
    "    model.train()\n",
    "    \n",
    "    # Define MSE loss function\n",
    "    criterion = nn.MSELoss()\n",
    "    \n",
    "    # TODO: Define the SGD optimizer with learning rate 0.01\n",
    "    import torch.optim as optim\n",
    "    # optimizer = # TODO\n",
    "    optimizer = optim.SGD(model.parameters(), lr=0.003)\n",
    "\n",
    "    for epoch in range(epochs):\n",
    "        \n",
    "        # TODO: Forward data through model to predict y\n",
    "        y_pred = model.forward(x)\n",
    "        \n",
    "        # TODO: Compute loss in terms of predicted and true y\n",
    "        loss = criterion(y,y_pred)\n",
    "\n",
    "        # TODO: Zero gradient\n",
    "        optimizer.zero_grad()\n",
    "        # TODO: call backward on loss\n",
    "        loss.backward()\n",
    "        # TODO: step the optimizer\n",
    "        optimizer.step()\n",
    "        # every 500 epochs, print\n",
    "        if (epoch+1) % 500 == 0:\n",
    "            print('Epoch {} loss: {}'.format(epoch+1, loss.item()))\n",
    "            \n",
    "    # return y_pred without gradient information, for plotting\n",
    "    return y_pred.detach()"
   ],
   "metadata": {
    "id": "xof0_Ghf4gth"
   },
   "execution_count": 238,
   "outputs": []
  },
  {
   "cell_type": "markdown",
   "source": [
    "The code below is to visualize the prediction. You may get different curves by running multiple times because of random initialization."
   ],
   "metadata": {
    "id": "VlSQK1sb7V8P"
   }
  },
  {
   "cell_type": "code",
   "source": [
    "# 0H model on quadratic data\n",
    "model = Linear_0H()\n",
    "y_pred = train(model, epochs=5000, x=x, y=y)\n",
    "\n",
    "# Plot predictions vs actual data\n",
    "plt.scatter(x.cpu(), y.cpu())\n",
    "plt.scatter(x.cpu(), y_pred.cpu())\n",
    "plt.show()"
   ],
   "metadata": {
    "id": "FL72g7gR4i1r"
   },
   "execution_count": 213,
   "outputs": [
    {
     "name": "stdout",
     "output_type": "stream",
     "text": [
      "Epoch 500 loss: 2.023185968399048\n",
      "Epoch 1000 loss: 1.6710914373397827\n",
      "Epoch 1500 loss: 1.656306266784668\n",
      "Epoch 2000 loss: 1.655685544013977\n",
      "Epoch 2500 loss: 1.6556594371795654\n",
      "Epoch 3000 loss: 1.6556587219238281\n",
      "Epoch 3500 loss: 1.65565824508667\n",
      "Epoch 4000 loss: 1.65565824508667\n",
      "Epoch 4500 loss: 1.65565824508667\n",
      "Epoch 5000 loss: 1.65565824508667\n"
     ]
    },
    {
     "data": {
      "text/plain": "<Figure size 432x288 with 1 Axes>",
      "image/png": "[encoded data removed]"
     },
     "metadata": {
      "needs_background": "light"
     },
     "output_type": "display_data"
    }
   ]
  },
  {
   "cell_type": "code",
   "source": [
    "# 1H model on quadratic data\n",
    "model = Linear_1H()\n",
    "y_pred = train(model, epochs=5000, x=x, y=y)\n",
    "plt.scatter(x.cpu(), y.cpu())\n",
    "plt.scatter(x.cpu(), y_pred.cpu())\n",
    "plt.show()"
   ],
   "metadata": {
    "id": "Bf9zj-Dn4kTl"
   },
   "execution_count": 214,
   "outputs": [
    {
     "name": "stdout",
     "output_type": "stream",
     "text": [
      "Epoch 500 loss: 333.98846435546875\n",
      "Epoch 1000 loss: 333.98846435546875\n",
      "Epoch 1500 loss: 333.98846435546875\n",
      "Epoch 2000 loss: 333.98846435546875\n",
      "Epoch 2500 loss: 333.98846435546875\n",
      "Epoch 3000 loss: 333.98846435546875\n",
      "Epoch 3500 loss: 333.98846435546875\n",
      "Epoch 4000 loss: 333.98846435546875\n",
      "Epoch 4500 loss: 333.98846435546875\n",
      "Epoch 5000 loss: 333.98846435546875\n"
     ]
    },
    {
     "data": {
      "text/plain": "<Figure size 432x288 with 1 Axes>",
      "image/png": "[encoded data removed]"
     },
     "metadata": {
      "needs_background": "light"
     },
     "output_type": "display_data"
    }
   ]
  },
  {
   "cell_type": "code",
   "source": [
    "# 2H model on quadratic data\n",
    "model = Linear_2H()\n",
    "y_pred = train(model, epochs=50000, x=x, y=y)\n",
    "plt.scatter(x.cpu(), y.cpu())\n",
    "plt.scatter(x.cpu(), y_pred.cpu())\n",
    "plt.show()"
   ],
   "metadata": {
    "id": "-HAezDH74ks1"
   },
   "execution_count": 239,
   "outputs": [
    {
     "name": "stdout",
     "output_type": "stream",
     "text": [
      "Epoch 500 loss: 13.954827308654785\n",
      "Epoch 1000 loss: 13.843137741088867\n",
      "Epoch 1500 loss: 13.651971817016602\n",
      "Epoch 2000 loss: 13.256722450256348\n",
      "Epoch 2500 loss: 12.511219024658203\n",
      "Epoch 3000 loss: 11.583309173583984\n",
      "Epoch 3500 loss: 10.897400856018066\n",
      "Epoch 4000 loss: 10.559664726257324\n",
      "Epoch 4500 loss: 10.422012329101562\n",
      "Epoch 5000 loss: 10.363282203674316\n",
      "Epoch 5500 loss: 10.332460403442383\n",
      "Epoch 6000 loss: 10.311904907226562\n",
      "Epoch 6500 loss: 10.295509338378906\n",
      "Epoch 7000 loss: 10.280970573425293\n",
      "Epoch 7500 loss: 10.267266273498535\n",
      "Epoch 8000 loss: 10.253790855407715\n",
      "Epoch 8500 loss: 10.2400484085083\n",
      "Epoch 9000 loss: 10.225515365600586\n",
      "Epoch 9500 loss: 10.2095947265625\n",
      "Epoch 10000 loss: 10.191596984863281\n",
      "Epoch 10500 loss: 10.170818328857422\n",
      "Epoch 11000 loss: 10.14669418334961\n",
      "Epoch 11500 loss: 10.118965148925781\n",
      "Epoch 12000 loss: 10.087669372558594\n",
      "Epoch 12500 loss: 10.052977561950684\n",
      "Epoch 13000 loss: 10.014991760253906\n",
      "Epoch 13500 loss: 9.973675727844238\n",
      "Epoch 14000 loss: 9.928914070129395\n",
      "Epoch 14500 loss: 9.880681037902832\n",
      "Epoch 15000 loss: 9.829191207885742\n",
      "Epoch 15500 loss: 9.774950981140137\n",
      "Epoch 16000 loss: 9.718642234802246\n",
      "Epoch 16500 loss: 9.66093635559082\n",
      "Epoch 17000 loss: 9.602368354797363\n",
      "Epoch 17500 loss: 9.543388366699219\n",
      "Epoch 18000 loss: 9.484619140625\n",
      "Epoch 18500 loss: 9.427287101745605\n",
      "Epoch 19000 loss: 9.373178482055664\n",
      "Epoch 19500 loss: 9.323795318603516\n",
      "Epoch 20000 loss: 9.279677391052246\n",
      "Epoch 20500 loss: 9.240572929382324\n",
      "Epoch 21000 loss: 9.205936431884766\n",
      "Epoch 21500 loss: 9.175203323364258\n",
      "Epoch 22000 loss: 9.147871971130371\n",
      "Epoch 22500 loss: 9.123507499694824\n",
      "Epoch 23000 loss: 9.10173511505127\n",
      "Epoch 23500 loss: 9.082221031188965\n",
      "Epoch 24000 loss: 9.064671516418457\n",
      "Epoch 24500 loss: 9.048824310302734\n",
      "Epoch 25000 loss: 9.034448623657227\n",
      "Epoch 25500 loss: 9.021342277526855\n",
      "Epoch 26000 loss: 9.00932788848877\n",
      "Epoch 26500 loss: 8.998254776000977\n",
      "Epoch 27000 loss: 8.987997055053711\n",
      "Epoch 27500 loss: 8.978452682495117\n",
      "Epoch 28000 loss: 8.969533920288086\n",
      "Epoch 28500 loss: 8.961174964904785\n",
      "Epoch 29000 loss: 8.953320503234863\n",
      "Epoch 29500 loss: 8.945927619934082\n",
      "Epoch 30000 loss: 8.938960075378418\n",
      "Epoch 30500 loss: 8.93238639831543\n",
      "Epoch 31000 loss: 8.926185607910156\n",
      "Epoch 31500 loss: 8.920328140258789\n",
      "Epoch 32000 loss: 8.91479206085205\n",
      "Epoch 32500 loss: 8.90955638885498\n",
      "Epoch 33000 loss: 8.904596328735352\n",
      "Epoch 33500 loss: 8.899892807006836\n",
      "Epoch 34000 loss: 8.895426750183105\n",
      "Epoch 34500 loss: 8.891176223754883\n",
      "Epoch 35000 loss: 8.887126922607422\n",
      "Epoch 35500 loss: 8.883261680603027\n",
      "Epoch 36000 loss: 8.879569053649902\n",
      "Epoch 36500 loss: 8.8760347366333\n",
      "Epoch 37000 loss: 8.872650146484375\n",
      "Epoch 37500 loss: 8.869407653808594\n",
      "Epoch 38000 loss: 8.866297721862793\n",
      "Epoch 38500 loss: 8.863316535949707\n",
      "Epoch 39000 loss: 8.860458374023438\n",
      "Epoch 39500 loss: 8.857717514038086\n",
      "Epoch 40000 loss: 8.855090141296387\n",
      "Epoch 40500 loss: 8.85257339477539\n",
      "Epoch 41000 loss: 8.850162506103516\n",
      "Epoch 41500 loss: 8.847855567932129\n",
      "Epoch 42000 loss: 8.8456449508667\n",
      "Epoch 42500 loss: 8.843531608581543\n",
      "Epoch 43000 loss: 8.841507911682129\n",
      "Epoch 43500 loss: 8.839574813842773\n",
      "Epoch 44000 loss: 8.837722778320312\n",
      "Epoch 44500 loss: 8.83595085144043\n",
      "Epoch 45000 loss: 8.834253311157227\n",
      "Epoch 45500 loss: 8.832627296447754\n",
      "Epoch 46000 loss: 8.83106803894043\n",
      "Epoch 46500 loss: 8.829570770263672\n",
      "Epoch 47000 loss: 8.828130722045898\n",
      "Epoch 47500 loss: 8.82674503326416\n",
      "Epoch 48000 loss: 8.825409889221191\n",
      "Epoch 48500 loss: 8.824122428894043\n",
      "Epoch 49000 loss: 8.8228759765625\n",
      "Epoch 49500 loss: 8.821669578552246\n",
      "Epoch 50000 loss: 8.820499420166016\n"
     ]
    },
    {
     "data": {
      "text/plain": "<Figure size 432x288 with 1 Axes>",
      "image/png": "[encoded data removed]"
     },
     "metadata": {
      "needs_background": "light"
     },
     "output_type": "display_data"
    }
   ]
  },
  {
   "cell_type": "code",
   "source": [
    "# Generate cubic data with 128 data points\n",
    "x, y = cubic_data_generator(128)"
   ],
   "metadata": {
    "id": "8oOmaesy4lvK"
   },
   "execution_count": 216,
   "outputs": []
  },
  {
   "cell_type": "code",
   "source": [
    "# 0H model on cubic data\n",
    "model = Linear_0H()\n",
    "y_pred = train(model, epochs=5000, x=x, y=y)\n",
    "plt.scatter(x.cpu(), y.cpu())\n",
    "plt.scatter(x.cpu(), y_pred.cpu())\n",
    "plt.show()"
   ],
   "metadata": {
    "id": "V1kRBOsD4oJs"
   },
   "execution_count": 217,
   "outputs": [
    {
     "name": "stdout",
     "output_type": "stream",
     "text": [
      "Epoch 2500 loss: 13.824455261230469\n",
      "Epoch 3000 loss: 13.824453353881836\n",
      "Epoch 3500 loss: 13.824455261230469\n",
      "Epoch 4000 loss: 13.824455261230469\n",
      "Epoch 4500 loss: 13.824455261230469\n",
      "Epoch 5000 loss: 13.824455261230469\n"
     ]
    },
    {
     "data": {
      "text/plain": "<Figure size 432x288 with 1 Axes>",
      "image/png": "[encoded data removed]"
     },
     "metadata": {
      "needs_background": "light"
     },
     "output_type": "display_data"
    },
    {
     "name": "stdout",
     "output_type": "stream",
     "text": [
      "Epoch 500 loss: 13.837401390075684\n",
      "Epoch 1000 loss: 13.82474422454834\n",
      "Epoch 1500 loss: 13.82446002960205\n",
      "Epoch 2000 loss: 13.824453353881836\n",
      "Epoch 2500 loss: 13.824455261230469\n",
      "Epoch 3000 loss: 13.824453353881836\n",
      "Epoch 3500 loss: 13.824455261230469\n",
      "Epoch 4000 loss: 13.824455261230469\n",
      "Epoch 4500 loss: 13.824455261230469\n",
      "Epoch 5000 loss: 13.824455261230469\n"
     ]
    },
    {
     "data": {
      "text/plain": "<Figure size 432x288 with 1 Axes>",
      "image/png": "[encoded data removed]"
     },
     "metadata": {
      "needs_background": "light"
     },
     "output_type": "display_data"
    }
   ]
  },
  {
   "cell_type": "code",
   "source": [
    "# 1H model on cubic data\n",
    "model = Linear_1H()\n",
    "y_pred = train(model, epochs=5000, x=x, y=y)\n",
    "plt.scatter(x.cpu(), y.cpu())\n",
    "plt.scatter(x.cpu(), y_pred.cpu())\n",
    "plt.show()"
   ],
   "metadata": {
    "id": "onSjlSm24pnk"
   },
   "execution_count": 218,
   "outputs": [
    {
     "name": "stdout",
     "output_type": "stream",
     "text": [
      "Epoch 500 loss: 13.916543960571289\n",
      "Epoch 1000 loss: 13.851377487182617\n",
      "Epoch 1500 loss: 13.825056076049805\n",
      "Epoch 2000 loss: 13.824468612670898\n",
      "Epoch 2500 loss: 13.824453353881836\n",
      "Epoch 3000 loss: 13.824453353881836\n",
      "Epoch 3500 loss: 13.824453353881836\n",
      "Epoch 4000 loss: 13.824455261230469\n",
      "Epoch 4500 loss: 13.824455261230469\n",
      "Epoch 5000 loss: 13.824455261230469\n"
     ]
    },
    {
     "data": {
      "text/plain": "<Figure size 432x288 with 1 Axes>",
      "image/png": "[encoded data removed]"
     },
     "metadata": {
      "needs_background": "light"
     },
     "output_type": "display_data"
    },
    {
     "name": "stdout",
     "output_type": "stream",
     "text": [
      "Epoch 500 loss: 13.916543960571289\n",
      "Epoch 1000 loss: 13.851377487182617\n",
      "Epoch 1500 loss: 13.825056076049805\n",
      "Epoch 2000 loss: 13.824468612670898\n",
      "Epoch 2500 loss: 13.824453353881836\n",
      "Epoch 3000 loss: 13.824453353881836\n",
      "Epoch 3500 loss: 13.824453353881836\n",
      "Epoch 4000 loss: 13.824455261230469\n",
      "Epoch 4500 loss: 13.824455261230469\n",
      "Epoch 5000 loss: 13.824455261230469\n"
     ]
    },
    {
     "data": {
      "text/plain": "<Figure size 432x288 with 1 Axes>",
      "image/png": "[encoded data removed]"
     },
     "metadata": {
      "needs_background": "light"
     },
     "output_type": "display_data"
    }
   ]
  },
  {
   "cell_type": "code",
   "source": [
    "# 2H model on cubic data\n",
    "model = Linear_2H()\n",
    "y_pred = train(model, epochs=10000, x=x, y=y)\n",
    "plt.scatter(x.cpu(), y.cpu())\n",
    "plt.scatter(x.cpu(), y_pred.cpu())\n",
    "plt.show()"
   ],
   "metadata": {
    "id": "9EWeYXQV4qQw"
   },
   "execution_count": 219,
   "outputs": [
    {
     "name": "stdout",
     "output_type": "stream",
     "text": [
      "Epoch 500 loss: 21.242786407470703\n",
      "Epoch 1000 loss: 21.242786407470703\n",
      "Epoch 1500 loss: 21.242786407470703\n",
      "Epoch 2000 loss: 21.242786407470703\n",
      "Epoch 2500 loss: 21.242786407470703\n",
      "Epoch 3000 loss: 21.242786407470703\n",
      "Epoch 3500 loss: 21.242786407470703\n",
      "Epoch 4000 loss: 21.242786407470703\n",
      "Epoch 4500 loss: 21.242786407470703\n",
      "Epoch 5000 loss: 21.242786407470703\n",
      "Epoch 5500 loss: 21.242786407470703\n",
      "Epoch 6000 loss: 21.242786407470703\n",
      "Epoch 6500 loss: 21.242786407470703\n",
      "Epoch 7000 loss: 21.242786407470703\n",
      "Epoch 7500 loss: 21.242786407470703\n",
      "Epoch 8000 loss: 21.242786407470703\n",
      "Epoch 8500 loss: 21.242786407470703\n",
      "Epoch 9000 loss: 21.242786407470703\n",
      "Epoch 9500 loss: 21.242786407470703\n",
      "Epoch 10000 loss: 21.242786407470703\n"
     ]
    },
    {
     "data": {
      "text/plain": "<Figure size 432x288 with 1 Axes>",
      "image/png": "[encoded data removed]"
     },
     "metadata": {
      "needs_background": "light"
     },
     "output_type": "display_data"
    },
    {
     "name": "stdout",
     "output_type": "stream",
     "text": [
      "Epoch 500 loss: 21.242786407470703\n",
      "Epoch 1000 loss: 21.242786407470703\n",
      "Epoch 1500 loss: 21.242786407470703\n",
      "Epoch 2000 loss: 21.242786407470703\n",
      "Epoch 2500 loss: 21.242786407470703\n",
      "Epoch 3000 loss: 21.242786407470703\n",
      "Epoch 3500 loss: 21.242786407470703\n",
      "Epoch 4000 loss: 21.242786407470703\n",
      "Epoch 4500 loss: 21.242786407470703\n",
      "Epoch 5000 loss: 21.242786407470703\n",
      "Epoch 5500 loss: 21.242786407470703\n",
      "Epoch 6000 loss: 21.242786407470703\n",
      "Epoch 6500 loss: 21.242786407470703\n",
      "Epoch 7000 loss: 21.242786407470703\n",
      "Epoch 7500 loss: 21.242786407470703\n",
      "Epoch 8000 loss: 21.242786407470703\n",
      "Epoch 8500 loss: 21.242786407470703\n",
      "Epoch 9000 loss: 21.242786407470703\n",
      "Epoch 9500 loss: 21.242786407470703\n",
      "Epoch 10000 loss: 21.242786407470703\n"
     ]
    },
    {
     "data": {
      "text/plain": "<Figure size 432x288 with 1 Axes>",
      "image/png": "[encoded data removed]"
     },
     "metadata": {
      "needs_background": "light"
     },
     "output_type": "display_data"
    }
   ]
  },
  {
   "cell_type": "code",
   "execution_count": 219,
   "outputs": [],
   "source": [],
   "metadata": {
    "collapsed": false,
    "pycharm": {
     "name": "#%%\n"
    }
   }
  }
 ],
 "metadata": {
  "colab": {
   "provenance": [],
   "collapsed_sections": []
  },
  "kernelspec": {
   "display_name": "Python 3",
   "language": "python",
   "name": "python3"
  },
  "language_info": {
   "codemirror_mode": {
    "name": "ipython",
    "version": 3
   },
   "file_extension": ".py",
   "mimetype": "text/x-python",
   "name": "python",
   "nbconvert_exporter": "python",
   "pygments_lexer": "ipython3",
   "version": "3.6.7"
  }
 },
 "nbformat": 4,
 "nbformat_minor": 0
}