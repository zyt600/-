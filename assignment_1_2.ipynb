{
  "cells": [
    {
      "cell_type": "markdown",
      "metadata": {
        "id": "XuPJi-rq1WEZ"
      },
      "source": [
        "# Assignment 1\n",
        "## [Section 2]\n",
        "This assignment will make you familier with \n",
        "1. loading and preprocessing data using built-in function\n",
        "2. how to construct a simple CNN model\n",
        "3. the training and testing pipeline\n",
        "\n",
        "\n",
        "In this assignment, you might find some tutorials useful, such as https://pytorch.org/tutorials/beginner/basics/intro.html."
      ]
    },
    {
      "cell_type": "code",
      "execution_count": null,
      "metadata": {
        "id": "N7OzMyzk1WEc"
      },
      "outputs": [],
      "source": [
        "# Import dependencies.\n",
        "import random\n",
        "import numpy as np\n",
        "import torch\n",
        "import torch.nn as nn\n",
        "import torch.nn.functional as F\n",
        "import torch.optim as optim\n",
        "from torch.utils.data import DataLoader\n",
        "from torchvision import datasets, transforms"
      ]
    },
    {
      "cell_type": "code",
      "execution_count": null,
      "metadata": {
        "id": "Xe6caWN_1WEd"
      },
      "outputs": [],
      "source": [
        "# Set up your device \n",
        "cuda = torch.cuda.is_available()\n",
        "device = torch.device(\"cuda:0\" if cuda else \"cpu\")"
      ]
    },
    {
      "cell_type": "code",
      "execution_count": null,
      "metadata": {
        "id": "PbWR_5nB1WEd"
      },
      "outputs": [],
      "source": [
        "# Set up random seed to 1008. Do not change the random seed.\n",
        "# Yes, these are all necessary when you run experiments!\n",
        "seed = 1008\n",
        "random.seed(seed)\n",
        "np.random.seed(seed)\n",
        "torch.manual_seed(seed)\n",
        "if cuda:\n",
        "    torch.cuda.manual_seed(seed)\n",
        "    torch.cuda.manual_seed_all(seed)\n",
        "    torch.backends.cudnn.benchmark = False\n",
        "    torch.backends.cudnn.deterministic = True"
      ]
    },
    {
      "cell_type": "markdown",
      "metadata": {
        "id": "s3MQkukl1WEd"
      },
      "source": [
        "## 1. Data: MNIST [2 pt]\n",
        "#### Load the MNIST training and test dataset using $\\texttt{torch.utils.data.DataLoader}$ and $\\texttt{torchvision.datasets}$. \n",
        "\n",
        "This dataset consists of images of handwritten digit, and thus the number of classes is 10. The shape of image in MNIST dataset is (28, 28, 1)\n",
        "\n",
        "The normalization parameters we will use is (0.1307, 0.3081)\n",
        "\n",
        "More details please refer to  http://yann.lecun.com/exdb/mnist/."
      ]
    },
    {
      "cell_type": "markdown",
      "metadata": {
        "id": "8_3sASfx1WEe"
      },
      "source": [
        "### 1.1. Load Training Set [1 pt]"
      ]
    },
    {
      "cell_type": "code",
      "execution_count": null,
      "metadata": {
        "id": "UxI1Bov71WEe"
      },
      "outputs": [],
      "source": [
        "# Load the MNIST training set with batch size 128, apply data shuffling and normalization \n",
        "# train_loader = TODO"
      ]
    },
    {
      "cell_type": "markdown",
      "metadata": {
        "id": "QpWxQFFx1WEe"
      },
      "source": [
        "### 1.2. Load Test Set [1 pt]"
      ]
    },
    {
      "cell_type": "code",
      "execution_count": null,
      "metadata": {
        "id": "zu55m4_h1WEf"
      },
      "outputs": [],
      "source": [
        "# Load the MNIST test set with batch size 128, apply normalization\n",
        "# test_loader = TODO"
      ]
    },
    {
      "cell_type": "markdown",
      "metadata": {
        "id": "OspQSBSz1WEf"
      },
      "source": [
        "## 2. Models [3 pts]\n",
        "#### You are going to define two convolutional neural networks which are trained to classify MNIST digits"
      ]
    },
    {
      "cell_type": "markdown",
      "metadata": {
        "id": "pqEs-i9H1WEg"
      },
      "source": [
        "### 2.1. CNN without Batch Norm [2 pts]"
      ]
    },
    {
      "cell_type": "code",
      "execution_count": null,
      "metadata": {
        "id": "fH7n7KqZ1WEg"
      },
      "outputs": [],
      "source": [
        "# Fill in the values below that make this network valid for MNIST data\n",
        "# Hint: to make sure these, you may calculate the shape of x of every line in the forward.\n",
        "conv1_in_ch = # TODO\n",
        "conv2_in_ch = # TODO\n",
        "fc1_in_features = # TODO\n",
        "fc2_in_features = # TODO\n",
        "n_classes = # TODO"
      ]
    },
    {
      "cell_type": "code",
      "execution_count": null,
      "metadata": {
        "id": "QyMaix4F1WEg"
      },
      "outputs": [],
      "source": [
        "class NetWithoutBatchNorm(nn.Module):\n",
        "    def __init__(self):\n",
        "        super(NetWithoutBatchNorm, self).__init__()\n",
        "        self.conv1 = nn.Conv2d(in_channels=conv1_in_ch, out_channels=20, kernel_size=5, stride=1)\n",
        "        self.conv2 = nn.Conv2d(in_channels=conv2_in_ch, out_channels=50, kernel_size=5, stride=1)\n",
        "        self.fc1 = nn.Linear(in_features=fc1_in_features, out_features=500)\n",
        "        self.fc2 = nn.Linear(in_features=fc2_in_features, out_features=n_classes)\n",
        "\n",
        "    def forward(self, x):\n",
        "        x = F.relu(self.conv1(x))\n",
        "        x = F.max_pool2d(x, kernel_size=2, stride=2)\n",
        "        x = F.relu(self.conv2(x))\n",
        "        x = F.max_pool2d(x, kernel_size=2, stride=2)\n",
        "        x = x.view(-1, fc1_in_features) # reshaping\n",
        "        x = F.relu(self.fc1(x))\n",
        "        x = self.fc2(x)\n",
        "        \n",
        "        # Return the log_softmax of x.\n",
        "        return # TODO"
      ]
    },
    {
      "cell_type": "markdown",
      "metadata": {
        "id": "kFKJlgu81WEh"
      },
      "source": [
        "### 2.2. CNN with Batch Norm [1 pt]"
      ]
    },
    {
      "cell_type": "code",
      "execution_count": null,
      "metadata": {
        "id": "Mc3rp2YW1WEh"
      },
      "outputs": [],
      "source": [
        "# Fill in the values below that make this network valid for MNIST data\n",
        "# Hint: to make sure these, you may calculate the shape of x of every line in the forward.\n",
        "conv1_bn_size = # TODO\n",
        "conv2_bn_size = # TODO\n",
        "fc1_bn_size = # TODO"
      ]
    },
    {
      "cell_type": "code",
      "execution_count": null,
      "metadata": {
        "id": "b-0DOwV31WEh"
      },
      "outputs": [],
      "source": [
        "# Define the CNN with architecture explained in Part 2.2\n",
        "class NetWithBatchNorm(nn.Module):\n",
        "    def __init__(self):\n",
        "        super(NetWithBatchNorm, self).__init__()\n",
        "        self.conv1 = nn.Conv2d(in_channels=conv1_in_ch, out_channels=20, kernel_size=5, stride=1)\n",
        "        self.conv1_bn = nn.BatchNorm2d(conv1_bn_size)\n",
        "        self.conv2 = nn.Conv2d(in_channels=conv2_in_ch, out_channels=50, kernel_size=5, stride=1)\n",
        "        self.conv2_bn = nn.BatchNorm2d(conv2_bn_size)\n",
        "        self.fc1 = nn.Linear(in_features=fc1_in_features, out_features=500)\n",
        "        self.fc1_bn = nn.BatchNorm1d(fc1_bn_size)\n",
        "        self.fc2 = nn.Linear(in_features=fc2_in_features, out_features=n_classes)\n",
        "\n",
        "    def forward(self, x):\n",
        "        x = F.relu(self.conv1_bn(self.conv1(x)))\n",
        "        x = F.max_pool2d(x, kernel_size=2, stride=2)\n",
        "        x = F.relu(self.conv2_bn(self.conv2(x)))\n",
        "        x = F.max_pool2d(x, kernel_size=2, stride=2)\n",
        "        x = x.view(-1, fc1_in_features)\n",
        "        x = F.relu(self.fc1_bn(self.fc1(x)))\n",
        "        x = self.fc2(x)\n",
        "\n",
        "        # Return the log_softmax of x.\n",
        "        return # TODO\n"
      ]
    },
    {
      "cell_type": "markdown",
      "metadata": {
        "id": "0psJkBxm1WEh"
      },
      "source": [
        "## 3. Training & Evaluation [4 pts]"
      ]
    },
    {
      "cell_type": "markdown",
      "metadata": {
        "id": "VFY-_pb71WEi"
      },
      "source": [
        "### 3.1. Define training method [1 pt]"
      ]
    },
    {
      "cell_type": "code",
      "execution_count": null,
      "metadata": {
        "id": "5xL7MVll1WEi"
      },
      "outputs": [],
      "source": [
        "def train(model, device, train_loader, optimizer, epoch, log_interval = 100):\n",
        "    # Set model to training mode\n",
        "    model.train()\n",
        "    # Loop through data points\n",
        "    for batch_idx, (data, target) in enumerate(train_loader):\n",
        "    \n",
        "        # Send data and target to device\n",
        "        # TODO\n",
        "        \n",
        "        # Zero out the ortimizer\n",
        "        # TODO\n",
        "        \n",
        "        # Pass data through model\n",
        "        # TODO\n",
        "        \n",
        "        # Compute the negative log likelihood loss\n",
        "        # TODO\n",
        "        \n",
        "        # Backpropagate loss\n",
        "        # TODO\n",
        "        \n",
        "        # Make a step with the optimizer\n",
        "        # TODO\n",
        "    \n",
        "        if batch_idx % log_interval == 0:\n",
        "            print('Train Epoch: {} [{}/{} ({:.0f}%)]\\tLoss: {:.6f}'.format(\n",
        "                epoch, batch_idx * len(data), len(train_loader.dataset),\n",
        "                100. * batch_idx / len(train_loader), loss.item()))"
      ]
    },
    {
      "cell_type": "markdown",
      "metadata": {
        "id": "ZygvwvvW1WEi"
      },
      "source": [
        "### 3.2. Define test method [1 pt]"
      ]
    },
    {
      "cell_type": "code",
      "execution_count": null,
      "metadata": {
        "id": "Xix5BhkV1WEi"
      },
      "outputs": [],
      "source": [
        "# Define test method\n",
        "def test(model, device, test_loader):\n",
        "    # Set model to evaluation mode\n",
        "    model.eval()\n",
        "    # Variable for the total loss \n",
        "    test_loss = 0\n",
        "    # Counter for the correct predictions\n",
        "    num_correct = 0\n",
        "    \n",
        "    # don't need autograd for eval\n",
        "    with torch.no_grad():\n",
        "        # Loop through data points\n",
        "        for data, target in test_loader:\n",
        "\n",
        "            # Send data to device\n",
        "            # TODO\n",
        "            \n",
        "            # Pass data through model\n",
        "            # TODO\n",
        "            \n",
        "            # Compute the negative log likelihood loss with reduction='sum' and add to total test_loss\n",
        "            # TODO\n",
        "            \n",
        "            # Get predictions from the model for each data point\n",
        "            # TODO\n",
        "            \n",
        "            # Add number of correct predictions to total num_correct\n",
        "            # TODO\n",
        "    \n",
        "    # Compute the average test_loss\n",
        "    avg_test_loss = # TODO\n",
        "    \n",
        "    print('\\nTest set: Average loss: {:.4f}, Accuracy: {}/{} ({:.0f}%)\\n'.format(\n",
        "        avg_test_loss, num_correct, len(test_loader.dataset),\n",
        "        100. * num_correct / len(test_loader.dataset)))"
      ]
    },
    {
      "cell_type": "markdown",
      "metadata": {
        "id": "Li3a435x1WEi"
      },
      "source": [
        "### 3.3 Train NetWithoutBatchNorm() [1 pt]"
      ]
    },
    {
      "cell_type": "code",
      "execution_count": null,
      "metadata": {
        "colab": {
          "background_save": true
        },
        "id": "3J_u4HI41WEj"
      },
      "outputs": [],
      "source": [
        "# Deifne model and sent to device\n",
        "model = # TODO\n",
        "\n",
        "# Optimizer: SGD with learning rate of 1e-2 and momentum of 0.5\n",
        "optimizer = # TODO\n",
        "\n",
        "# Training loop with 10 epochs\n",
        "for epoch in range(1, 10 + 1):\n",
        "\n",
        "    # Train model\n",
        "    # TODO\n",
        "\n",
        "    # Test model\n",
        "    # TODO"
      ]
    },
    {
      "cell_type": "markdown",
      "metadata": {
        "id": "xRCI-zz_1WEj"
      },
      "source": [
        "### 3.4 Train NetWithBatchNorm() [1 pt]"
      ]
    },
    {
      "cell_type": "code",
      "execution_count": null,
      "metadata": {
        "id": "jQtHCqEq1WEj"
      },
      "outputs": [],
      "source": [
        "# Deifne model and sent to device\n",
        "model = # TODO\n",
        "\n",
        "# Optimizer: SGD with learning rate of 1e-2 and momentum of 0.5\n",
        "optimizer = # TODO\n",
        "\n",
        "# Training loop with 10 epochs\n",
        "for epoch in range(1, 10 + 1):\n",
        "    \n",
        "    # Train model\n",
        "    # TODO\n",
        "    \n",
        "    # Test model\n",
        "    # TODO"
      ]
    },
    {
      "cell_type": "markdown",
      "metadata": {
        "id": "Gb9wYwme1WEj"
      },
      "source": [
        "## 4. Empirically, which of the models achieves higher accuracy faster? [1pt]"
      ]
    },
    {
      "cell_type": "markdown",
      "metadata": {
        "id": "LlY11BPA1WEj"
      },
      "source": [
        "Answer: "
      ]
    },
    {
      "cell_type": "code",
      "execution_count": null,
      "metadata": {
        "id": "VoYYcWH5EH0y"
      },
      "outputs": [],
      "source": []
    }
  ],
  "metadata": {
    "colab": {
      "collapsed_sections": [],
      "provenance": []
    },
    "kernelspec": {
      "display_name": "Python 3",
      "language": "python",
      "name": "python3"
    },
    "language_info": {
      "codemirror_mode": {
        "name": "ipython",
        "version": 3
      },
      "file_extension": ".py",
      "mimetype": "text/x-python",
      "name": "python",
      "nbconvert_exporter": "python",
      "pygments_lexer": "ipython3",
      "version": "3.6.7"
    }
  },
  "nbformat": 4,
  "nbformat_minor": 0
}