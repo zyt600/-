{
 "cells": [
  {
   "cell_type": "markdown",
   "metadata": {
    "id": "XuPJi-rq1WEZ",
    "pycharm": {
     "name": "#%% md\n"
    }
   },
   "source": [
    "# Assignment 1\n",
    "## [Section 2]\n",
    "This assignment will make you familier with \n",
    "1. loading and preprocessing data using built-in function\n",
    "2. how to construct a simple CNN model\n",
    "3. the training and testing pipeline\n",
    "\n",
    "\n",
    "In this assignment, you might find some tutorials useful, such as https://pytorch.org/tutorials/beginner/basics/intro.html."
   ]
  },
  {
   "cell_type": "code",
   "execution_count": 9,
   "outputs": [],
   "source": [
    "# Import dependencies.\n",
    "import random\n",
    "import numpy as np\n",
    "import torch\n",
    "import torch.nn as nn\n",
    "import torch.nn.functional as F\n",
    "import torch.optim as optim\n",
    "from torch.utils.data import DataLoader\n",
    "from torchvision.transforms import ToTensor\n",
    "from torchvision import datasets, transforms"
   ],
   "metadata": {
    "collapsed": false,
    "pycharm": {
     "name": "#%%\n"
    }
   }
  },
  {
   "cell_type": "code",
   "execution_count": 10,
   "outputs": [
    {
     "name": "stdout",
     "output_type": "stream",
     "text": [
      "cuda:0\n"
     ]
    }
   ],
   "source": [
    "# Set up your device \n",
    "cuda = torch.cuda.is_available()\n",
    "device = torch.device(\"cuda:0\" if cuda else \"cpu\")\n",
    "print(device)"
   ],
   "metadata": {
    "collapsed": false,
    "pycharm": {
     "name": "#%%\n"
    }
   }
  },
  {
   "cell_type": "code",
   "execution_count": 11,
   "outputs": [],
   "source": [
    "# Set up random seed to 1008. Do not change the random seed.\n",
    "# Yes, these are all necessary when you run experiments!\n",
    "seed = 1008\n",
    "random.seed(seed)\n",
    "np.random.seed(seed)\n",
    "torch.manual_seed(seed)\n",
    "if cuda:\n",
    "    torch.cuda.manual_seed(seed)\n",
    "    torch.cuda.manual_seed_all(seed)\n",
    "    torch.backends.cudnn.benchmark = False\n",
    "    torch.backends.cudnn.deterministic = True"
   ],
   "metadata": {
    "collapsed": false,
    "pycharm": {
     "name": "#%%\n"
    }
   }
  },
  {
   "cell_type": "markdown",
   "source": [
    "## 1. Data: MNIST [2 pt]\n",
    "#### Load the MNIST training and test dataset using $\\texttt{torch.utils.data.DataLoader}$ and $\\texttt{torchvision.datasets}$. \n",
    "\n",
    "This dataset consists of images of handwritten digit, and thus the number of classes is 10. The shape of image in MNIST dataset is (28, 28, 1)\n",
    "\n",
    "The normalization parameters we will use is (0.1307, 0.3081)\n",
    "\n",
    "More details please refer to  http://yann.lecun.com/exdb/mnist/."
   ],
   "metadata": {
    "collapsed": false,
    "pycharm": {
     "name": "#%% md\n"
    }
   }
  },
  {
   "cell_type": "markdown",
   "source": [
    "### 1.1. Load Training Set [1 pt]"
   ],
   "metadata": {
    "collapsed": false,
    "pycharm": {
     "name": "#%% md\n"
    }
   }
  },
  {
   "cell_type": "code",
   "execution_count": 12,
   "outputs": [],
   "source": [
    "# Load the MNIST training set with batch size 128, apply data shuffling and normalization \n",
    "# train_loader = TODO\n",
    "training_data=datasets.MNIST(\n",
    "    root=\"\",\n",
    "    train=True,\n",
    "    download=True,\n",
    "    transform=ToTensor()\n",
    ")\n",
    "train_dataloader = DataLoader(training_data, batch_size=128, shuffle=True)"
   ],
   "metadata": {
    "collapsed": false,
    "pycharm": {
     "name": "#%%\n"
    }
   }
  },
  {
   "cell_type": "markdown",
   "source": [
    "### 1.2. Load Test Set [1 pt]"
   ],
   "metadata": {
    "collapsed": false,
    "pycharm": {
     "name": "#%% md\n"
    }
   }
  },
  {
   "cell_type": "code",
   "execution_count": 13,
   "outputs": [],
   "source": [
    "# Load the MNIST test set with batch size 128, apply normalization\n",
    "# test_loader = TODO\n",
    "test_data=datasets.MNIST(\n",
    "    root=\"\",\n",
    "    train=False,\n",
    "    download=True,\n",
    "    transform=ToTensor()\n",
    ") \n",
    "test_dataloader = DataLoader(test_data, batch_size=128, shuffle=True)\n",
    "# for i,(da,la) in enumerate(train_dataloader):\n",
    "#     print(da.size())\n",
    "#     break"
   ],
   "metadata": {
    "collapsed": false,
    "pycharm": {
     "name": "#%%\n"
    }
   }
  },
  {
   "cell_type": "markdown",
   "source": [
    "## 2. Models [3 pts]\n",
    "#### You are going to define two convolutional neural networks which are trained to classify MNIST digits"
   ],
   "metadata": {
    "collapsed": false,
    "pycharm": {
     "name": "#%% md\n"
    }
   }
  },
  {
   "cell_type": "markdown",
   "source": [
    "### 2.1. CNN without Batch Norm [2 pts]"
   ],
   "metadata": {
    "collapsed": false,
    "pycharm": {
     "name": "#%% md\n"
    }
   }
  },
  {
   "cell_type": "code",
   "execution_count": 14,
   "outputs": [],
   "source": [
    "# Fill in the values below that make this network valid for MNIST data\n",
    "# Hint: to make sure these, you may calculate the shape of x of every line in the forward.\n",
    "conv1_in_ch = 1\n",
    "conv2_in_ch = 20\n",
    "fc1_in_features = 50*4*4\n",
    "fc2_in_features = 500\n",
    "n_classes = 10"
   ],
   "metadata": {
    "collapsed": false,
    "pycharm": {
     "name": "#%%\n"
    }
   }
  },
  {
   "cell_type": "code",
   "execution_count": 15,
   "outputs": [],
   "source": [
    "class NetWithoutBatchNorm(nn.Module):\n",
    "    def __init__(self):\n",
    "        super(NetWithoutBatchNorm, self).__init__()\n",
    "        self.conv1 = nn.Conv2d(in_channels=conv1_in_ch, out_channels=20, kernel_size=5, stride=1)\n",
    "        self.conv2 = nn.Conv2d(in_channels=conv2_in_ch, out_channels=50, kernel_size=5, stride=1)\n",
    "        self.fc1 = nn.Linear(in_features=fc1_in_features, out_features=500)\n",
    "        self.fc2 = nn.Linear(in_features=fc2_in_features, out_features=n_classes)\n",
    "\n",
    "    def forward(self, x):\n",
    "        x = F.relu(self.conv1(x))\n",
    "        #输出128x20x24x24\n",
    "\n",
    "        x = F.max_pool2d(x, kernel_size=2, stride=2)\n",
    "        #输出128x20x12x12\n",
    "\n",
    "        x = F.relu(self.conv2(x))\n",
    "        #输出128x50x8x8\n",
    "\n",
    "        x = F.max_pool2d(x, kernel_size=2, stride=2)\n",
    "        #输出128x50x4x4\n",
    "\n",
    "        x = x.view(-1, fc1_in_features) # reshaping\n",
    "\n",
    "        x = F.relu(self.fc1(x))\n",
    "        x = self.fc2(x)\n",
    "        log_softmax_fun=nn.LogSoftmax()\n",
    "        # Return the log_softmax of x.\n",
    "        return log_softmax_fun(x)"
   ],
   "metadata": {
    "collapsed": false,
    "pycharm": {
     "name": "#%%\n"
    }
   }
  },
  {
   "cell_type": "markdown",
   "source": [
    "### 2.2. CNN with Batch Norm [1 pt]"
   ],
   "metadata": {
    "collapsed": false,
    "pycharm": {
     "name": "#%% md\n"
    }
   }
  },
  {
   "cell_type": "code",
   "execution_count": 16,
   "outputs": [],
   "source": [
    "# Fill in the values below that make this network valid for MNIST data\n",
    "# Hint: to make sure these, you may calculate the shape of x of every line in the forward.\n",
    "conv1_bn_size = 20\n",
    "conv2_bn_size = 50\n",
    "fc1_bn_size = 500"
   ],
   "metadata": {
    "collapsed": false,
    "pycharm": {
     "name": "#%%\n"
    }
   }
  },
  {
   "cell_type": "code",
   "execution_count": 17,
   "outputs": [],
   "source": [
    "# Define the CNN with architecture explained in Part 2.2\n",
    "class NetWithBatchNorm(nn.Module):\n",
    "    def __init__(self):\n",
    "        super(NetWithBatchNorm, self).__init__()\n",
    "        self.conv1 = nn.Conv2d(in_channels=conv1_in_ch, out_channels=20, kernel_size=5, stride=1)\n",
    "        self.conv1_bn = nn.BatchNorm2d(conv1_bn_size)\n",
    "        self.conv2 = nn.Conv2d(in_channels=conv2_in_ch, out_channels=50, kernel_size=5, stride=1)\n",
    "        self.conv2_bn = nn.BatchNorm2d(conv2_bn_size)\n",
    "        self.fc1 = nn.Linear(in_features=fc1_in_features, out_features=500)\n",
    "        self.fc1_bn = nn.BatchNorm1d(fc1_bn_size)\n",
    "        self.fc2 = nn.Linear(in_features=fc2_in_features, out_features=n_classes)\n",
    "\n",
    "    def forward(self, x):\n",
    "        x = F.relu(self.conv1_bn(self.conv1(x)))\n",
    "        #输出128x20x24x24\n",
    "\n",
    "        x = F.max_pool2d(x, kernel_size=2, stride=2)\n",
    "        #输出:128x20x12x12\n",
    "\n",
    "        x = F.relu(self.conv2_bn(self.conv2(x)))\n",
    "        #输出 :128x50x8x8\n",
    "\n",
    "        x = F.max_pool2d(x, kernel_size=2, stride=2)\n",
    "        #输出128x50x4x4\n",
    "\n",
    "\n",
    "        x = x.view(-1, fc1_in_features)\n",
    "        x = F.relu(self.fc1_bn(self.fc1(x)))\n",
    "        x = self.fc2(x)\n",
    "\n",
    "        # Return the log_softmax of x.\n",
    "        log_softmax_fun=nn.LogSoftmax()\n",
    "\n",
    "        return log_softmax_fun(x)\n"
   ],
   "metadata": {
    "collapsed": false,
    "pycharm": {
     "name": "#%%\n"
    }
   }
  },
  {
   "cell_type": "markdown",
   "source": [
    "## 3. Training & Evaluation [4 pts]"
   ],
   "metadata": {
    "collapsed": false,
    "pycharm": {
     "name": "#%% md\n"
    }
   }
  },
  {
   "cell_type": "markdown",
   "source": [
    "### 3.1. Define training method [1 pt]"
   ],
   "metadata": {
    "collapsed": false,
    "pycharm": {
     "name": "#%% md\n"
    }
   }
  },
  {
   "cell_type": "code",
   "execution_count": 18,
   "outputs": [],
   "source": [
    "def train(model, device, train_loader, optimizer, epoch, log_interval = 100):\n",
    "    # Set model to training mode\n",
    "    model.train()\n",
    "    # Loop through data points\n",
    "    for batch_idx, (data, target) in enumerate(train_loader):\n",
    "\n",
    "        # Send data and target to device\n",
    "        # TODO\n",
    "        data.to(device)\n",
    "        target.to(device)\n",
    "        # Zero out the optimizer\n",
    "        # TODO\n",
    "        optimizer.zero_grad()\n",
    "\n",
    "        # Pass data through model\n",
    "        # TODO\n",
    "        output=model.forward(data)\n",
    "        # Compute the negative log likelihood loss\n",
    "        # TODO\n",
    "        lossfun=nn.NLLLoss()\n",
    "        loss=lossfun(output,target)\n",
    "\n",
    "        # Backpropagate loss\n",
    "        # TODO\n",
    "        loss.backward()\n",
    "        # Make a step with the optimizer\n",
    "        # TODO\n",
    "        optimizer.step()\n",
    "\n",
    "        if batch_idx % log_interval == 0:\n",
    "            print('Train Epoch: {} [{}/{} ({:.0f}%)]\\tLoss: {:.6f}'.format(\n",
    "                epoch, batch_idx * len(data), len(train_loader.dataset),\n",
    "                100. * batch_idx / len(train_loader), loss.item()))"
   ],
   "metadata": {
    "collapsed": false,
    "pycharm": {
     "name": "#%%\n"
    }
   }
  },
  {
   "cell_type": "markdown",
   "source": [
    "### 3.2. Define test method [1 pt]"
   ],
   "metadata": {
    "collapsed": false,
    "pycharm": {
     "name": "#%% md\n"
    }
   }
  },
  {
   "cell_type": "code",
   "execution_count": 19,
   "outputs": [],
   "source": [
    "# Define test method\n",
    "def test(model, device, test_loader):\n",
    "    # Set model to evaluation mode\n",
    "    model.eval()\n",
    "    # Variable for the total loss \n",
    "    test_loss = 0\n",
    "    # Counter for the correct predictions\n",
    "    num_correct = 0\n",
    "    \n",
    "    # don't need autograd for eval\n",
    "    with torch.no_grad():\n",
    "        # Loop through data points\n",
    "\n",
    "        for data, target in test_loader:\n",
    "\n",
    "            # Send data to device\n",
    "            # TODO\n",
    "            data.to(device)\n",
    "            target.to(device)\n",
    "            # Pass data through model\n",
    "            # TODO\n",
    "            output=model.forward(data)\n",
    "            # Compute the negative log likelihood loss with reduction='sum' and add to total test_loss\n",
    "            # TODO\n",
    "            lossfun=nn.NLLLoss(reduction=\"sum\")\n",
    "\n",
    "\n",
    "            test_loss=lossfun(output,target)\n",
    "            # Get predictions from the model for each data point\n",
    "            # TODO\n",
    "            pred = output.data.max(1, keepdim=True)[1]\n",
    "            # Add number of correct predictions to total num_correct\n",
    "            # TODO\n",
    "            num_correct+= pred.eq(target.data.view_as(pred)).sum()\n",
    "    # Compute the average test_loss\n",
    "    avg_test_loss = test_loss/ len(test_loader.dataset)#######################################################################\n",
    "    \n",
    "    print('\\nTest set: Average loss: {:.4f}, Accuracy: {}/{} ({:.0f}%)\\n'.format(\n",
    "        avg_test_loss, num_correct, len(test_loader.dataset),\n",
    "        100. * num_correct / len(test_loader.dataset)))"
   ],
   "metadata": {
    "collapsed": false,
    "pycharm": {
     "name": "#%%\n"
    }
   }
  },
  {
   "cell_type": "markdown",
   "source": [
    "### 3.3 Train NetWithoutBatchNorm() [1 pt]"
   ],
   "metadata": {
    "collapsed": false,
    "pycharm": {
     "name": "#%% md\n"
    }
   }
  },
  {
   "cell_type": "code",
   "execution_count": 21,
   "outputs": [
    {
     "name": "stderr",
     "output_type": "stream",
     "text": [
      "C:\\Users\\zyt\\AppData\\Local\\Temp\\ipykernel_1384\\1377895017.py:28: UserWarning: Implicit dimension choice for log_softmax has been deprecated. Change the call to include dim=X as an argument.\n",
      "  return log_softmax_fun(x)\n"
     ]
    },
    {
     "name": "stdout",
     "output_type": "stream",
     "text": [
      "Train Epoch: 1 [0/60000 (0%)]\tLoss: 2.303374\n",
      "Train Epoch: 1 [12800/60000 (21%)]\tLoss: 2.172543\n",
      "Train Epoch: 1 [25600/60000 (43%)]\tLoss: 0.795625\n",
      "Train Epoch: 1 [38400/60000 (64%)]\tLoss: 0.520172\n",
      "Train Epoch: 1 [51200/60000 (85%)]\tLoss: 0.409966\n",
      "\n",
      "Test set: Average loss: 0.0001, Accuracy: 9013/10000 (90%)\n",
      "\n",
      "Train Epoch: 2 [0/60000 (0%)]\tLoss: 0.404931\n",
      "Train Epoch: 2 [12800/60000 (21%)]\tLoss: 0.304466\n",
      "Train Epoch: 2 [25600/60000 (43%)]\tLoss: 0.274280\n",
      "Train Epoch: 2 [38400/60000 (64%)]\tLoss: 0.285204\n",
      "Train Epoch: 2 [51200/60000 (85%)]\tLoss: 0.281526\n",
      "\n",
      "Test set: Average loss: 0.0001, Accuracy: 9446/10000 (94%)\n",
      "\n",
      "Train Epoch: 3 [0/60000 (0%)]\tLoss: 0.154874\n",
      "Train Epoch: 3 [12800/60000 (21%)]\tLoss: 0.134831\n",
      "Train Epoch: 3 [25600/60000 (43%)]\tLoss: 0.177618\n",
      "Train Epoch: 3 [38400/60000 (64%)]\tLoss: 0.083302\n",
      "Train Epoch: 3 [51200/60000 (85%)]\tLoss: 0.162821\n",
      "\n",
      "Test set: Average loss: 0.0001, Accuracy: 9597/10000 (96%)\n",
      "\n",
      "Train Epoch: 4 [0/60000 (0%)]\tLoss: 0.189295\n",
      "Train Epoch: 4 [12800/60000 (21%)]\tLoss: 0.136353\n",
      "Train Epoch: 4 [25600/60000 (43%)]\tLoss: 0.105370\n",
      "Train Epoch: 4 [38400/60000 (64%)]\tLoss: 0.138704\n",
      "Train Epoch: 4 [51200/60000 (85%)]\tLoss: 0.190814\n",
      "\n",
      "Test set: Average loss: 0.0001, Accuracy: 9721/10000 (97%)\n",
      "\n",
      "Train Epoch: 5 [0/60000 (0%)]\tLoss: 0.105184\n",
      "Train Epoch: 5 [12800/60000 (21%)]\tLoss: 0.067860\n",
      "Train Epoch: 5 [25600/60000 (43%)]\tLoss: 0.047738\n",
      "Train Epoch: 5 [38400/60000 (64%)]\tLoss: 0.192652\n",
      "Train Epoch: 5 [51200/60000 (85%)]\tLoss: 0.117061\n",
      "\n",
      "Test set: Average loss: 0.0001, Accuracy: 9758/10000 (98%)\n",
      "\n",
      "Train Epoch: 6 [0/60000 (0%)]\tLoss: 0.042252\n",
      "Train Epoch: 6 [12800/60000 (21%)]\tLoss: 0.053829\n",
      "Train Epoch: 6 [25600/60000 (43%)]\tLoss: 0.054372\n",
      "Train Epoch: 6 [38400/60000 (64%)]\tLoss: 0.110621\n",
      "Train Epoch: 6 [51200/60000 (85%)]\tLoss: 0.065435\n",
      "\n",
      "Test set: Average loss: 0.0000, Accuracy: 9761/10000 (98%)\n",
      "\n",
      "Train Epoch: 7 [0/60000 (0%)]\tLoss: 0.140049\n",
      "Train Epoch: 7 [12800/60000 (21%)]\tLoss: 0.138756\n",
      "Train Epoch: 7 [25600/60000 (43%)]\tLoss: 0.060664\n",
      "Train Epoch: 7 [38400/60000 (64%)]\tLoss: 0.130360\n",
      "Train Epoch: 7 [51200/60000 (85%)]\tLoss: 0.054226\n",
      "\n",
      "Test set: Average loss: 0.0002, Accuracy: 9821/10000 (98%)\n",
      "\n",
      "Train Epoch: 8 [0/60000 (0%)]\tLoss: 0.113390\n",
      "Train Epoch: 8 [12800/60000 (21%)]\tLoss: 0.046270\n",
      "Train Epoch: 8 [25600/60000 (43%)]\tLoss: 0.086916\n",
      "Train Epoch: 8 [38400/60000 (64%)]\tLoss: 0.080872\n",
      "Train Epoch: 8 [51200/60000 (85%)]\tLoss: 0.061931\n",
      "\n",
      "Test set: Average loss: 0.0008, Accuracy: 9827/10000 (98%)\n",
      "\n",
      "Train Epoch: 9 [0/60000 (0%)]\tLoss: 0.086208\n",
      "Train Epoch: 9 [12800/60000 (21%)]\tLoss: 0.049927\n",
      "Train Epoch: 9 [25600/60000 (43%)]\tLoss: 0.062694\n",
      "Train Epoch: 9 [38400/60000 (64%)]\tLoss: 0.026096\n",
      "Train Epoch: 9 [51200/60000 (85%)]\tLoss: 0.032918\n",
      "\n",
      "Test set: Average loss: 0.0000, Accuracy: 9807/10000 (98%)\n",
      "\n",
      "Train Epoch: 10 [0/60000 (0%)]\tLoss: 0.104213\n",
      "Train Epoch: 10 [12800/60000 (21%)]\tLoss: 0.108131\n",
      "Train Epoch: 10 [25600/60000 (43%)]\tLoss: 0.086042\n",
      "Train Epoch: 10 [38400/60000 (64%)]\tLoss: 0.069546\n",
      "Train Epoch: 10 [51200/60000 (85%)]\tLoss: 0.025249\n",
      "\n",
      "Test set: Average loss: 0.0000, Accuracy: 9841/10000 (98%)\n",
      "\n"
     ]
    }
   ],
   "source": [
    "# Deifne model and sent to device\n",
    "model = NetWithoutBatchNorm()\n",
    "\n",
    "# Optimizer: SGD with learning rate of 1e-2 and momentum of 0.5\n",
    "optimizer = optim.SGD(model.parameters(), lr=0.01,momentum=0.5)\n",
    "\n",
    "# Training loop with 10 epochs\n",
    "for epoch in range(1, 10 + 1):\n",
    "\n",
    "    # Train model\n",
    "    # TODO\n",
    "    train(model,device,train_dataloader,optimizer,epoch)\n",
    "    # Test model\n",
    "    test(model,device,test_dataloader)"
   ],
   "metadata": {
    "collapsed": false,
    "pycharm": {
     "name": "#%%\n"
    }
   }
  },
  {
   "cell_type": "markdown",
   "source": [
    "### 3.4 Train NetWithBatchNorm() [1 pt]"
   ],
   "metadata": {
    "collapsed": false,
    "pycharm": {
     "name": "#%% md\n"
    }
   }
  },
  {
   "cell_type": "code",
   "execution_count": 22,
   "outputs": [
    {
     "name": "stdout",
     "output_type": "stream",
     "text": [
      "Train Epoch: 1 [0/60000 (0%)]\tLoss: 2.378598\n"
     ]
    },
    {
     "name": "stderr",
     "output_type": "stream",
     "text": [
      "C:\\Users\\zyt\\AppData\\Local\\Temp\\ipykernel_1384\\3750956891.py:34: UserWarning: Implicit dimension choice for log_softmax has been deprecated. Change the call to include dim=X as an argument.\n",
      "  return log_softmax_fun(x)\n"
     ]
    },
    {
     "name": "stdout",
     "output_type": "stream",
     "text": [
      "Train Epoch: 1 [12800/60000 (21%)]\tLoss: 0.213942\n",
      "Train Epoch: 1 [25600/60000 (43%)]\tLoss: 0.127211\n",
      "Train Epoch: 1 [38400/60000 (64%)]\tLoss: 0.090945\n",
      "Train Epoch: 1 [51200/60000 (85%)]\tLoss: 0.062945\n",
      "\n",
      "Test set: Average loss: 0.0001, Accuracy: 9784/10000 (98%)\n",
      "\n",
      "Train Epoch: 2 [0/60000 (0%)]\tLoss: 0.081283\n",
      "Train Epoch: 2 [12800/60000 (21%)]\tLoss: 0.100839\n",
      "Train Epoch: 2 [25600/60000 (43%)]\tLoss: 0.038459\n",
      "Train Epoch: 2 [38400/60000 (64%)]\tLoss: 0.044231\n",
      "Train Epoch: 2 [51200/60000 (85%)]\tLoss: 0.160232\n",
      "\n",
      "Test set: Average loss: 0.0005, Accuracy: 9841/10000 (98%)\n",
      "\n",
      "Train Epoch: 3 [0/60000 (0%)]\tLoss: 0.098585\n",
      "Train Epoch: 3 [12800/60000 (21%)]\tLoss: 0.021578\n",
      "Train Epoch: 3 [25600/60000 (43%)]\tLoss: 0.091281\n",
      "Train Epoch: 3 [38400/60000 (64%)]\tLoss: 0.013826\n",
      "Train Epoch: 3 [51200/60000 (85%)]\tLoss: 0.118294\n",
      "\n",
      "Test set: Average loss: 0.0000, Accuracy: 9866/10000 (99%)\n",
      "\n",
      "Train Epoch: 4 [0/60000 (0%)]\tLoss: 0.074210\n",
      "Train Epoch: 4 [12800/60000 (21%)]\tLoss: 0.016086\n",
      "Train Epoch: 4 [25600/60000 (43%)]\tLoss: 0.021343\n",
      "Train Epoch: 4 [38400/60000 (64%)]\tLoss: 0.037074\n",
      "Train Epoch: 4 [51200/60000 (85%)]\tLoss: 0.181844\n",
      "\n",
      "Test set: Average loss: 0.0001, Accuracy: 9888/10000 (99%)\n",
      "\n",
      "Train Epoch: 5 [0/60000 (0%)]\tLoss: 0.020397\n",
      "Train Epoch: 5 [12800/60000 (21%)]\tLoss: 0.036678\n",
      "Train Epoch: 5 [25600/60000 (43%)]\tLoss: 0.042523\n",
      "Train Epoch: 5 [38400/60000 (64%)]\tLoss: 0.034436\n",
      "Train Epoch: 5 [51200/60000 (85%)]\tLoss: 0.038114\n",
      "\n",
      "Test set: Average loss: 0.0000, Accuracy: 9889/10000 (99%)\n",
      "\n",
      "Train Epoch: 6 [0/60000 (0%)]\tLoss: 0.007839\n",
      "Train Epoch: 6 [12800/60000 (21%)]\tLoss: 0.030744\n",
      "Train Epoch: 6 [25600/60000 (43%)]\tLoss: 0.021512\n",
      "Train Epoch: 6 [38400/60000 (64%)]\tLoss: 0.026542\n",
      "Train Epoch: 6 [51200/60000 (85%)]\tLoss: 0.018074\n",
      "\n",
      "Test set: Average loss: 0.0000, Accuracy: 9900/10000 (99%)\n",
      "\n",
      "Train Epoch: 7 [0/60000 (0%)]\tLoss: 0.029639\n",
      "Train Epoch: 7 [12800/60000 (21%)]\tLoss: 0.031375\n",
      "Train Epoch: 7 [25600/60000 (43%)]\tLoss: 0.020810\n",
      "Train Epoch: 7 [38400/60000 (64%)]\tLoss: 0.026284\n",
      "Train Epoch: 7 [51200/60000 (85%)]\tLoss: 0.014121\n",
      "\n",
      "Test set: Average loss: 0.0002, Accuracy: 9906/10000 (99%)\n",
      "\n",
      "Train Epoch: 8 [0/60000 (0%)]\tLoss: 0.033497\n",
      "Train Epoch: 8 [12800/60000 (21%)]\tLoss: 0.056967\n",
      "Train Epoch: 8 [25600/60000 (43%)]\tLoss: 0.011356\n",
      "Train Epoch: 8 [38400/60000 (64%)]\tLoss: 0.012820\n",
      "Train Epoch: 8 [51200/60000 (85%)]\tLoss: 0.044116\n",
      "\n",
      "Test set: Average loss: 0.0000, Accuracy: 9896/10000 (99%)\n",
      "\n",
      "Train Epoch: 9 [0/60000 (0%)]\tLoss: 0.021880\n",
      "Train Epoch: 9 [12800/60000 (21%)]\tLoss: 0.022584\n",
      "Train Epoch: 9 [25600/60000 (43%)]\tLoss: 0.019767\n",
      "Train Epoch: 9 [38400/60000 (64%)]\tLoss: 0.024670\n",
      "Train Epoch: 9 [51200/60000 (85%)]\tLoss: 0.008039\n",
      "\n",
      "Test set: Average loss: 0.0000, Accuracy: 9911/10000 (99%)\n",
      "\n",
      "Train Epoch: 10 [0/60000 (0%)]\tLoss: 0.011247\n",
      "Train Epoch: 10 [12800/60000 (21%)]\tLoss: 0.017891\n",
      "Train Epoch: 10 [25600/60000 (43%)]\tLoss: 0.014288\n",
      "Train Epoch: 10 [38400/60000 (64%)]\tLoss: 0.005043\n",
      "Train Epoch: 10 [51200/60000 (85%)]\tLoss: 0.018835\n",
      "\n",
      "Test set: Average loss: 0.0000, Accuracy: 9915/10000 (99%)\n",
      "\n"
     ]
    }
   ],
   "source": [
    "# Deifne model and sent to device\n",
    "model = NetWithBatchNorm()\n",
    "\n",
    "# Optimizer: SGD with learning rate of 1e-2 and momentum of 0.5\n",
    "optimizer = optim.SGD(model.parameters(), lr=0.01,momentum=0.5)\n",
    "\n",
    "# Training loop with 10 epochs\n",
    "for epoch in range(1, 10 + 1):\n",
    "    \n",
    "    # Train model\n",
    "    # TODO\n",
    "    train(model,device,train_dataloader,optimizer,epoch)\n",
    "    # Test model\n",
    "    # TODO\n",
    "    test(model,device,test_dataloader)"
   ],
   "metadata": {
    "collapsed": false,
    "pycharm": {
     "name": "#%%\n"
    }
   }
  },
  {
   "cell_type": "markdown",
   "source": [
    "## 4. Empirically, which of the models achieves higher accuracy faster? [1pt]"
   ],
   "metadata": {
    "collapsed": false,
    "pycharm": {
     "name": "#%% md\n"
    }
   }
  },
  {
   "cell_type": "markdown",
   "source": [
    "Answer: Empirically, NetWithBatchNorm() achieves higher accuracy faster"
   ],
   "metadata": {
    "collapsed": false,
    "pycharm": {
     "name": "#%% md\n"
    }
   }
  }
 ],
 "metadata": {
  "colab": {
   "collapsed_sections": [],
   "provenance": []
  },
  "kernelspec": {
   "display_name": "Python 3",
   "language": "python",
   "name": "python3"
  },
  "language_info": {
   "codemirror_mode": {
    "name": "ipython",
    "version": 3
   },
   "file_extension": ".py",
   "mimetype": "text/x-python",
   "name": "python",
   "nbconvert_exporter": "python",
   "pygments_lexer": "ipython3",
   "version": "3.6.7"
  }
 },
 "nbformat": 4,
 "nbformat_minor": 0
}