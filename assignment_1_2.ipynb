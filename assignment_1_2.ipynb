{
 "cells": [
  {
   "cell_type": "markdown",
   "metadata": {
    "id": "XuPJi-rq1WEZ",
    "pycharm": {
     "name": "#%% md\n"
    }
   },
   "source": [
    "# Assignment 1\n",
    "## [Section 2]\n",
    "This assignment will make you familier with \n",
    "1. loading and preprocessing data using built-in function\n",
    "2. how to construct a simple CNN model\n",
    "3. the training and testing pipeline\n",
    "\n",
    "\n",
    "In this assignment, you might find some tutorials useful, such as https://pytorch.org/tutorials/beginner/basics/intro.html."
   ]
  },
  {
   "cell_type": "code",
   "execution_count": 26,
   "outputs": [],
   "source": [
    "# Import dependencies.\n",
    "import random\n",
    "import numpy as np\n",
    "import torch\n",
    "import torch.nn as nn\n",
    "import torch.nn.functional as F\n",
    "import torch.optim as optim\n",
    "from torch.utils.data import DataLoader\n",
    "from torchvision.transforms import ToTensor\n",
    "from torchvision import datasets, transforms"
   ],
   "metadata": {
    "collapsed": false,
    "pycharm": {
     "name": "#%%\n"
    }
   }
  },
  {
   "cell_type": "code",
   "execution_count": 44,
   "outputs": [
    {
     "name": "stdout",
     "output_type": "stream",
     "text": [
      "cuda:0\n"
     ]
    }
   ],
   "source": [
    "# Set up your device \n",
    "cuda = torch.cuda.is_available()\n",
    "device = torch.device(\"cuda:0\" if cuda else \"cpu\")\n",
    "print(device)"
   ],
   "metadata": {
    "collapsed": false,
    "pycharm": {
     "name": "#%%\n"
    }
   }
  },
  {
   "cell_type": "code",
   "execution_count": 45,
   "outputs": [],
   "source": [
    "# Set up random seed to 1008. Do not change the random seed.\n",
    "# Yes, these are all necessary when you run experiments!\n",
    "seed = 1008\n",
    "random.seed(seed)\n",
    "np.random.seed(seed)\n",
    "torch.manual_seed(seed)\n",
    "if cuda:\n",
    "    torch.cuda.manual_seed(seed)\n",
    "    torch.cuda.manual_seed_all(seed)\n",
    "    torch.backends.cudnn.benchmark = False\n",
    "    torch.backends.cudnn.deterministic = True"
   ],
   "metadata": {
    "collapsed": false,
    "pycharm": {
     "name": "#%%\n"
    }
   }
  },
  {
   "cell_type": "markdown",
   "source": [
    "## 1. Data: MNIST [2 pt]\n",
    "#### Load the MNIST training and test dataset using $\\texttt{torch.utils.data.DataLoader}$ and $\\texttt{torchvision.datasets}$. \n",
    "\n",
    "This dataset consists of images of handwritten digit, and thus the number of classes is 10. The shape of image in MNIST dataset is (28, 28, 1)\n",
    "\n",
    "The normalization parameters we will use is (0.1307, 0.3081)\n",
    "\n",
    "More details please refer to  http://yann.lecun.com/exdb/mnist/."
   ],
   "metadata": {
    "collapsed": false,
    "pycharm": {
     "name": "#%% md\n"
    }
   }
  },
  {
   "cell_type": "markdown",
   "source": [
    "### 1.1. Load Training Set [1 pt]"
   ],
   "metadata": {
    "collapsed": false,
    "pycharm": {
     "name": "#%% md\n"
    }
   }
  },
  {
   "cell_type": "code",
   "execution_count": 46,
   "outputs": [],
   "source": [
    "# Load the MNIST training set with batch size 128, apply data shuffling and normalization \n",
    "# train_loader = TODO\n",
    "training_data=datasets.MNIST(\n",
    "    root=\"\",\n",
    "    train=True,\n",
    "    download=True,\n",
    "    transform=ToTensor()\n",
    ")\n",
    "train_dataloader = DataLoader(training_data, batch_size=128, shuffle=True)"
   ],
   "metadata": {
    "collapsed": false,
    "pycharm": {
     "name": "#%%\n"
    }
   }
  },
  {
   "cell_type": "markdown",
   "source": [
    "### 1.2. Load Test Set [1 pt]"
   ],
   "metadata": {
    "collapsed": false,
    "pycharm": {
     "name": "#%% md\n"
    }
   }
  },
  {
   "cell_type": "code",
   "execution_count": 47,
   "outputs": [
    {
     "name": "stdout",
     "output_type": "stream",
     "text": [
      "torch.Size([128, 1, 28, 28])\n"
     ]
    }
   ],
   "source": [
    "# Load the MNIST test set with batch size 128, apply normalization\n",
    "# test_loader = TODO\n",
    "test_data=datasets.MNIST(\n",
    "    root=\"\",\n",
    "    train=False,\n",
    "    download=True,\n",
    "    transform=ToTensor()\n",
    ") \n",
    "test_dataloader = DataLoader(test_data, batch_size=128, shuffle=True)\n",
    "for i,(da,la) in enumerate(train_dataloader):\n",
    "    print(da.size())\n",
    "    break"
   ],
   "metadata": {
    "collapsed": false,
    "pycharm": {
     "name": "#%%\n"
    }
   }
  },
  {
   "cell_type": "markdown",
   "source": [
    "## 2. Models [3 pts]\n",
    "#### You are going to define two convolutional neural networks which are trained to classify MNIST digits"
   ],
   "metadata": {
    "collapsed": false,
    "pycharm": {
     "name": "#%% md\n"
    }
   }
  },
  {
   "cell_type": "markdown",
   "source": [
    "### 2.1. CNN without Batch Norm [2 pts]"
   ],
   "metadata": {
    "collapsed": false,
    "pycharm": {
     "name": "#%% md\n"
    }
   }
  },
  {
   "cell_type": "code",
   "execution_count": 48,
   "outputs": [],
   "source": [
    "# Fill in the values below that make this network valid for MNIST data\n",
    "# Hint: to make sure these, you may calculate the shape of x of every line in the forward.\n",
    "conv1_in_ch = 1\n",
    "conv2_in_ch = 20\n",
    "fc1_in_features = 20*4*10###########################################################################################\n",
    "fc2_in_features = 500\n",
    "n_classes = 10"
   ],
   "metadata": {
    "collapsed": false,
    "pycharm": {
     "name": "#%%\n"
    }
   }
  },
  {
   "cell_type": "code",
   "execution_count": 49,
   "outputs": [],
   "source": [
    "class NetWithoutBatchNorm(nn.Module):\n",
    "    def __init__(self):\n",
    "        super(NetWithoutBatchNorm, self).__init__()\n",
    "        self.conv1 = nn.Conv2d(in_channels=conv1_in_ch, out_channels=20, kernel_size=5, stride=1)\n",
    "        self.conv2 = nn.Conv2d(in_channels=conv2_in_ch, out_channels=50, kernel_size=5, stride=1)\n",
    "        self.fc1 = nn.Linear(in_features=fc1_in_features, out_features=500)\n",
    "        self.fc2 = nn.Linear(in_features=fc2_in_features, out_features=n_classes)\n",
    "\n",
    "    def forward(self, x):\n",
    "        x = F.relu(self.conv1(x))\n",
    "        #输出128x20x24x24\n",
    "\n",
    "        x = F.max_pool2d(x, kernel_size=2, stride=2)\n",
    "        #输出128x20x12x12\n",
    "\n",
    "        x = F.relu(self.conv2(x))\n",
    "        #输出128x20x8x8\n",
    "\n",
    "        x = F.max_pool2d(x, kernel_size=2, stride=2)\n",
    "        #输出128x20x4x4\n",
    "\n",
    "        x = x.view(-1, fc1_in_features) # reshaping\n",
    "\n",
    "        x = F.relu(self.fc1(x))\n",
    "        x = self.fc2(x)\n",
    "        log_softmax_fun=nn.LogSoftmax()\n",
    "        # Return the log_softmax of x.\n",
    "        return log_softmax_fun(x)"
   ],
   "metadata": {
    "collapsed": false,
    "pycharm": {
     "name": "#%%\n"
    }
   }
  },
  {
   "cell_type": "markdown",
   "source": [
    "### 2.2. CNN with Batch Norm [1 pt]"
   ],
   "metadata": {
    "collapsed": false,
    "pycharm": {
     "name": "#%% md\n"
    }
   }
  },
  {
   "cell_type": "code",
   "execution_count": null,
   "outputs": [],
   "source": [
    "# Fill in the values below that make this network valid for MNIST data\n",
    "# Hint: to make sure these, you may calculate the shape of x of every line in the forward.\n",
    "conv1_bn_size = # TODO\n",
    "conv2_bn_size = # TODO\n",
    "fc1_bn_size = # TODO"
   ],
   "metadata": {
    "collapsed": false,
    "pycharm": {
     "name": "#%%\n"
    }
   }
  },
  {
   "cell_type": "code",
   "execution_count": null,
   "outputs": [],
   "source": [
    "# Define the CNN with architecture explained in Part 2.2\n",
    "class NetWithBatchNorm(nn.Module):\n",
    "    def __init__(self):\n",
    "        super(NetWithBatchNorm, self).__init__()\n",
    "        self.conv1 = nn.Conv2d(in_channels=conv1_in_ch, out_channels=20, kernel_size=5, stride=1)\n",
    "        self.conv1_bn = nn.BatchNorm2d(conv1_bn_size)\n",
    "        self.conv2 = nn.Conv2d(in_channels=conv2_in_ch, out_channels=50, kernel_size=5, stride=1)\n",
    "        self.conv2_bn = nn.BatchNorm2d(conv2_bn_size)\n",
    "        self.fc1 = nn.Linear(in_features=fc1_in_features, out_features=500)\n",
    "        self.fc1_bn = nn.BatchNorm1d(fc1_bn_size)\n",
    "        self.fc2 = nn.Linear(in_features=fc2_in_features, out_features=n_classes)\n",
    "\n",
    "    def forward(self, x):\n",
    "        x = F.relu(self.conv1_bn(self.conv1(x)))\n",
    "        x = F.max_pool2d(x, kernel_size=2, stride=2)\n",
    "        x = F.relu(self.conv2_bn(self.conv2(x)))\n",
    "        x = F.max_pool2d(x, kernel_size=2, stride=2)\n",
    "        x = x.view(-1, fc1_in_features)\n",
    "        x = F.relu(self.fc1_bn(self.fc1(x)))\n",
    "        x = self.fc2(x)\n",
    "\n",
    "        # Return the log_softmax of x.\n",
    "        return # TODO\n"
   ],
   "metadata": {
    "collapsed": false,
    "pycharm": {
     "name": "#%%\n"
    }
   }
  },
  {
   "cell_type": "markdown",
   "source": [
    "## 3. Training & Evaluation [4 pts]"
   ],
   "metadata": {
    "collapsed": false,
    "pycharm": {
     "name": "#%% md\n"
    }
   }
  },
  {
   "cell_type": "markdown",
   "source": [
    "### 3.1. Define training method [1 pt]"
   ],
   "metadata": {
    "collapsed": false,
    "pycharm": {
     "name": "#%% md\n"
    }
   }
  },
  {
   "cell_type": "code",
   "execution_count": 50,
   "outputs": [],
   "source": [
    "def train(model, device, train_loader, optimizer, epoch, log_interval = 100):\n",
    "    # Set model to training mode\n",
    "    model.train()\n",
    "    # Loop through data points\n",
    "    for batch_idx, (data, target) in enumerate(train_loader):\n",
    "\n",
    "        # Send data and target to device\n",
    "        # TODO\n",
    "        data.to(device)\n",
    "        target.to(device)\n",
    "        # Zero out the optimizer\n",
    "        # TODO\n",
    "        optimizer.zero_grad()\n",
    "\n",
    "        # Pass data through model\n",
    "        # TODO\n",
    "        output=model.forward(data)\n",
    "        # Compute the negative log likelihood loss\n",
    "        # TODO\n",
    "        lossfun=nn.NLLLoss()\n",
    "        loss=lossfun(output,target)\n",
    "\n",
    "        # Backpropagate loss\n",
    "        # TODO\n",
    "        loss.backward()\n",
    "        # Make a step with the optimizer\n",
    "        # TODO\n",
    "        optimizer.step()\n",
    "\n",
    "        if batch_idx % log_interval == 0:\n",
    "            print('Train Epoch: {} [{}/{} ({:.0f}%)]\\tLoss: {:.6f}'.format(\n",
    "                epoch, batch_idx * len(data), len(train_loader.dataset),\n",
    "                100. * batch_idx / len(train_loader), loss.item()))"
   ],
   "metadata": {
    "collapsed": false,
    "pycharm": {
     "name": "#%%\n"
    }
   }
  },
  {
   "cell_type": "markdown",
   "source": [
    "### 3.2. Define test method [1 pt]"
   ],
   "metadata": {
    "collapsed": false,
    "pycharm": {
     "name": "#%% md\n"
    }
   }
  },
  {
   "cell_type": "code",
   "execution_count": 57,
   "metadata": {
    "id": "Xix5BhkV1WEi",
    "pycharm": {
     "name": "#%%\n"
    }
   },
   "outputs": [],
   "source": [
    "# Define test method\n",
    "def test(model, device, test_loader):\n",
    "    # Set model to evaluation mode\n",
    "    model.eval()\n",
    "    # Variable for the total loss \n",
    "    test_loss = 0\n",
    "    # Counter for the correct predictions\n",
    "    num_correct = 0\n",
    "    \n",
    "    # don't need autograd for eval\n",
    "    with torch.no_grad():\n",
    "        # Loop through data points\n",
    "\n",
    "        for data, target in test_loader:\n",
    "\n",
    "            # Send data to device\n",
    "            # TODO\n",
    "            data.to(device)\n",
    "            target.to(device)\n",
    "            # Pass data through model\n",
    "            # TODO\n",
    "            output=model.forward(data)\n",
    "            # Compute the negative log likelihood loss with reduction='sum' and add to total test_loss\n",
    "            # TODO\n",
    "            lossfun=nn.NLLLoss(reduction=\"sum\")\n",
    "\n",
    "\n",
    "            # loss=lossfun(target,output)\n",
    "            loss=555\n",
    "            # Get predictions from the model for each data point\n",
    "            # TODO\n",
    "            pred = output.data.max(1, keepdim=True)[1]\n",
    "            # Add number of correct predictions to total num_correct\n",
    "            # TODO\n",
    "            num_correct+= pred.eq(target.data.view_as(pred)).sum()\n",
    "    # Compute the average test_loss\n",
    "    avg_test_loss = num_correct/ len(test_loader.dataset)#######################################################################\n",
    "    \n",
    "    print('\\nTest set: Average loss: {:.4f}, Accuracy: {}/{} ({:.0f}%)\\n'.format(\n",
    "        avg_test_loss, num_correct, len(test_loader.dataset),\n",
    "        100. * num_correct / len(test_loader.dataset)))"
   ]
  },
  {
   "cell_type": "markdown",
   "metadata": {
    "id": "Li3a435x1WEi",
    "pycharm": {
     "name": "#%% md\n"
    }
   },
   "source": [
    "### 3.3 Train NetWithoutBatchNorm() [1 pt]"
   ]
  },
  {
   "cell_type": "code",
   "execution_count": 58,
   "metadata": {
    "colab": {
     "background_save": true
    },
    "id": "3J_u4HI41WEj",
    "pycharm": {
     "name": "#%%\n"
    }
   },
   "outputs": [
    {
     "name": "stderr",
     "output_type": "stream",
     "text": [
      "C:\\Users\\zyt\\AppData\\Local\\Temp\\ipykernel_17976\\49429538.py:28: UserWarning: Implicit dimension choice for log_softmax has been deprecated. Change the call to include dim=X as an argument.\n",
      "  return log_softmax_fun(x)\n"
     ]
    },
    {
     "name": "stdout",
     "output_type": "stream",
     "text": [
      "Train Epoch: 1 [0/60000 (0%)]\tLoss: 2.298930\n",
      "Train Epoch: 1 [12800/60000 (21%)]\tLoss: 2.184701\n",
      "Train Epoch: 1 [25600/60000 (43%)]\tLoss: 0.898293\n",
      "Train Epoch: 1 [38400/60000 (64%)]\tLoss: 0.671690\n",
      "Train Epoch: 1 [51200/60000 (85%)]\tLoss: 0.290666\n",
      "\n",
      "Test set: Average loss: 0.9087, Accuracy: 9087/10000 (91%)\n",
      "\n",
      "Train Epoch: 2 [0/60000 (0%)]\tLoss: 0.373629\n",
      "Train Epoch: 2 [12800/60000 (21%)]\tLoss: 0.342228\n",
      "Train Epoch: 2 [25600/60000 (43%)]\tLoss: 0.251213\n",
      "Train Epoch: 2 [38400/60000 (64%)]\tLoss: 0.174675\n",
      "Train Epoch: 2 [51200/60000 (85%)]\tLoss: 0.143987\n",
      "\n",
      "Test set: Average loss: 0.9506, Accuracy: 9506/10000 (95%)\n",
      "\n",
      "Train Epoch: 3 [0/60000 (0%)]\tLoss: 0.269125\n",
      "Train Epoch: 3 [12800/60000 (21%)]\tLoss: 0.094740\n",
      "Train Epoch: 3 [25600/60000 (43%)]\tLoss: 0.320406\n",
      "Train Epoch: 3 [38400/60000 (64%)]\tLoss: 0.198612\n",
      "Train Epoch: 3 [51200/60000 (85%)]\tLoss: 0.122546\n",
      "\n",
      "Test set: Average loss: 0.9633, Accuracy: 9633/10000 (96%)\n",
      "\n",
      "Train Epoch: 4 [0/60000 (0%)]\tLoss: 0.191297\n",
      "Train Epoch: 4 [12800/60000 (21%)]\tLoss: 0.087016\n",
      "Train Epoch: 4 [25600/60000 (43%)]\tLoss: 0.134672\n",
      "Train Epoch: 4 [38400/60000 (64%)]\tLoss: 0.147715\n",
      "Train Epoch: 4 [51200/60000 (85%)]\tLoss: 0.122021\n",
      "\n",
      "Test set: Average loss: 0.9742, Accuracy: 9742/10000 (97%)\n",
      "\n",
      "Train Epoch: 5 [0/60000 (0%)]\tLoss: 0.088773\n",
      "Train Epoch: 5 [12800/60000 (21%)]\tLoss: 0.069887\n",
      "Train Epoch: 5 [25600/60000 (43%)]\tLoss: 0.099347\n",
      "Train Epoch: 5 [38400/60000 (64%)]\tLoss: 0.111909\n",
      "Train Epoch: 5 [51200/60000 (85%)]\tLoss: 0.089635\n",
      "\n",
      "Test set: Average loss: 0.9764, Accuracy: 9764/10000 (98%)\n",
      "\n",
      "Train Epoch: 6 [0/60000 (0%)]\tLoss: 0.063941\n",
      "Train Epoch: 6 [12800/60000 (21%)]\tLoss: 0.033998\n",
      "Train Epoch: 6 [25600/60000 (43%)]\tLoss: 0.055492\n",
      "Train Epoch: 6 [38400/60000 (64%)]\tLoss: 0.067510\n",
      "Train Epoch: 6 [51200/60000 (85%)]\tLoss: 0.080870\n",
      "\n",
      "Test set: Average loss: 0.9810, Accuracy: 9810/10000 (98%)\n",
      "\n",
      "Train Epoch: 7 [0/60000 (0%)]\tLoss: 0.087008\n",
      "Train Epoch: 7 [12800/60000 (21%)]\tLoss: 0.070534\n",
      "Train Epoch: 7 [25600/60000 (43%)]\tLoss: 0.153595\n",
      "Train Epoch: 7 [38400/60000 (64%)]\tLoss: 0.029170\n",
      "Train Epoch: 7 [51200/60000 (85%)]\tLoss: 0.067117\n",
      "\n",
      "Test set: Average loss: 0.9800, Accuracy: 9800/10000 (98%)\n",
      "\n",
      "Train Epoch: 8 [0/60000 (0%)]\tLoss: 0.038084\n",
      "Train Epoch: 8 [12800/60000 (21%)]\tLoss: 0.039978\n",
      "Train Epoch: 8 [25600/60000 (43%)]\tLoss: 0.078107\n",
      "Train Epoch: 8 [38400/60000 (64%)]\tLoss: 0.049046\n",
      "Train Epoch: 8 [51200/60000 (85%)]\tLoss: 0.061798\n",
      "\n",
      "Test set: Average loss: 0.9805, Accuracy: 9805/10000 (98%)\n",
      "\n",
      "Train Epoch: 9 [0/60000 (0%)]\tLoss: 0.058075\n",
      "Train Epoch: 9 [12800/60000 (21%)]\tLoss: 0.020688\n",
      "Train Epoch: 9 [25600/60000 (43%)]\tLoss: 0.042570\n",
      "Train Epoch: 9 [38400/60000 (64%)]\tLoss: 0.047865\n",
      "Train Epoch: 9 [51200/60000 (85%)]\tLoss: 0.061649\n",
      "\n",
      "Test set: Average loss: 0.9829, Accuracy: 9829/10000 (98%)\n",
      "\n",
      "Train Epoch: 10 [0/60000 (0%)]\tLoss: 0.053863\n",
      "Train Epoch: 10 [12800/60000 (21%)]\tLoss: 0.053304\n",
      "Train Epoch: 10 [25600/60000 (43%)]\tLoss: 0.063615\n",
      "Train Epoch: 10 [38400/60000 (64%)]\tLoss: 0.051803\n",
      "Train Epoch: 10 [51200/60000 (85%)]\tLoss: 0.052572\n",
      "\n",
      "Test set: Average loss: 0.9848, Accuracy: 9848/10000 (98%)\n",
      "\n"
     ]
    }
   ],
   "source": [
    "# Deifne model and sent to device\n",
    "model = NetWithoutBatchNorm()\n",
    "\n",
    "# Optimizer: SGD with learning rate of 1e-2 and momentum of 0.5\n",
    "optimizer = optim.SGD(model.parameters(), lr=0.01,momentum=0.5)\n",
    "\n",
    "# Training loop with 10 epochs\n",
    "for epoch in range(1, 10 + 1):\n",
    "\n",
    "    # Train model\n",
    "    # TODO\n",
    "    train(model,device,train_dataloader,optimizer,epoch)\n",
    "    # Test model\n",
    "    test(model,device,test_dataloader)"
   ]
  },
  {
   "cell_type": "markdown",
   "metadata": {
    "id": "xRCI-zz_1WEj",
    "pycharm": {
     "name": "#%% md\n"
    }
   },
   "source": [
    "### 3.4 Train NetWithBatchNorm() [1 pt]"
   ]
  },
  {
   "cell_type": "code",
   "execution_count": null,
   "metadata": {
    "id": "jQtHCqEq1WEj",
    "pycharm": {
     "name": "#%%\n"
    }
   },
   "outputs": [],
   "source": [
    "# Deifne model and sent to device\n",
    "model = # TODO\n",
    "\n",
    "# Optimizer: SGD with learning rate of 1e-2 and momentum of 0.5\n",
    "optimizer = # TODO\n",
    "\n",
    "# Training loop with 10 epochs\n",
    "for epoch in range(1, 10 + 1):\n",
    "    \n",
    "    # Train model\n",
    "    # TODO\n",
    "    \n",
    "    # Test model\n",
    "    # TODO"
   ]
  },
  {
   "cell_type": "markdown",
   "metadata": {
    "id": "Gb9wYwme1WEj",
    "pycharm": {
     "name": "#%% md\n"
    }
   },
   "source": [
    "## 4. Empirically, which of the models achieves higher accuracy faster? [1pt]"
   ]
  },
  {
   "cell_type": "markdown",
   "metadata": {
    "id": "LlY11BPA1WEj",
    "pycharm": {
     "name": "#%% md\n"
    }
   },
   "source": [
    "Answer: "
   ]
  },
  {
   "cell_type": "code",
   "execution_count": null,
   "metadata": {
    "id": "VoYYcWH5EH0y",
    "pycharm": {
     "name": "#%%\n"
    }
   },
   "outputs": [],
   "source": []
  }
 ],
 "metadata": {
  "colab": {
   "collapsed_sections": [],
   "provenance": []
  },
  "kernelspec": {
   "display_name": "Python 3",
   "language": "python",
   "name": "python3"
  },
  "language_info": {
   "codemirror_mode": {
    "name": "ipython",
    "version": 3
   },
   "file_extension": ".py",
   "mimetype": "text/x-python",
   "name": "python",
   "nbconvert_exporter": "python",
   "pygments_lexer": "ipython3",
   "version": "3.6.7"
  }
 },
 "nbformat": 4,
 "nbformat_minor": 0
}